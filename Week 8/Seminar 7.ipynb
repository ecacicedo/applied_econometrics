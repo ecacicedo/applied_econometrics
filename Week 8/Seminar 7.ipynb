{
 "cells": [
  {
   "cell_type": "markdown",
   "id": "8f855cc8",
   "metadata": {},
   "source": [
    "# Seminar 7"
   ]
  },
  {
   "cell_type": "code",
   "execution_count": null,
   "id": "a07753de",
   "metadata": {},
   "outputs": [],
   "source": [
    "# Importing useful libraries and loading data set\n",
    "\n",
    "import numpy as np\n",
    "import pandas as pd\n",
    "import matplotlib.pyplot as plt\n",
    "import seaborn as sns\n",
    "import statsmodels.formula.api as smf"
   ]
  },
  {
   "cell_type": "markdown",
   "id": "d066b1c6",
   "metadata": {},
   "source": [
    "For this  session we will use the [Car Price Prediction](https://www.kaggle.com/datasets/hellbuoy/car-price-prediction?resource=download&select=CarPrice_Assignment.csv) dataset from Kaggle.\n",
    "\n",
    "The object is the predict car prices using the other independent variables."
   ]
  },
  {
   "cell_type": "code",
   "execution_count": null,
   "id": "ffd64b3f",
   "metadata": {},
   "outputs": [],
   "source": [
    "df = pd.read_excel('car_prices.xlsx')\n",
    "df"
   ]
  },
  {
   "cell_type": "markdown",
   "id": "b168bc86",
   "metadata": {},
   "source": [
    "<b>\n",
    "1. Create a correlation matrix between the numerical variables. You may wish to use a heatmap to help visualize\n",
    "</b>"
   ]
  },
  {
   "cell_type": "code",
   "execution_count": null,
   "id": "8f5bdf8f",
   "metadata": {},
   "outputs": [],
   "source": []
  },
  {
   "cell_type": "markdown",
   "id": "cfe3ad02",
   "metadata": {},
   "source": [
    "<b>\n",
    "2. Note that some variables, such as fuletype are categorical, not numerical. Use the pandas function get_dummies() to transform categorical variables into dummy variables.\n",
    "</b>"
   ]
  },
  {
   "cell_type": "code",
   "execution_count": null,
   "id": "13c47001",
   "metadata": {},
   "outputs": [],
   "source": []
  },
  {
   "cell_type": "markdown",
   "id": "e571caf0",
   "metadata": {},
   "source": [
    "<b>\n",
    "3. Regress Price on fueltype_gas, fueltype_diesel, enginesize and horsepower. Is there any potential problems with this model specification? Explain\n",
    "</b>"
   ]
  },
  {
   "cell_type": "code",
   "execution_count": null,
   "id": "2d5d9130",
   "metadata": {},
   "outputs": [],
   "source": []
  },
  {
   "cell_type": "markdown",
   "id": "e1c1eab4",
   "metadata": {},
   "source": [
    "<b>\n",
    "4. Now regress Price on fueltype_gas, enginesize and horsepower.\n",
    "</b>"
   ]
  },
  {
   "cell_type": "code",
   "execution_count": null,
   "id": "24993906",
   "metadata": {},
   "outputs": [],
   "source": []
  },
  {
   "cell_type": "markdown",
   "id": "78327306",
   "metadata": {},
   "source": [
    "<b>\n",
    "5. What is the interpretation for the coefficient of the variable horsepower?\n",
    "</b>"
   ]
  },
  {
   "cell_type": "code",
   "execution_count": null,
   "id": "51919ba0",
   "metadata": {},
   "outputs": [],
   "source": []
  },
  {
   "cell_type": "markdown",
   "id": "89e0e539",
   "metadata": {},
   "source": [
    "<b>\n",
    "6. Create a scatterplot to visualize the relationship between price of the car and car length. Does this relationship look linear?\n",
    "</b>"
   ]
  },
  {
   "cell_type": "code",
   "execution_count": null,
   "id": "6a13bf6b",
   "metadata": {
    "scrolled": true
   },
   "outputs": [],
   "source": []
  },
  {
   "cell_type": "markdown",
   "id": "e4a213e6",
   "metadata": {},
   "source": [
    "<b>\n",
    "7. Create a new variable to represent the squared values of car length.\n",
    "</b>"
   ]
  },
  {
   "cell_type": "code",
   "execution_count": null,
   "id": "eafd2e59",
   "metadata": {},
   "outputs": [],
   "source": []
  },
  {
   "cell_type": "markdown",
   "id": "537a8622",
   "metadata": {},
   "source": [
    "<b>\n",
    "8. Now regress Price on fueltype_gas, enginesize, horsepower, carlength and the squared of car length.\n",
    "</b>"
   ]
  },
  {
   "cell_type": "code",
   "execution_count": null,
   "id": "d9342c36",
   "metadata": {},
   "outputs": [],
   "source": []
  },
  {
   "cell_type": "markdown",
   "id": "9915757d",
   "metadata": {},
   "source": [
    "<b>\n",
    "9. Create a variable for the logarithm of the car price.\n",
    "</b>"
   ]
  },
  {
   "cell_type": "code",
   "execution_count": null,
   "id": "8831df2f",
   "metadata": {},
   "outputs": [],
   "source": []
  },
  {
   "cell_type": "markdown",
   "id": "16c6342d",
   "metadata": {},
   "source": [
    "<b>\n",
    "10. Now regress the logarithm of car price on fueltype_gas, enginesize and horsepower.\n",
    "</b>"
   ]
  },
  {
   "cell_type": "code",
   "execution_count": null,
   "id": "87b14df1",
   "metadata": {},
   "outputs": [],
   "source": []
  },
  {
   "cell_type": "markdown",
   "id": "989479a6",
   "metadata": {},
   "source": [
    "<b>\n",
    "11. What is the interpretation of the coefficient of fueltype_gas?\n",
    "</b>"
   ]
  },
  {
   "cell_type": "code",
   "execution_count": null,
   "id": "58e7bedd",
   "metadata": {},
   "outputs": [],
   "source": []
  },
  {
   "cell_type": "markdown",
   "id": "081d241d",
   "metadata": {},
   "source": [
    "<b>\n",
    "12. Create a variable for the logarithm of horsepower.\n",
    "</b>"
   ]
  },
  {
   "cell_type": "code",
   "execution_count": null,
   "id": "29ce51c3",
   "metadata": {},
   "outputs": [],
   "source": []
  },
  {
   "cell_type": "markdown",
   "id": "d37c8c9f",
   "metadata": {},
   "source": [
    "<b>\n",
    "13. Now regress the logarithm of car price on fueltype_gas, enginesize and logarithm of horsepower.\n",
    "</b>"
   ]
  },
  {
   "cell_type": "code",
   "execution_count": null,
   "id": "53cf3f6e",
   "metadata": {},
   "outputs": [],
   "source": []
  },
  {
   "cell_type": "markdown",
   "id": "91abba15",
   "metadata": {},
   "source": [
    "<b>\n",
    "14. What is the interpretation for the coefficient of the logarithm of horsepower?\n",
    "</b>"
   ]
  },
  {
   "cell_type": "code",
   "execution_count": null,
   "id": "fe5842bb",
   "metadata": {},
   "outputs": [],
   "source": []
  }
 ],
 "metadata": {
  "kernelspec": {
   "display_name": "Python 3 (ipykernel)",
   "language": "python",
   "name": "python3"
  },
  "language_info": {
   "codemirror_mode": {
    "name": "ipython",
    "version": 3
   },
   "file_extension": ".py",
   "mimetype": "text/x-python",
   "name": "python",
   "nbconvert_exporter": "python",
   "pygments_lexer": "ipython3",
   "version": "3.12.4"
  }
 },
 "nbformat": 4,
 "nbformat_minor": 5
}
