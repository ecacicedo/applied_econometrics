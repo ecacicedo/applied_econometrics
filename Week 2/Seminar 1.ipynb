{
 "cells": [
  {
   "cell_type": "markdown",
   "metadata": {},
   "source": [
    "# Introduction to Python\n",
    "\n",
    "## Python 3\n",
    "\n",
    "\n",
    "### Variables and data types\n",
    "\n",
    "Variables allow us to store values. They can be created by asssigning a value to them\n",
    "\n",
    "\n"
   ]
  },
  {
   "cell_type": "code",
   "execution_count": null,
   "metadata": {},
   "outputs": [],
   "source": [
    "x = 5\n",
    "y = \"Finance\"\n",
    "print(x)"
   ]
  },
  {
   "cell_type": "markdown",
   "metadata": {},
   "source": [
    "### Comment\n",
    "\n",
    "To insert a comment in your code, type # and Python will regard the rest of the line as comment."
   ]
  },
  {
   "cell_type": "code",
   "execution_count": null,
   "metadata": {},
   "outputs": [],
   "source": [
    "print(y) # The print function takes an object and prints an output associated with it on the screen"
   ]
  },
  {
   "cell_type": "markdown",
   "metadata": {},
   "source": [
    "Variables store values of different types. These can be specified directly. \n",
    "\n",
    "<b>Strings</b> can store any sequence of characters. They must be defined with quotes (preferrable double).\n",
    "\n",
    "<b>Integers</b> can store whole numbers.\n",
    "\n",
    "<b>Floating points</b> can store numbers with decimals.\n",
    "\n",
    "You can also get the the variable type with the type() function."
   ]
  },
  {
   "cell_type": "code",
   "execution_count": null,
   "metadata": {},
   "outputs": [],
   "source": [
    "a = str(\"Bubble\")   # Data Type = string\n",
    "b = int(10)         # Data Type = integer\n",
    "c = float(1.3)     # Data Type = float\n",
    "\n",
    "print(type(a))\n",
    "print(type(b))\n",
    "print(type(c))"
   ]
  },
  {
   "cell_type": "markdown",
   "metadata": {},
   "source": [
    "### Naming conventions\n",
    "\n",
    "To name variables it is important we follow certain conventions:\n",
    "\n",
    "- Variable name should be meaningful;\n",
    "- Variable name cannot start with a number;\n",
    "- Variable name can olny have alpha-numeric characters and underscore;\n",
    "- Variable name cannot contain blank spaces. For that use underscore;\n",
    "- Variable name is case sensitive."
   ]
  },
  {
   "cell_type": "code",
   "execution_count": null,
   "metadata": {},
   "outputs": [],
   "source": [
    "var2 = 1\n",
    "variableName = 2\n",
    "var_name = 3\n",
    "\n",
    "print(var2, variableName, var_name)"
   ]
  },
  {
   "cell_type": "markdown",
   "metadata": {},
   "source": [
    "### Basic mathematical Operations\n",
    "\n",
    "Arithmetic operators:\n",
    "\n",
    "| Operator | Name | Example |\n",
    "| :-: | :-: | :-: |\n",
    "| + | Addition | a + b |\n",
    "| - | Subtraction | a - b |\n",
    "| * | Multiplication | a * b|\n",
    "| / | Division | a / b|\n",
    "| ** | Exponentiation | a ** b|\n",
    "\n"
   ]
  },
  {
   "cell_type": "code",
   "execution_count": null,
   "metadata": {},
   "outputs": [],
   "source": [
    "a = 4 + 7\n",
    "b = 4 ** 2\n",
    "print(a)\n",
    "print(b)"
   ]
  },
  {
   "cell_type": "markdown",
   "metadata": {},
   "source": [
    "Comparison operators:\n",
    "\n",
    "| Operator | Name | Example |\n",
    "| :-: | :-: | :-: |\n",
    "| == | Equals | a == b |\n",
    "| != | Not equals | a != b |\n",
    "| > | Greater than | a > b\t|\n",
    "| <\t| Less than | a < b |\n",
    "| >= | Greater than or equals to | a >= b |\t\n",
    "| <= | Less than or equas to | a <= b |"
   ]
  },
  {
   "cell_type": "code",
   "execution_count": null,
   "metadata": {},
   "outputs": [],
   "source": [
    "a != b"
   ]
  },
  {
   "cell_type": "markdown",
   "metadata": {},
   "source": [
    "Assignment operators:\n",
    "\n",
    "| Operator | Name | Example | Represents |\n",
    "| :-: | :-: | :-: | :-: |\n",
    "| `+=` | Addition assignment | a `+=` b | a = a + b |\n",
    "| `-=` | Subtraction assignment | a `-=` b | a = a - b |\n",
    "| `*=` | Multiplication assignment | a `*=` b | a = a * b |\n",
    "| `/=` | Division assignment | a `/=` b | a = a / b |\n",
    "| `**=` | Exponentiation assignment | a `**=` b | a = a ** b |"
   ]
  },
  {
   "cell_type": "code",
   "execution_count": null,
   "metadata": {},
   "outputs": [],
   "source": [
    "a = 11\n",
    "a += 5\n",
    "print (a)"
   ]
  },
  {
   "cell_type": "markdown",
   "metadata": {},
   "source": [
    "### If statements\n",
    "\n",
    "Conditional statements can be constructed with <b>if</b> statements\n",
    "\n",
    "Python requires indentation to identify a block of code.\n"
   ]
  },
  {
   "cell_type": "code",
   "execution_count": null,
   "metadata": {},
   "outputs": [],
   "source": [
    "if a > b:\n",
    "    print (\"a is greater than b\")"
   ]
  },
  {
   "cell_type": "markdown",
   "metadata": {},
   "source": [
    "<b>Else</b> statements can be combined with <b>if</b> to execute a code when the previous condition is not satisfied."
   ]
  },
  {
   "cell_type": "code",
   "execution_count": null,
   "metadata": {},
   "outputs": [],
   "source": [
    "if a > b:\n",
    "    print (\"a is greater than b\")\n",
    "else:\n",
    "    print(\"a is less than b\")"
   ]
  },
  {
   "cell_type": "markdown",
   "metadata": {},
   "source": [
    "<b>Elif</b> statements allow to test for multiple conditions"
   ]
  },
  {
   "cell_type": "code",
   "execution_count": null,
   "metadata": {},
   "outputs": [],
   "source": [
    "if a > b:\n",
    "    print (\"a is greater than b\")\n",
    "elif a == b:\n",
    "    print(\"a equals b\")\n",
    "elif a < b:\n",
    "    print(\"a is less than b\")"
   ]
  },
  {
   "cell_type": "markdown",
   "metadata": {},
   "source": [
    "### For loops\n",
    "\n",
    "For statements allows us to loop through a set of code or objects a specified amount of times.\n",
    "\n",
    "The <b>range()</b> function is useful to create a counter.\n",
    "\n",
    "This function has 0 as its starting value and increases at increments of 1 for the number of times specified by us."
   ]
  },
  {
   "cell_type": "code",
   "execution_count": null,
   "metadata": {},
   "outputs": [],
   "source": [
    "for c in range(5):\n",
    "    print(c)"
   ]
  },
  {
   "cell_type": "markdown",
   "metadata": {},
   "source": [
    "It is also possible to specify a different initial value and an ending value for the <b>range()</b> function. The ending value is not included."
   ]
  },
  {
   "cell_type": "code",
   "execution_count": null,
   "metadata": {},
   "outputs": [],
   "source": [
    "for c in range(2, 5):\n",
    "    print(c)"
   ]
  },
  {
   "cell_type": "markdown",
   "metadata": {},
   "source": [
    "<b>Else</b> and <b>Elif</b> statements can be also used to exeucte an opoeration after the loop is concluded."
   ]
  },
  {
   "cell_type": "code",
   "execution_count": null,
   "metadata": {},
   "outputs": [],
   "source": [
    "for c in range(2, 5):\n",
    "    print(c)\n",
    "else:\n",
    "    print(\"Task completed\")"
   ]
  },
  {
   "cell_type": "markdown",
   "metadata": {},
   "source": [
    "### Libraries\n",
    "\n",
    "Python libraries contain built-in functionalities that are helpful to perfom mathematical operations.\n",
    "\n",
    "[<b>Numpy</b>](https://numpy.org/doc/stable/reference/index.html) is a library used for working with arrays."
   ]
  },
  {
   "cell_type": "code",
   "execution_count": null,
   "metadata": {},
   "outputs": [],
   "source": [
    "import numpy as np\n",
    "\n",
    "array = np.array((0,1,2,3,4,5,6,7,8)) # creating an array\n",
    "\n",
    "print(array)"
   ]
  },
  {
   "cell_type": "code",
   "execution_count": null,
   "metadata": {},
   "outputs": [],
   "source": [
    "x = array[0] # getting the value of the first array item (index 0) and assigning to variable x\n",
    "\n",
    "print(\"The value of the first item is\", x)"
   ]
  },
  {
   "cell_type": "code",
   "execution_count": null,
   "metadata": {},
   "outputs": [],
   "source": [
    "print (array[1:4]) # slicing items from index 1 to 4 (excluded)"
   ]
  },
  {
   "cell_type": "code",
   "execution_count": null,
   "metadata": {},
   "outputs": [],
   "source": [
    "print (array[2:]) # slicing items from index 2 to the end of the array"
   ]
  },
  {
   "cell_type": "code",
   "execution_count": null,
   "metadata": {},
   "outputs": [],
   "source": [
    "print (array[:5]) # slicing items from the beginning of the array to index 5 (excluded)"
   ]
  },
  {
   "cell_type": "code",
   "execution_count": null,
   "metadata": {},
   "outputs": [],
   "source": [
    "np.exp(4) # Natural exponentiation"
   ]
  },
  {
   "cell_type": "code",
   "execution_count": null,
   "metadata": {},
   "outputs": [],
   "source": [
    "np.log(4) # Natural logarithm"
   ]
  },
  {
   "cell_type": "code",
   "execution_count": null,
   "metadata": {},
   "outputs": [],
   "source": [
    "np.sum(array) # Sum "
   ]
  },
  {
   "cell_type": "code",
   "execution_count": null,
   "metadata": {},
   "outputs": [],
   "source": [
    "np.mean(array) # Mean"
   ]
  },
  {
   "cell_type": "code",
   "execution_count": null,
   "metadata": {},
   "outputs": [],
   "source": [
    "np.std(array) # Standard Deviation"
   ]
  },
  {
   "cell_type": "markdown",
   "metadata": {},
   "source": [
    "[<b>Pandas</b>](https://pandas.pydata.org/docs/) is a library used for working with data sets."
   ]
  },
  {
   "cell_type": "code",
   "execution_count": null,
   "metadata": {},
   "outputs": [],
   "source": [
    "import pandas as pd\n",
    "\n",
    "data = pd.read_excel(\"caschool.xlsx\") # Importing our data set as a Pandas Data Frame\n",
    "\n",
    "data"
   ]
  },
  {
   "cell_type": "markdown",
   "metadata": {},
   "source": [
    "We can also use Pandas to create tables from arrays.\n",
    "\n",
    "Suppose we wish to create the following table:\n",
    "\n",
    "\n",
    "| row name    | column 1 | column 2\n",
    "| -------- | ------- | -------\n",
    "| first row| 1   | 2\n",
    "| second row|3     | 4\n",
    "\n"
   ]
  },
  {
   "cell_type": "code",
   "execution_count": null,
   "metadata": {},
   "outputs": [],
   "source": [
    "# Initialize data in rows\n",
    "data = [['first row', 1, 2], ['second row', 3, 4]]\n",
    "\n",
    "# Create the pandas DataFrame\n",
    "df = pd.DataFrame(data, columns=['row name', 'column 1', 'column 2'])\n",
    "\n",
    "print(df)"
   ]
  },
  {
   "cell_type": "markdown",
   "metadata": {},
   "source": [
    "# Practice Questions"
   ]
  },
  {
   "attachments": {},
   "cell_type": "markdown",
   "metadata": {},
   "source": [
    "## Question 1\n",
    "\n",
    "Using the same table below, answer the following questions"
   ]
  },
  {
   "cell_type": "markdown",
   "metadata": {},
   "source": [
    "|  | Unemployed (Y=0) | Employed (Y=1) | Total |\n",
    "| :-: | :-: | :-: | :-: | \n",
    "| Non-college grads (X=1) | 0.078 | 0.673 | 0.751 |\n",
    "| College grads (X=1)| 0.042 | 0.207 | 0.249 |\n",
    "| Total | 0.12 | 0.88 | 1.000 |"
   ]
  },
  {
   "cell_type": "markdown",
   "metadata": {},
   "source": [
    "<b> a. Recreate this table in Python as a Pandas Data Frame </b>"
   ]
  },
  {
   "cell_type": "code",
   "execution_count": null,
   "metadata": {},
   "outputs": [],
   "source": []
  },
  {
   "cell_type": "markdown",
   "metadata": {},
   "source": [
    "<b> b. Compute the marginal distribution of Y </b> "
   ]
  },
  {
   "cell_type": "code",
   "execution_count": null,
   "metadata": {},
   "outputs": [],
   "source": []
  },
  {
   "cell_type": "markdown",
   "metadata": {},
   "source": [
    "<b> c. Find E(Y) </b> "
   ]
  },
  {
   "cell_type": "code",
   "execution_count": null,
   "metadata": {},
   "outputs": [],
   "source": []
  },
  {
   "cell_type": "markdown",
   "metadata": {},
   "source": [
    "<b> d. Find E(Y|X=0) and E(Y|X=1) </b>"
   ]
  },
  {
   "cell_type": "code",
   "execution_count": null,
   "metadata": {},
   "outputs": [],
   "source": []
  },
  {
   "cell_type": "markdown",
   "metadata": {},
   "source": [
    "<b> e. Find the difference in means </b>"
   ]
  },
  {
   "cell_type": "code",
   "execution_count": null,
   "metadata": {},
   "outputs": [],
   "source": []
  },
  {
   "cell_type": "markdown",
   "metadata": {},
   "source": [
    "## Question 2\n",
    "\n",
    "The spreadsheet 'Age_HourlyEarnings.xlsx', contains the joint distribution of age (Age) and average hourly earnings (AHE) for 25- to 34-year-old full-time workers in 2015 with an education level that exceeds a high school diploma. Use this joint distribution to carry out the following exercises.\n",
    "\n",
    "The dataset is used in the reference textbook Introduction to Econometrics, 4th edition (Stock and Watson).\n",
    "\n",
    "<b>\n",
    "\n",
    "Download the dataset [here](https://www.princeton.edu/~mwatson/Stock-Watson_3u/Students/EE_Datasets/Age_HourlyEarnings.xlsx)\n",
    "</b>"
   ]
  },
  {
   "cell_type": "code",
   "execution_count": null,
   "metadata": {},
   "outputs": [],
   "source": [
    "ahe = pd.read_excel('Age_HourlyEarnings.xlsx')"
   ]
  },
  {
   "cell_type": "markdown",
   "metadata": {},
   "source": [
    "<b> a. Compute the marginal distribution of Age<b/>"
   ]
  },
  {
   "cell_type": "code",
   "execution_count": null,
   "metadata": {},
   "outputs": [],
   "source": []
  },
  {
   "cell_type": "markdown",
   "metadata": {},
   "source": [
    "<b> b. Compute the mean of AHE for each value of Age; that is, compute, E(AHE|Age = 25), and so forth </b>"
   ]
  },
  {
   "cell_type": "code",
   "execution_count": null,
   "metadata": {},
   "outputs": [],
   "source": []
  },
  {
   "cell_type": "markdown",
   "metadata": {},
   "source": [
    "<b> c. Compute and plot the mean of AHE versus Age. Are average hourly earnings and age related? Explain. <b/>"
   ]
  },
  {
   "cell_type": "code",
   "execution_count": null,
   "metadata": {},
   "outputs": [],
   "source": []
  }
 ],
 "metadata": {
  "kernelspec": {
   "display_name": "Python 3 (ipykernel)",
   "language": "python",
   "name": "python3"
  },
  "language_info": {
   "codemirror_mode": {
    "name": "ipython",
    "version": 3
   },
   "file_extension": ".py",
   "mimetype": "text/x-python",
   "name": "python",
   "nbconvert_exporter": "python",
   "pygments_lexer": "ipython3",
   "version": "3.12.4"
  }
 },
 "nbformat": 4,
 "nbformat_minor": 4
}
