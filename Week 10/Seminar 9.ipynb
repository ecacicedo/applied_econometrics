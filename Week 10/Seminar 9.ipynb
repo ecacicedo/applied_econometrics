{
 "cells": [
  {
   "cell_type": "markdown",
   "id": "9e1e8029",
   "metadata": {},
   "source": [
    "# Seminar 9"
   ]
  },
  {
   "cell_type": "markdown",
   "id": "9f420b05-5c12-4d79-ac5a-744fbb81d927",
   "metadata": {},
   "source": [
    "Read the text in the box named \"Can You Beat the Market?\" in pages 564 and 565 of the reference textbook Introduction to Econometrics, 4th edition \n",
    "(Stock and Watson)."
   ]
  },
  {
   "cell_type": "markdown",
   "id": "c0332d6e",
   "metadata": {},
   "source": [
    "<b>\n",
    "\n",
    "Download the dataset [here](https://www.princeton.edu/~mwatson/Stock-Watson_3u/Students/EE_Datasets/Stock_Returns_1931_2002.xlsx) and answer the following questions below\n",
    "    \n",
    "</b>"
   ]
  },
  {
   "cell_type": "markdown",
   "id": "9119db70",
   "metadata": {},
   "source": [
    "<b>\n",
    "\n",
    "1. Plot the series ExReturn and ln_DivYield.\n",
    "\n",
    "</b>"
   ]
  },
  {
   "cell_type": "code",
   "execution_count": null,
   "id": "e2c31b99",
   "metadata": {},
   "outputs": [],
   "source": [
    "# Importing useful libraries and loading data set\n",
    "\n",
    "import numpy as np\n",
    "import pandas as pd \n",
    "import seaborn as sns\n",
    "import statsmodels.api as sm\n",
    "import matplotlib.pyplot as plt\n",
    "import statsmodels.formula.api as smf\n",
    "import statsmodels.stats.api as sms\n",
    "import statsmodels.graphics.tsaplots as sts\n",
    "import statsmodels.tsa.arima_process as sta\n",
    "import statsmodels.tsa.arima.model as stm\n",
    "import statsmodels.tsa.ar_model as arm\n",
    "import statsmodels.tsa.stattools as stt\n",
    "import statsmodels.tsa.api as tsa"
   ]
  },
  {
   "cell_type": "code",
   "execution_count": null,
   "id": "28209b37",
   "metadata": {},
   "outputs": [],
   "source": [
    "# Loading the data set\n",
    "\n",
    "df = pd.read_excel(\"Stock_Returns_1931_2002.xlsx\")\n",
    "df"
   ]
  },
  {
   "cell_type": "markdown",
   "id": "bdb4f2bc",
   "metadata": {},
   "source": [
    "<b>\n",
    "\n",
    "2. Repeat the calculations reported in Table 15.2 using regressions estimated over the 1931:M1–2002:M12 sample period. <br>\n",
    "    \n",
    "You should fit the AR(1), AR(2) and AR(4) models for the excess reutrn.<br>\n",
    "    \n",
    "Write the regression equations of the models you are estimating.<br>\n",
    " \n",
    "</b>"
   ]
  },
  {
   "cell_type": "code",
   "execution_count": null,
   "id": "ce277663",
   "metadata": {},
   "outputs": [],
   "source": []
  },
  {
   "cell_type": "markdown",
   "id": "118d69b3",
   "metadata": {},
   "source": [
    "<b>\n",
    "    \n",
    "3. Use the ADF test for stationary of the ExReturn series. Based on the result of the test, is the Excess Return series stationary?\n",
    "    \n",
    "</b>"
   ]
  },
  {
   "cell_type": "code",
   "execution_count": null,
   "id": "d81ffaac",
   "metadata": {},
   "outputs": [],
   "source": []
  },
  {
   "cell_type": "markdown",
   "id": "d3928f85",
   "metadata": {},
   "source": [
    "<b>\n",
    "\n",
    "4. Construct pseudo out-of-sample forecasts of excess returns over the 1983:M1–2002:M12 period using regressions that begin in 1931:M1\n",
    "\n",
    "(You might need to slice your data set so that you fit the model only using observations such that the time column is less than 1983).   \n",
    "   \n",
    "</b>"
   ]
  },
  {
   "cell_type": "code",
   "execution_count": null,
   "id": "08e6238c",
   "metadata": {},
   "outputs": [],
   "source": []
  },
  {
   "cell_type": "markdown",
   "id": "af3b04cc",
   "metadata": {},
   "source": [
    "<b>\n",
    "\n",
    "5. Plot the pseudo out-of-sample forecasts against the actual excess returns after 1983.\n",
    "    \n",
    "</b>"
   ]
  },
  {
   "cell_type": "code",
   "execution_count": null,
   "id": "23308bf2",
   "metadata": {},
   "outputs": [],
   "source": []
  },
  {
   "cell_type": "markdown",
   "id": "7596bdf4",
   "metadata": {},
   "source": [
    "<b>\n",
    "\n",
    "6. Fit a Distributed Model model for the Excess Returns using the log of Dividend Yield. Write the model down.\n",
    "    \n",
    "</b>"
   ]
  },
  {
   "cell_type": "code",
   "execution_count": null,
   "id": "b9702a99",
   "metadata": {},
   "outputs": [],
   "source": []
  },
  {
   "cell_type": "markdown",
   "id": "724c9a38",
   "metadata": {},
   "source": [
    "<b>\n",
    "\n",
    "7. Is the coefficient for the log of dividend yield significant?\n",
    "    \n",
    "</b>"
   ]
  },
  {
   "cell_type": "code",
   "execution_count": null,
   "id": "09aaca45",
   "metadata": {},
   "outputs": [],
   "source": []
  },
  {
   "cell_type": "markdown",
   "id": "00d716c2",
   "metadata": {},
   "source": [
    "<b>\n",
    "\n",
    "8. Create a residual plot for this model. Discuss the fit of the model.\n",
    "    \n",
    "</b>"
   ]
  },
  {
   "cell_type": "code",
   "execution_count": null,
   "id": "53533f5e",
   "metadata": {},
   "outputs": [],
   "source": []
  }
 ],
 "metadata": {
  "kernelspec": {
   "display_name": "Python 3 (ipykernel)",
   "language": "python",
   "name": "python3"
  },
  "language_info": {
   "codemirror_mode": {
    "name": "ipython",
    "version": 3
   },
   "file_extension": ".py",
   "mimetype": "text/x-python",
   "name": "python",
   "nbconvert_exporter": "python",
   "pygments_lexer": "ipython3",
   "version": "3.12.4"
  }
 },
 "nbformat": 4,
 "nbformat_minor": 5
}
