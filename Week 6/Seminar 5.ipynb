{
 "cells": [
  {
   "cell_type": "markdown",
   "id": "e4a8d7d6-d669-4dd6-a5e4-61750a9b8d01",
   "metadata": {},
   "source": [
    "# Seminar 5"
   ]
  },
  {
   "cell_type": "markdown",
   "id": "8f855cc8",
   "metadata": {},
   "source": [
    "The data file <b>birthweight_smoking.xls</b> contains data for a random sample of babies born in Pennsylvania in 1989. \n",
    "\n",
    "The data include the baby's birth weight together with various characteristics of the mother, including whether she smoked during her pregnancy.\n",
    "\n",
    "You can download the data from [here](https://www.princeton.edu/~mwatson/Stock-Watson_3u/Students/EE_Datasets/birthweight_smoking.xlsx).\n",
    "\n",
    "A detailed description is given [here](https://www.princeton.edu/~mwatson/Stock-Watson_3u/Students/EE_Datasets/Birthweight_Smoking_Description.pdf). \n",
    "\n",
    "The dataset is used in the reference textbook Introduction to Econometrics, 4th edition \n",
    "(Stock and Watson).\n",
    "\n",
    "In the exercises below we will investigate the relationship between birth weight and smoking during pregnancy.\n",
    "\n",
    "Using this dataset and excluding Malta, answer the following questions:"
   ]
  },
  {
   "cell_type": "code",
   "execution_count": null,
   "id": "4e79b206",
   "metadata": {},
   "outputs": [],
   "source": [
    "# Importing useful libraries\n",
    "\n",
    "import numpy as np\n",
    "import pandas as pd\n",
    "import matplotlib.pyplot as plt\n",
    "import statsmodels.formula.api as smf\n",
    "import scipy.stats as st\n",
    "from tabulate import tabulate"
   ]
  },
  {
   "cell_type": "code",
   "execution_count": null,
   "id": "ba5b0a0a",
   "metadata": {},
   "outputs": [],
   "source": [
    "# Loading the data set\n",
    "df = pd.read_excel(\"Growth.xlsx\")\n",
    "df_xm = df[df.country_name!=\"Malta\"]\n",
    "df_xm"
   ]
  },
  {
   "cell_type": "markdown",
   "id": "1471215a",
   "metadata": {},
   "source": [
    "<b> 1. Construct a table that shows the sample mean, standard deviation, and minimum and maximum values for the series Growth, TradeShare, YearsSchool, Oil, Rev_Coups, Assassinations, and RGDP60. Use the function <i>describe()</i></b>"
   ]
  },
  {
   "cell_type": "code",
   "execution_count": null,
   "id": "7ec5b06c",
   "metadata": {},
   "outputs": [],
   "source": []
  },
  {
   "cell_type": "markdown",
   "id": "c1c292c2",
   "metadata": {},
   "source": [
    "<b> 2. Run a regression of Growth on TradeShare, YearsSchool, Rev_Coups, Assasinations, and RGDP60. Is there a problem with the regression? why?"
   ]
  },
  {
   "cell_type": "code",
   "execution_count": null,
   "id": "f5311193",
   "metadata": {},
   "outputs": [],
   "source": []
  },
  {
   "cell_type": "markdown",
   "id": "c15feffd",
   "metadata": {},
   "source": [
    "<b> 3. Rewrite the variable rgdp60 by changing its units to thousands of dollars. What is the value of the coefficient on Rev_Coups? Interpret the value of this coefficient. Is the coefficient significant? </b>"
   ]
  },
  {
   "cell_type": "code",
   "execution_count": null,
   "id": "295f38b0",
   "metadata": {},
   "outputs": [],
   "source": []
  },
  {
   "cell_type": "markdown",
   "id": "c5de5854",
   "metadata": {},
   "source": [
    "<b> 4. Use the regression to predict the average annual growth rate for a country that has average values for all regressors. </b>"
   ]
  },
  {
   "cell_type": "code",
   "execution_count": null,
   "id": "86f9fc06",
   "metadata": {},
   "outputs": [],
   "source": []
  },
  {
   "cell_type": "markdown",
   "id": "fd8680e0",
   "metadata": {},
   "source": [
    "<b> 5. Repeat 4., but now assume that the country’s value for TradeShare is one standard deviation above the mean. </b>"
   ]
  },
  {
   "cell_type": "code",
   "execution_count": null,
   "id": "33a4b43f",
   "metadata": {},
   "outputs": [],
   "source": []
  },
  {
   "cell_type": "markdown",
   "id": "6df4bd10",
   "metadata": {},
   "source": [
    "<b> 6. Why is Oil omitted from the regression? What would happen if it were included? </b>"
   ]
  },
  {
   "cell_type": "code",
   "execution_count": null,
   "id": "90895487",
   "metadata": {},
   "outputs": [],
   "source": []
  },
  {
   "cell_type": "markdown",
   "id": "6fb5c18e",
   "metadata": {},
   "source": [
    "## Exercise 2\n",
    "\n",
    "The file <b>microsoft.xlsx</b> contains data on the daily share price of Microsoft from 2002 to 2022. It also contains the Excess return of the market and other four factors that can help explain the excess returns of Microsoft shares.\n",
    "\n",
    "The factor and market data were obtained from Kenneth French's website [here](https://mba.tuck.dartmouth.edu/pages/faculty/ken.french/data_library.html) and they are part of the [Fama and French (1993)](https://www.sciencedirect.com/science/article/abs/pii/0304405X93900235) three factor model and [Fama and French (2013)](https://papers.ssrn.com/sol3/papers.cfm?abstract_id=2287202) five factor model.\n",
    "\n",
    "[Here](https://mba.tuck.dartmouth.edu/pages/faculty/ken.french/data_library/f-f_5_factors_2x3.html#:~:text=The%20Fama%2FFrench%205%20factors,formed%20on%20size%20and%20investment.) is a brief description of the five factor model.\n",
    "\n",
    "The Column RF corresponds to the risk-free rate and the column Mkt-Rf is the excess return of the markets."
   ]
  },
  {
   "cell_type": "code",
   "execution_count": null,
   "id": "102ace18",
   "metadata": {},
   "outputs": [],
   "source": [
    "data = pd.read_excel(\"microsoft.xlsx\")\n",
    "data"
   ]
  },
  {
   "cell_type": "markdown",
   "id": "f8d6a075",
   "metadata": {},
   "source": [
    "<b> 1. Create a new column to the dataset with the excess return of Microsoft. The excess return is\n",
    "\n",
    "$$  R_{Microsoft} - R_{risk-free} $$\n",
    "\n",
    "</b>"
   ]
  },
  {
   "cell_type": "code",
   "execution_count": null,
   "id": "0fe29242",
   "metadata": {},
   "outputs": [],
   "source": []
  },
  {
   "cell_type": "markdown",
   "id": "a5cf60f6",
   "metadata": {},
   "source": [
    "<b> 2. Run the Capital Asset Pricing Model for Microsoft Returns whose population regression is\n",
    "\n",
    "$$ R_{Microsoft} - R_{risk-free} = \\beta_{0} + \\beta_{1} \\times (R_{Market} - R_{risk-free}) $$\n",
    "\n",
    "What is the coefficient for the excess return of the market? What is the meaning? Is it significant? Write down the estimated regression line. </b>"
   ]
  },
  {
   "cell_type": "code",
   "execution_count": null,
   "id": "d99c0fc6",
   "metadata": {},
   "outputs": [],
   "source": []
  },
  {
   "cell_type": "markdown",
   "id": "a79a3a26",
   "metadata": {},
   "source": [
    "<b>\n",
    "3. Run the three factor model whose population regression line is\n",
    "\n",
    "$$ R_{Microsoft} - R_{risk-free} = \\beta_{0} + \\beta_{1} \\times (R_{Market} - R_{risk-free}) + \\beta_{2} \\times SMB + \\beta_{3} \\times HML$$\n",
    "\n",
    "Explain the meaning of the coefficients. Are they significant? Was there an improvement in fit? Write down the estimated regression line.\n",
    "</b>"
   ]
  },
  {
   "cell_type": "code",
   "execution_count": null,
   "id": "74a77a73",
   "metadata": {},
   "outputs": [],
   "source": []
  },
  {
   "cell_type": "markdown",
   "id": "d54eb476",
   "metadata": {},
   "source": [
    "<b>\n",
    "4. Run the five factor model whose population regression line is\n",
    "\n",
    "$$ R_{Microsoft} - R_{risk-free} = \\beta_{0} + \\beta_{1} \\times (R_{Market} - R_{risk-free}) + \\beta_{2} \\times SMB + \\beta_{3} \\times HML + \\beta_{4} \\times RMW + \\beta_{5} \\times CMA$$\n",
    "\n",
    "Explain the meaning of the coefficients. Are they significant? Was there an improvement in fit? Write down the estimated regression line.\n",
    "</b>"
   ]
  },
  {
   "cell_type": "code",
   "execution_count": null,
   "id": "9cb70bad",
   "metadata": {},
   "outputs": [],
   "source": []
  }
 ],
 "metadata": {
  "kernelspec": {
   "display_name": "Python 3 (ipykernel)",
   "language": "python",
   "name": "python3"
  },
  "language_info": {
   "codemirror_mode": {
    "name": "ipython",
    "version": 3
   },
   "file_extension": ".py",
   "mimetype": "text/x-python",
   "name": "python",
   "nbconvert_exporter": "python",
   "pygments_lexer": "ipython3",
   "version": "3.12.4"
  }
 },
 "nbformat": 4,
 "nbformat_minor": 5
}
