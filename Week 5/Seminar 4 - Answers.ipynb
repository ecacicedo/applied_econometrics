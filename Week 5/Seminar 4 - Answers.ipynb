{
 "cells": [
  {
   "cell_type": "markdown",
   "id": "397cbaee",
   "metadata": {},
   "source": [
    "# Seminar 4 - Answers"
   ]
  },
  {
   "cell_type": "markdown",
   "id": "055361fc",
   "metadata": {},
   "source": [
    "The data file <b>birthweight_smoking.xls</b> contains data for a random sample of babies born in Pennsylvania in 1989. \n",
    "\n",
    "The data include the baby's birth weight together with various characteristics of the mother, including whether she smoked during her pregnancy.\n",
    "\n",
    "You can download the data from [here](https://www.princeton.edu/~mwatson/Stock-Watson_3u/Students/EE_Datasets/birthweight_smoking.xlsx).\n",
    "\n",
    "A detailed description is given [here](https://www.princeton.edu/~mwatson/Stock-Watson_3u/Students/EE_Datasets/Birthweight_Smoking_Description.pdf). \n",
    "\n",
    "The dataset is used in the reference textbook Introduction to Econometrics, 4th edition \n",
    "(Stock and Watson).\n",
    "\n",
    "In the exercises below we will investigate the relationship between birth weight and smoking during pregnancy.\n",
    "\n",
    "Using this dataset, answer the following questions:"
   ]
  },
  {
   "cell_type": "code",
   "execution_count": 1,
   "id": "bc535dbf",
   "metadata": {},
   "outputs": [],
   "source": [
    "# Importing useful libraries\n",
    "\n",
    "import numpy as np\n",
    "import pandas as pd\n",
    "import matplotlib.pyplot as plt\n",
    "import seaborn as sns\n",
    "from statsmodels.compat import lzip\n",
    "import statsmodels.stats.diagnostic as smd\n",
    "import statsmodels.formula.api as smf"
   ]
  },
  {
   "cell_type": "code",
   "execution_count": 2,
   "id": "38558ab4",
   "metadata": {},
   "outputs": [
    {
     "data": {
      "text/html": [
       "<div>\n",
       "<style scoped>\n",
       "    .dataframe tbody tr th:only-of-type {\n",
       "        vertical-align: middle;\n",
       "    }\n",
       "\n",
       "    .dataframe tbody tr th {\n",
       "        vertical-align: top;\n",
       "    }\n",
       "\n",
       "    .dataframe thead th {\n",
       "        text-align: right;\n",
       "    }\n",
       "</style>\n",
       "<table border=\"1\" class=\"dataframe\">\n",
       "  <thead>\n",
       "    <tr style=\"text-align: right;\">\n",
       "      <th></th>\n",
       "      <th>nprevist</th>\n",
       "      <th>alcohol</th>\n",
       "      <th>tripre1</th>\n",
       "      <th>tripre2</th>\n",
       "      <th>tripre3</th>\n",
       "      <th>tripre0</th>\n",
       "      <th>birthweight</th>\n",
       "      <th>smoker</th>\n",
       "      <th>unmarried</th>\n",
       "      <th>educ</th>\n",
       "      <th>age</th>\n",
       "      <th>drinks</th>\n",
       "    </tr>\n",
       "  </thead>\n",
       "  <tbody>\n",
       "    <tr>\n",
       "      <th>0</th>\n",
       "      <td>12</td>\n",
       "      <td>0</td>\n",
       "      <td>1</td>\n",
       "      <td>0</td>\n",
       "      <td>0</td>\n",
       "      <td>0</td>\n",
       "      <td>4253</td>\n",
       "      <td>1</td>\n",
       "      <td>1</td>\n",
       "      <td>12</td>\n",
       "      <td>27</td>\n",
       "      <td>0</td>\n",
       "    </tr>\n",
       "    <tr>\n",
       "      <th>1</th>\n",
       "      <td>5</td>\n",
       "      <td>0</td>\n",
       "      <td>0</td>\n",
       "      <td>1</td>\n",
       "      <td>0</td>\n",
       "      <td>0</td>\n",
       "      <td>3459</td>\n",
       "      <td>0</td>\n",
       "      <td>0</td>\n",
       "      <td>16</td>\n",
       "      <td>24</td>\n",
       "      <td>0</td>\n",
       "    </tr>\n",
       "    <tr>\n",
       "      <th>2</th>\n",
       "      <td>12</td>\n",
       "      <td>0</td>\n",
       "      <td>1</td>\n",
       "      <td>0</td>\n",
       "      <td>0</td>\n",
       "      <td>0</td>\n",
       "      <td>2920</td>\n",
       "      <td>1</td>\n",
       "      <td>0</td>\n",
       "      <td>11</td>\n",
       "      <td>23</td>\n",
       "      <td>0</td>\n",
       "    </tr>\n",
       "    <tr>\n",
       "      <th>3</th>\n",
       "      <td>13</td>\n",
       "      <td>0</td>\n",
       "      <td>1</td>\n",
       "      <td>0</td>\n",
       "      <td>0</td>\n",
       "      <td>0</td>\n",
       "      <td>2600</td>\n",
       "      <td>0</td>\n",
       "      <td>0</td>\n",
       "      <td>17</td>\n",
       "      <td>28</td>\n",
       "      <td>0</td>\n",
       "    </tr>\n",
       "    <tr>\n",
       "      <th>4</th>\n",
       "      <td>9</td>\n",
       "      <td>0</td>\n",
       "      <td>1</td>\n",
       "      <td>0</td>\n",
       "      <td>0</td>\n",
       "      <td>0</td>\n",
       "      <td>3742</td>\n",
       "      <td>0</td>\n",
       "      <td>0</td>\n",
       "      <td>13</td>\n",
       "      <td>27</td>\n",
       "      <td>0</td>\n",
       "    </tr>\n",
       "    <tr>\n",
       "      <th>...</th>\n",
       "      <td>...</td>\n",
       "      <td>...</td>\n",
       "      <td>...</td>\n",
       "      <td>...</td>\n",
       "      <td>...</td>\n",
       "      <td>...</td>\n",
       "      <td>...</td>\n",
       "      <td>...</td>\n",
       "      <td>...</td>\n",
       "      <td>...</td>\n",
       "      <td>...</td>\n",
       "      <td>...</td>\n",
       "    </tr>\n",
       "    <tr>\n",
       "      <th>2995</th>\n",
       "      <td>15</td>\n",
       "      <td>0</td>\n",
       "      <td>0</td>\n",
       "      <td>1</td>\n",
       "      <td>0</td>\n",
       "      <td>0</td>\n",
       "      <td>2520</td>\n",
       "      <td>0</td>\n",
       "      <td>0</td>\n",
       "      <td>12</td>\n",
       "      <td>42</td>\n",
       "      <td>0</td>\n",
       "    </tr>\n",
       "    <tr>\n",
       "      <th>2996</th>\n",
       "      <td>10</td>\n",
       "      <td>0</td>\n",
       "      <td>1</td>\n",
       "      <td>0</td>\n",
       "      <td>0</td>\n",
       "      <td>0</td>\n",
       "      <td>3062</td>\n",
       "      <td>0</td>\n",
       "      <td>0</td>\n",
       "      <td>17</td>\n",
       "      <td>27</td>\n",
       "      <td>0</td>\n",
       "    </tr>\n",
       "    <tr>\n",
       "      <th>2997</th>\n",
       "      <td>11</td>\n",
       "      <td>0</td>\n",
       "      <td>0</td>\n",
       "      <td>1</td>\n",
       "      <td>0</td>\n",
       "      <td>0</td>\n",
       "      <td>3799</td>\n",
       "      <td>0</td>\n",
       "      <td>0</td>\n",
       "      <td>12</td>\n",
       "      <td>28</td>\n",
       "      <td>0</td>\n",
       "    </tr>\n",
       "    <tr>\n",
       "      <th>2998</th>\n",
       "      <td>10</td>\n",
       "      <td>0</td>\n",
       "      <td>1</td>\n",
       "      <td>0</td>\n",
       "      <td>0</td>\n",
       "      <td>0</td>\n",
       "      <td>2070</td>\n",
       "      <td>1</td>\n",
       "      <td>0</td>\n",
       "      <td>11</td>\n",
       "      <td>21</td>\n",
       "      <td>0</td>\n",
       "    </tr>\n",
       "    <tr>\n",
       "      <th>2999</th>\n",
       "      <td>11</td>\n",
       "      <td>0</td>\n",
       "      <td>1</td>\n",
       "      <td>0</td>\n",
       "      <td>0</td>\n",
       "      <td>0</td>\n",
       "      <td>2948</td>\n",
       "      <td>0</td>\n",
       "      <td>0</td>\n",
       "      <td>14</td>\n",
       "      <td>23</td>\n",
       "      <td>0</td>\n",
       "    </tr>\n",
       "  </tbody>\n",
       "</table>\n",
       "<p>3000 rows × 12 columns</p>\n",
       "</div>"
      ],
      "text/plain": [
       "      nprevist  alcohol  tripre1  tripre2  tripre3  tripre0  birthweight  \\\n",
       "0           12        0        1        0        0        0         4253   \n",
       "1            5        0        0        1        0        0         3459   \n",
       "2           12        0        1        0        0        0         2920   \n",
       "3           13        0        1        0        0        0         2600   \n",
       "4            9        0        1        0        0        0         3742   \n",
       "...        ...      ...      ...      ...      ...      ...          ...   \n",
       "2995        15        0        0        1        0        0         2520   \n",
       "2996        10        0        1        0        0        0         3062   \n",
       "2997        11        0        0        1        0        0         3799   \n",
       "2998        10        0        1        0        0        0         2070   \n",
       "2999        11        0        1        0        0        0         2948   \n",
       "\n",
       "      smoker  unmarried  educ  age  drinks  \n",
       "0          1          1    12   27       0  \n",
       "1          0          0    16   24       0  \n",
       "2          1          0    11   23       0  \n",
       "3          0          0    17   28       0  \n",
       "4          0          0    13   27       0  \n",
       "...      ...        ...   ...  ...     ...  \n",
       "2995       0          0    12   42       0  \n",
       "2996       0          0    17   27       0  \n",
       "2997       0          0    12   28       0  \n",
       "2998       1          0    11   21       0  \n",
       "2999       0          0    14   23       0  \n",
       "\n",
       "[3000 rows x 12 columns]"
      ]
     },
     "execution_count": 2,
     "metadata": {},
     "output_type": "execute_result"
    }
   ],
   "source": [
    "# Loading the data set\n",
    "\n",
    "df = pd.read_excel(\"birthweight_smoking.xlsx\")\n",
    "df"
   ]
  },
  {
   "cell_type": "markdown",
   "id": "50f74234",
   "metadata": {},
   "source": [
    "<b>\n",
    "1. What is the average value of Birthweight for all mothers?\n",
    "</b>"
   ]
  },
  {
   "cell_type": "code",
   "execution_count": 3,
   "id": "c93866c8",
   "metadata": {},
   "outputs": [
    {
     "name": "stdout",
     "output_type": "stream",
     "text": [
      "The average birthweight is 3382.93\n"
     ]
    }
   ],
   "source": [
    "avg_birthweight = np.mean(df.birthweight)\n",
    "\n",
    "print(f\"The average birthweight is {round(avg_birthweight,2)}\")"
   ]
  },
  {
   "cell_type": "markdown",
   "id": "1460007d",
   "metadata": {},
   "source": [
    "<b>\n",
    "2. What is the average value of Birthweight for mothers who smoke?\n",
    "</b>"
   ]
  },
  {
   "cell_type": "code",
   "execution_count": 4,
   "id": "cefa8bb8",
   "metadata": {},
   "outputs": [
    {
     "name": "stdout",
     "output_type": "stream",
     "text": [
      "The average birthweight for mothers who smoke is 3178.83\n"
     ]
    }
   ],
   "source": [
    "avg_birthweight_smoker = np.mean(df.birthweight[df.smoker == 1])\n",
    "\n",
    "print(f\"The average birthweight for mothers who smoke is {round(avg_birthweight_smoker,2)}\")"
   ]
  },
  {
   "cell_type": "markdown",
   "id": "fd9fa707",
   "metadata": {},
   "source": [
    "<b>\n",
    "3. What is the average value of Birthweight for mothers who do not smoke?\n",
    "</b>"
   ]
  },
  {
   "cell_type": "code",
   "execution_count": 5,
   "id": "be5b7578",
   "metadata": {},
   "outputs": [
    {
     "name": "stdout",
     "output_type": "stream",
     "text": [
      "The average birthweight for mothers who do not smoke is 3432.06\n"
     ]
    }
   ],
   "source": [
    "avg_birthweight_non_smoker = np.mean(df.birthweight[df.smoker == 0])\n",
    "\n",
    "print( f\"The average birthweight for mothers who do not smoke is {round(avg_birthweight_non_smoker,2)}\")"
   ]
  },
  {
   "cell_type": "markdown",
   "id": "0cccedf9",
   "metadata": {},
   "source": [
    "<b>\n",
    "4. Use the data in the sample to estimate the difference in average birth weight for smoking and nonsmoking mothers.\n",
    "</b>"
   ]
  },
  {
   "cell_type": "code",
   "execution_count": 6,
   "id": "d66ab7f7",
   "metadata": {},
   "outputs": [
    {
     "name": "stdout",
     "output_type": "stream",
     "text": [
      "The estimated difference in average birthweight for smoking and nonsmoking mothers is -253.23\n"
     ]
    }
   ],
   "source": [
    "avg_diff = avg_birthweight_smoker - avg_birthweight_non_smoker\n",
    "\n",
    "print(f\"The estimated difference in average birthweight for smoking and nonsmoking mothers is {round(avg_diff,2)}\")"
   ]
  },
  {
   "cell_type": "markdown",
   "id": "5ca2531c",
   "metadata": {},
   "source": [
    "<b>\n",
    "5. What is the standard error for the estimated difference in 4.?\n",
    "</b>"
   ]
  },
  {
   "cell_type": "code",
   "execution_count": 7,
   "id": "574b10c8",
   "metadata": {},
   "outputs": [
    {
     "name": "stdout",
     "output_type": "stream",
     "text": [
      "The standard error for the estimated average difference in birthweight for smoking and nonsmoking mothers is 26.8\n"
     ]
    }
   ],
   "source": [
    "std_birthweight_smoker = np.std(df.birthweight[df.smoker == 1])\n",
    "std_birthweight_non_smoker = np.std(df.birthweight[df.smoker == 0])\n",
    "\n",
    "se_diff = np.sqrt(std_birthweight_smoker**2/len(df.birthweight[df.smoker == 1])+std_birthweight_non_smoker**2/len(df.birthweight[df.smoker == 0]))\n",
    "\n",
    "print(f\"The standard error for the estimated average difference in birthweight for smoking and nonsmoking mothers is {round(se_diff,2)}\")"
   ]
  },
  {
   "cell_type": "markdown",
   "id": "378a3bd1",
   "metadata": {},
   "source": [
    "<b>\n",
    "6. Construct a 95% confidence interval for the difference in the average birth weight for smoking and nonsmoking mothers.\n",
    "</b>"
   ]
  },
  {
   "cell_type": "code",
   "execution_count": 8,
   "id": "b0eba140",
   "metadata": {},
   "outputs": [
    {
     "name": "stdout",
     "output_type": "stream",
     "text": [
      "The 95% confidence interval for the average difference in birthweight for smoking and nonsmoking mothers is (-305.76, -200.7)\n"
     ]
    }
   ],
   "source": [
    "ll_ci = avg_diff - 1.96*se_diff\n",
    "\n",
    "ul_ci = avg_diff + 1.96*se_diff\n",
    "\n",
    "print(f\"The 95% confidence interval for the average difference in birthweight for smoking and nonsmoking mothers is {round(ll_ci,2),round(ul_ci,2)}\")"
   ]
  },
  {
   "cell_type": "markdown",
   "id": "73f1bb7e",
   "metadata": {},
   "source": [
    "<b>\n",
    "7. Run a regression of <i>birthweight</i> on the binary variable <i>smoker</i>. Explain how the estimated slope and intercept are related to your answers in 2, 3 and 4.\n",
    "</b>"
   ]
  },
  {
   "cell_type": "code",
   "execution_count": 9,
   "id": "91ad3bb6",
   "metadata": {},
   "outputs": [
    {
     "name": "stdout",
     "output_type": "stream",
     "text": [
      "                            OLS Regression Results                            \n",
      "==============================================================================\n",
      "Dep. Variable:            birthweight   R-squared:                       0.029\n",
      "Model:                            OLS   Adj. R-squared:                  0.028\n",
      "Method:                 Least Squares   F-statistic:                     88.28\n",
      "Date:                Tue, 04 Mar 2025   Prob (F-statistic):           1.09e-20\n",
      "Time:                        12:38:50   Log-Likelihood:                -23364.\n",
      "No. Observations:                3000   AIC:                         4.673e+04\n",
      "Df Residuals:                    2998   BIC:                         4.674e+04\n",
      "Df Model:                           1                                         \n",
      "Covariance Type:            nonrobust                                         \n",
      "==============================================================================\n",
      "                 coef    std err          t      P>|t|      [0.025      0.975]\n",
      "------------------------------------------------------------------------------\n",
      "Intercept   3432.0600     11.871    289.115      0.000    3408.784    3455.336\n",
      "smoker      -253.2284     26.951     -9.396      0.000    -306.074    -200.383\n",
      "==============================================================================\n",
      "Omnibus:                      473.891   Durbin-Watson:                   1.973\n",
      "Prob(Omnibus):                  0.000   Jarque-Bera (JB):             1247.472\n",
      "Skew:                          -0.858   Prob(JB):                    1.30e-271\n",
      "Kurtosis:                       5.652   Cond. No.                         2.64\n",
      "==============================================================================\n",
      "\n",
      "Notes:\n",
      "[1] Standard Errors assume that the covariance matrix of the errors is correctly specified.\n"
     ]
    }
   ],
   "source": [
    "formula = 'birthweight ~ smoker'\n",
    "\n",
    "model = smf.ols(formula,df).fit() \n",
    "print(model.summary())"
   ]
  },
  {
   "cell_type": "markdown",
   "id": "3717de6f",
   "metadata": {},
   "source": [
    "The birthweight of babies from mothers who do not smoke during the pregnancy ($smoker_i=0$) is 34320.06 (intercept) and the birthweight of babies from mothers who do smoke during the pregnancy ($smoker_i=1$) is 3432.06 - 253.23 (intercept - slope). \n",
    "\n",
    "This difference is statistically significance as the p-value of the slope is less than 5%."
   ]
  },
  {
   "cell_type": "markdown",
   "id": "739e6764",
   "metadata": {},
   "source": [
    "<b>\n",
    "8. Do you think smoking is uncorrelated with other factors that cause low birth weight? That is, do you think that the regression error term $u_i$ has a conditional mean of 0 given <i>$smoker_i$</i>? What other variables available if ommited could lead to ommited variable bias?\n",
    "</b>"
   ]
  },
  {
   "cell_type": "markdown",
   "id": "b4716d5c",
   "metadata": {},
   "source": [
    "If smoking is a result of a series of poor health choices, it is likely that smoking is correlated to other factors that might affect baby birth weight.\n",
    "\n",
    "Alcohol and Nprevist are examples of such variables that should be included in the regression."
   ]
  },
  {
   "cell_type": "markdown",
   "id": "4a4748af",
   "metadata": {},
   "source": [
    "<b>\n",
    "9. Run a regression of birthweight and number of prenatal visits. Interpret the coefficient results. Is the coefficient for the number of prenatal visits variable significant?\n",
    "</b>"
   ]
  },
  {
   "cell_type": "code",
   "execution_count": 10,
   "id": "79bbe264",
   "metadata": {},
   "outputs": [
    {
     "name": "stdout",
     "output_type": "stream",
     "text": [
      "                            OLS Regression Results                            \n",
      "==============================================================================\n",
      "Dep. Variable:            birthweight   R-squared:                       0.052\n",
      "Model:                            OLS   Adj. R-squared:                  0.051\n",
      "Method:                 Least Squares   F-statistic:                     163.4\n",
      "Date:                Tue, 04 Mar 2025   Prob (F-statistic):           1.78e-36\n",
      "Time:                        12:38:51   Log-Likelihood:                -23328.\n",
      "No. Observations:                3000   AIC:                         4.666e+04\n",
      "Df Residuals:                    2998   BIC:                         4.667e+04\n",
      "Df Model:                           1                                         \n",
      "Covariance Type:            nonrobust                                         \n",
      "==============================================================================\n",
      "                 coef    std err          t      P>|t|      [0.025      0.975]\n",
      "------------------------------------------------------------------------------\n",
      "Intercept   2979.9315     33.237     89.657      0.000    2914.762    3045.101\n",
      "nprevist      36.6643      2.868     12.784      0.000      31.041      42.288\n",
      "==============================================================================\n",
      "Omnibus:                      344.804   Durbin-Watson:                   1.984\n",
      "Prob(Omnibus):                  0.000   Jarque-Bera (JB):              775.688\n",
      "Skew:                          -0.688   Prob(JB):                    3.64e-169\n",
      "Kurtosis:                       5.076   Cond. No.                         36.8\n",
      "==============================================================================\n",
      "\n",
      "Notes:\n",
      "[1] Standard Errors assume that the covariance matrix of the errors is correctly specified.\n"
     ]
    }
   ],
   "source": [
    "formula4 = 'birthweight ~ nprevist'\n",
    "\n",
    "model4 = smf.ols(formula4,df).fit() \n",
    "print(model4.summary())"
   ]
  },
  {
   "cell_type": "markdown",
   "id": "b4aef35f",
   "metadata": {},
   "source": [
    "Yes, the coefficient for <i>nprevist</i> is significant since \n",
    "    \n",
    "$$ t = \\frac{36.6643}{2.868} = 12.784 $$\n",
    "    \n",
    "Which is greater than 1.96, so we reject the null hypothesis that the coefficient equals 0.\n",
    "    \n",
    "Alternatively, note that the p-value is 0.00 < 5%, the significance level."
   ]
  },
  {
   "cell_type": "markdown",
   "id": "10e40b21",
   "metadata": {},
   "source": [
    "<b>\n",
    "10. Draw a Residual plot to investigate for the presence of heteroskedaticity. Does the residual plot suggest the existence of heteroskedasticity? \n",
    "</b>"
   ]
  },
  {
   "cell_type": "code",
   "execution_count": 11,
   "id": "bc96dbe7",
   "metadata": {},
   "outputs": [
    {
     "data": {
      "text/plain": [
       "Text(0, 0.5, 'Residuals')"
      ]
     },
     "execution_count": 11,
     "metadata": {},
     "output_type": "execute_result"
    },
    {
     "data": {
      "image/png": "[encoded data removed]",
      "text/plain": [
       "<Figure size 640x480 with 1 Axes>"
      ]
     },
     "metadata": {},
     "output_type": "display_data"
    }
   ],
   "source": [
    "# Residual Plot to investigate for the presence of Heteroskedasticity\n",
    "\n",
    "residual_plot = plt.figure()\n",
    "sns.residplot(data=df, x=model4.fittedvalues, y='birthweight')\n",
    "\n",
    "residual_plot.axes[0].set_title('Residuals vs Fitted')\n",
    "residual_plot.axes[0].set_xlabel('Fitted values')\n",
    "residual_plot.axes[0].set_ylabel('Residuals')"
   ]
  },
  {
   "cell_type": "markdown",
   "id": "c601ef21",
   "metadata": {},
   "source": [
    "The residual plot shows that for smaller fitted values, the variability of residuals is large and for larger fitted values, the variability is small, suggesting the presence of heteroskedasticity. "
   ]
  },
  {
   "cell_type": "markdown",
   "id": "b1f71a55",
   "metadata": {},
   "source": [
    "<b>\n",
    "11. Implement the Breusch-Pagan test for heteroskedasticity. Interpret the results.\n",
    "</b>"
   ]
  },
  {
   "cell_type": "code",
   "execution_count": 12,
   "id": "09919df6",
   "metadata": {},
   "outputs": [
    {
     "data": {
      "text/plain": [
       "[('Lagrange multiplier statistic', 38.51981500986168),\n",
       " ('p-value', 5.420058953408722e-10),\n",
       " ('f-value', 38.99482629830587),\n",
       " ('f p-value', 4.849420025847477e-10)]"
      ]
     },
     "execution_count": 12,
     "metadata": {},
     "output_type": "execute_result"
    }
   ],
   "source": [
    "# Conducting the Breusch-Pagan Test for heteroskedasticity\n",
    "\n",
    "name = ['Lagrange multiplier statistic', 'p-value','f-value', 'f p-value']\n",
    "\n",
    "test = smd.het_breuschpagan(model4.resid, model4.model.exog)\n",
    "\n",
    "lzip(name, test)"
   ]
  },
  {
   "cell_type": "markdown",
   "id": "e3f17422",
   "metadata": {},
   "source": [
    "Since the p-value of the F statistic is below 5% we can reject the null hypothesis of homoskedastic errors."
   ]
  },
  {
   "cell_type": "markdown",
   "id": "08a0b489",
   "metadata": {},
   "source": [
    "<b>\n",
    "12. Run the regression of birthweight on number of prenatal visits this time using heterokedastic robust standard errors. Is there any difference from the results of the previous regression?\n",
    "</b>"
   ]
  },
  {
   "cell_type": "code",
   "execution_count": 13,
   "id": "c7670020",
   "metadata": {},
   "outputs": [
    {
     "name": "stdout",
     "output_type": "stream",
     "text": [
      "                            OLS Regression Results                            \n",
      "==============================================================================\n",
      "Dep. Variable:            birthweight   R-squared:                       0.052\n",
      "Model:                            OLS   Adj. R-squared:                  0.051\n",
      "Method:                 Least Squares   F-statistic:                     99.63\n",
      "Date:                Tue, 04 Mar 2025   Prob (F-statistic):           4.20e-23\n",
      "Time:                        12:38:54   Log-Likelihood:                -23328.\n",
      "No. Observations:                3000   AIC:                         4.666e+04\n",
      "Df Residuals:                    2998   BIC:                         4.667e+04\n",
      "Df Model:                           1                                         \n",
      "Covariance Type:                  HC0                                         \n",
      "==============================================================================\n",
      "                 coef    std err          z      P>|z|      [0.025      0.975]\n",
      "------------------------------------------------------------------------------\n",
      "Intercept   2979.9315     43.506     68.494      0.000    2894.661    3065.202\n",
      "nprevist      36.6643      3.673      9.981      0.000      29.465      43.864\n",
      "==============================================================================\n",
      "Omnibus:                      344.804   Durbin-Watson:                   1.984\n",
      "Prob(Omnibus):                  0.000   Jarque-Bera (JB):              775.688\n",
      "Skew:                          -0.688   Prob(JB):                    3.64e-169\n",
      "Kurtosis:                       5.076   Cond. No.                         36.8\n",
      "==============================================================================\n",
      "\n",
      "Notes:\n",
      "[1] Standard Errors are heteroscedasticity robust (HC0)\n"
     ]
    }
   ],
   "source": [
    "model_hr = smf.ols(formula4, df).fit(cov_type = \"HC0\")     # Running the regression with heteroskedasticity-robust standard errors\n",
    "print(model_hr.summary())                                 # Print out the result of the regression"
   ]
  },
  {
   "cell_type": "markdown",
   "id": "45a12f21",
   "metadata": {},
   "source": [
    "<b>13. Run a regression of <i>birthweight</i> on the variables <i>smoker</i> and <i>nprevist</i>. What is the estimated regression equation?\n",
    "</b>"
   ]
  },
  {
   "cell_type": "code",
   "execution_count": 15,
   "id": "b7f4eb85",
   "metadata": {},
   "outputs": [
    {
     "name": "stdout",
     "output_type": "stream",
     "text": [
      "                            OLS Regression Results                            \n",
      "==============================================================================\n",
      "Dep. Variable:            birthweight   R-squared:                       0.073\n",
      "Model:                            OLS   Adj. R-squared:                  0.072\n",
      "Method:                 Least Squares   F-statistic:                     89.25\n",
      "Date:                Tue, 04 Mar 2025   Prob (F-statistic):           2.25e-38\n",
      "Time:                        12:39:45   Log-Likelihood:                -23294.\n",
      "No. Observations:                3000   AIC:                         4.659e+04\n",
      "Df Residuals:                    2997   BIC:                         4.661e+04\n",
      "Df Model:                           2                                         \n",
      "Covariance Type:                  HC0                                         \n",
      "==============================================================================\n",
      "                 coef    std err          z      P>|z|      [0.025      0.975]\n",
      "------------------------------------------------------------------------------\n",
      "Intercept   3050.5274     43.671     69.853      0.000    2964.934    3136.121\n",
      "smoker      -218.8294     25.976     -8.424      0.000    -269.742    -167.917\n",
      "nprevist      34.1039      3.607      9.455      0.000      27.034      41.174\n",
      "==============================================================================\n",
      "Omnibus:                      373.999   Durbin-Watson:                   1.974\n",
      "Prob(Omnibus):                  0.000   Jarque-Bera (JB):              869.719\n",
      "Skew:                          -0.728   Prob(JB):                    1.39e-189\n",
      "Kurtosis:                       5.199   Cond. No.                         39.5\n",
      "==============================================================================\n",
      "\n",
      "Notes:\n",
      "[1] Standard Errors are heteroscedasticity robust (HC0)\n"
     ]
    }
   ],
   "source": [
    "formula5 = 'birthweight ~ smoker + nprevist'\n",
    "\n",
    "model5 = smf.ols(formula5,df).fit(cov_type = \"HC0\")\n",
    "print(model5.summary())"
   ]
  },
  {
   "cell_type": "markdown",
   "id": "2907994d",
   "metadata": {},
   "source": [
    "The estimated regression equation is\n",
    "$$ \\hat{birthweight} = 3050 - 218.82 smoker + 34.10 nprevist $$"
   ]
  },
  {
   "cell_type": "markdown",
   "id": "d23926ba",
   "metadata": {},
   "source": [
    "<b>14. Find the estimated infant's birth weight for a mother who smoked during pregnancy and had 8 prenatal visits.\n",
    "</b>"
   ]
  },
  {
   "cell_type": "code",
   "execution_count": 16,
   "id": "8b0117d5",
   "metadata": {},
   "outputs": [
    {
     "data": {
      "text/plain": [
       "3104.529555228953"
      ]
     },
     "execution_count": 16,
     "metadata": {},
     "output_type": "execute_result"
    }
   ],
   "source": [
    "birthweight = model5.params.Intercept + model5.params.smoker*1 + model5.params.nprevist*8\n",
    "birthweight"
   ]
  }
 ],
 "metadata": {
  "kernelspec": {
   "display_name": "Python 3 (ipykernel)",
   "language": "python",
   "name": "python3"
  },
  "language_info": {
   "codemirror_mode": {
    "name": "ipython",
    "version": 3
   },
   "file_extension": ".py",
   "mimetype": "text/x-python",
   "name": "python",
   "nbconvert_exporter": "python",
   "pygments_lexer": "ipython3",
   "version": "3.12.4"
  }
 },
 "nbformat": 4,
 "nbformat_minor": 5
}
