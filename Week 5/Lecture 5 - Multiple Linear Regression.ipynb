{
 "cells": [
  {
   "cell_type": "markdown",
   "id": "9e1e8029",
   "metadata": {},
   "source": [
    "# Multiple Linear Regression"
   ]
  },
  {
   "cell_type": "markdown",
   "id": "8c020d06",
   "metadata": {},
   "source": [
    "### California Test Score Data Set\n",
    "\n",
    "The California Standardized Testing and Reporting data set contains data on test performance, school characteristics, and student demographic backgrounds. \n",
    "\n",
    "Test scores are the average of the reading and math scores. The student–teacher ratio used here is the number of students in the district divided by the number of full-time equivalent teachers.\n",
    "\n",
    "The demographic variables include the percentage of students who are in the public assistance program CalWorks, the percentage of students who qualify for a reduced-price lunch, and the percentage of students who has English as a second language.\n",
    "\n",
    "The dataset is used in the reference textbook Introduction to Econometrics, 4th edition \n",
    "(Stock and Watson)."
   ]
  },
  {
   "cell_type": "code",
   "execution_count": 1,
   "id": "e2c31b99",
   "metadata": {},
   "outputs": [],
   "source": [
    "# Importing useful libraries and loading data set\n",
    "\n",
    "import numpy as np\n",
    "import pandas as pd\n",
    "import matplotlib.pyplot as plt\n",
    "import seaborn as sns\n",
    "from statsmodels.compat import lzip\n",
    "import statsmodels.stats.diagnostic as smd\n",
    "import statsmodels.formula.api as smf"
   ]
  },
  {
   "cell_type": "code",
   "execution_count": 2,
   "id": "ab5b78cc",
   "metadata": {},
   "outputs": [],
   "source": [
    "df = pd.read_excel(\"caschool.xlsx\")"
   ]
  },
  {
   "cell_type": "markdown",
   "id": "b2b93633",
   "metadata": {},
   "source": [
    "## Multiple Linear Regression\n",
    "\n",
    "Let's run a multiple linea regression including percent English Learners in the district (<b>el_pct</b>) as an additional regressor.\n",
    "\n",
    "The regression equation is\n",
    "\n",
    "$$ TestScore_i = \\beta_0 + \\beta_1 STR_i + \\beta_2 PctEL_i $$\n"
   ]
  },
  {
   "cell_type": "code",
   "execution_count": 3,
   "id": "1a48c64b",
   "metadata": {},
   "outputs": [
    {
     "name": "stdout",
     "output_type": "stream",
     "text": [
      "                            OLS Regression Results                            \n",
      "==============================================================================\n",
      "Dep. Variable:                testscr   R-squared:                       0.426\n",
      "Model:                            OLS   Adj. R-squared:                  0.424\n",
      "Method:                 Least Squares   F-statistic:                     225.4\n",
      "Date:                Sun, 02 Mar 2025   Prob (F-statistic):           4.28e-67\n",
      "Time:                        21:21:57   Log-Likelihood:                -1716.6\n",
      "No. Observations:                 420   AIC:                             3439.\n",
      "Df Residuals:                     417   BIC:                             3451.\n",
      "Df Model:                           2                                         \n",
      "Covariance Type:                  HC0                                         \n",
      "==============================================================================\n",
      "                 coef    std err          z      P>|z|      [0.025      0.975]\n",
      "------------------------------------------------------------------------------\n",
      "Intercept    686.0322      8.697     78.882      0.000     668.986     703.078\n",
      "str           -1.1013      0.431     -2.553      0.011      -1.947      -0.256\n",
      "el_pct        -0.6498      0.031    -21.014      0.000      -0.710      -0.589\n",
      "==============================================================================\n",
      "Omnibus:                        0.631   Durbin-Watson:                   0.686\n",
      "Prob(Omnibus):                  0.729   Jarque-Bera (JB):                0.550\n",
      "Skew:                           0.088   Prob(JB):                        0.760\n",
      "Kurtosis:                       3.024   Cond. No.                         301.\n",
      "==============================================================================\n",
      "\n",
      "Notes:\n",
      "[1] Standard Errors are heteroscedasticity robust (HC0)\n"
     ]
    }
   ],
   "source": [
    "formula_el = 'testscr ~ str + el_pct'  \n",
    "\n",
    "model_el = smf.ols(formula_el, df).fit(cov_type = \"HC0\")\n",
    "print(model_el.summary())"
   ]
  },
  {
   "cell_type": "markdown",
   "id": "5155a48b",
   "metadata": {},
   "source": [
    "The resulting estimated model is now\n",
    "\n",
    "$$ \\hat{TestScore_i} = 686.0 - 1.10 STR_i -0.65 PctEL_i $$\n",
    "$$ \\hspace{0.35in} (8.70) \\hspace{0.15in} (0.43) \\hspace{0.7in} (0.03)$$"
   ]
  },
  {
   "cell_type": "markdown",
   "id": "a8e3410b",
   "metadata": {},
   "source": [
    "## Control Variables"
   ]
  },
  {
   "cell_type": "code",
   "execution_count": 4,
   "id": "653dc4df",
   "metadata": {},
   "outputs": [
    {
     "name": "stdout",
     "output_type": "stream",
     "text": [
      "                            OLS Regression Results                            \n",
      "==============================================================================\n",
      "Dep. Variable:                testscr   R-squared:                       0.775\n",
      "Model:                            OLS   Adj. R-squared:                  0.773\n",
      "Method:                 Least Squares   F-statistic:                     457.8\n",
      "Date:                Sun, 02 Mar 2025   Prob (F-statistic):          2.28e-131\n",
      "Time:                        21:22:01   Log-Likelihood:                -1520.5\n",
      "No. Observations:                 420   AIC:                             3049.\n",
      "Df Residuals:                     416   BIC:                             3065.\n",
      "Df Model:                           3                                         \n",
      "Covariance Type:                  HC0                                         \n",
      "==============================================================================\n",
      "                 coef    std err          z      P>|z|      [0.025      0.975]\n",
      "------------------------------------------------------------------------------\n",
      "Intercept    700.1500      5.542    126.338      0.000     689.288     711.012\n",
      "str           -0.9983      0.269     -3.714      0.000      -1.525      -0.471\n",
      "el_pct        -0.1216      0.033     -3.721      0.000      -0.186      -0.058\n",
      "meal_pct      -0.5473      0.024    -22.813      0.000      -0.594      -0.500\n",
      "==============================================================================\n",
      "Omnibus:                        6.998   Durbin-Watson:                   1.438\n",
      "Prob(Omnibus):                  0.030   Jarque-Bera (JB):               10.626\n",
      "Skew:                          -0.024   Prob(JB):                      0.00493\n",
      "Kurtosis:                       3.778   Cond. No.                         621.\n",
      "==============================================================================\n",
      "\n",
      "Notes:\n",
      "[1] Standard Errors are heteroscedasticity robust (HC0)\n"
     ]
    }
   ],
   "source": [
    "formula_control = 'testscr ~ str + el_pct + meal_pct'  \n",
    "\n",
    "model_control = smf.ols(formula_control, df).fit(cov_type = \"HC0\")\n",
    "print(model_control.summary())"
   ]
  },
  {
   "cell_type": "markdown",
   "id": "a17c0e4d",
   "metadata": {},
   "source": [
    "The resulting estimated model is now\n",
    "\n",
    "$$ \\hat{TestScore_i} = 686.0 - 1.00 STR_i -0.12 PctEL_i -0.55 LchPct$$\n",
    "$$ \\hspace{0.55in} (8.70) \\hspace{0.15in} (0.43) \\hspace{0.55in} (0.03) \\hspace{0.55in} (0.02)$$"
   ]
  }
 ],
 "metadata": {
  "kernelspec": {
   "display_name": "Python 3 (ipykernel)",
   "language": "python",
   "name": "python3"
  },
  "language_info": {
   "codemirror_mode": {
    "name": "ipython",
    "version": 3
   },
   "file_extension": ".py",
   "mimetype": "text/x-python",
   "name": "python",
   "nbconvert_exporter": "python",
   "pygments_lexer": "ipython3",
   "version": "3.12.4"
  }
 },
 "nbformat": 4,
 "nbformat_minor": 5
}
