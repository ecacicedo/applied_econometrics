{
 "cells": [
  {
   "cell_type": "markdown",
   "id": "397cbaee",
   "metadata": {},
   "source": [
    "# Seminar 4"
   ]
  },
  {
   "cell_type": "markdown",
   "id": "055361fc",
   "metadata": {},
   "source": [
    "The data file <b>birthweight_smoking.xls</b> contains data for a random sample of babies born in Pennsylvania in 1989. \n",
    "\n",
    "The data include the baby's birth weight together with various characteristics of the mother, including whether she smoked during her pregnancy.\n",
    "\n",
    "You can download the data from [here](https://www.princeton.edu/~mwatson/Stock-Watson_3u/Students/EE_Datasets/birthweight_smoking.xlsx).\n",
    "\n",
    "A detailed description is given [here](https://www.princeton.edu/~mwatson/Stock-Watson_3u/Students/EE_Datasets/Birthweight_Smoking_Description.pdf). \n",
    "\n",
    "The dataset is used in the reference textbook Introduction to Econometrics, 4th edition \n",
    "(Stock and Watson).\n",
    "\n",
    "In the exercises below we will investigate the relationship between birth weight and smoking during pregnancy.\n",
    "\n",
    "Using this dataset, answer the following questions:"
   ]
  },
  {
   "cell_type": "code",
   "execution_count": null,
   "id": "bc535dbf",
   "metadata": {},
   "outputs": [],
   "source": [
    "# Importing useful libraries\n",
    "\n",
    "import numpy as np\n",
    "import pandas as pd\n",
    "import matplotlib.pyplot as plt\n",
    "import seaborn as sns\n",
    "from statsmodels.compat import lzip\n",
    "import statsmodels.stats.diagnostic as smd\n",
    "import statsmodels.formula.api as smf"
   ]
  },
  {
   "cell_type": "code",
   "execution_count": null,
   "id": "a4bd17e8",
   "metadata": {},
   "outputs": [],
   "source": [
    "from google.colab import files\n",
    "files.upload()"
   ]
  },
  {
   "cell_type": "code",
   "execution_count": null,
   "id": "38558ab4",
   "metadata": {},
   "outputs": [],
   "source": [
    "# Loading the data set\n",
    "\n",
    "df = pd.read_excel(\"birthweight_smoking.xlsx\")\n",
    "df"
   ]
  },
  {
   "cell_type": "markdown",
   "id": "50f74234",
   "metadata": {},
   "source": [
    "<b>\n",
    "1. What is the average value of Birthweight for all mothers?\n",
    "</b>"
   ]
  },
  {
   "cell_type": "code",
   "execution_count": null,
   "id": "c93866c8",
   "metadata": {},
   "outputs": [],
   "source": []
  },
  {
   "cell_type": "markdown",
   "id": "1460007d",
   "metadata": {},
   "source": [
    "<b>\n",
    "2. What is the average value of Birthweight for mothers who smoke?\n",
    "</b>"
   ]
  },
  {
   "cell_type": "code",
   "execution_count": null,
   "id": "cefa8bb8",
   "metadata": {},
   "outputs": [],
   "source": []
  },
  {
   "cell_type": "markdown",
   "id": "fd9fa707",
   "metadata": {},
   "source": [
    "<b>\n",
    "3. What is the average value of Birthweight for mothers who do not smoke?\n",
    "</b>"
   ]
  },
  {
   "cell_type": "code",
   "execution_count": null,
   "id": "be5b7578",
   "metadata": {},
   "outputs": [],
   "source": []
  },
  {
   "cell_type": "markdown",
   "id": "0cccedf9",
   "metadata": {},
   "source": [
    "<b>\n",
    "4. Use the data in the sample to estimate the difference in average birth weight for smoking and nonsmoking mothers.\n",
    "</b>"
   ]
  },
  {
   "cell_type": "code",
   "execution_count": null,
   "id": "d66ab7f7",
   "metadata": {},
   "outputs": [],
   "source": []
  },
  {
   "cell_type": "markdown",
   "id": "5ca2531c",
   "metadata": {},
   "source": [
    "<b>\n",
    "5. What is the standard error for the estimated difference in 4.?\n",
    "</b>"
   ]
  },
  {
   "cell_type": "code",
   "execution_count": null,
   "id": "574b10c8",
   "metadata": {},
   "outputs": [],
   "source": []
  },
  {
   "cell_type": "markdown",
   "id": "378a3bd1",
   "metadata": {},
   "source": [
    "<b>\n",
    "6. Construct a 95% confidence interval for the difference in the average birth weight for smoking and nonsmoking mothers.\n",
    "</b>"
   ]
  },
  {
   "cell_type": "code",
   "execution_count": null,
   "id": "b0eba140",
   "metadata": {},
   "outputs": [],
   "source": []
  },
  {
   "cell_type": "markdown",
   "id": "73f1bb7e",
   "metadata": {},
   "source": [
    "<b>\n",
    "7. Run a regression of <i>birthweight</i> on the binary variable <i>smoker</i>. Explain how the estimated slope and intercept are related to your answers in 2, 3 and 4.\n",
    "</b>"
   ]
  },
  {
   "cell_type": "code",
   "execution_count": null,
   "id": "91ad3bb6",
   "metadata": {},
   "outputs": [],
   "source": []
  },
  {
   "cell_type": "markdown",
   "id": "739e6764",
   "metadata": {},
   "source": [
    "<b>\n",
    "8. Do you think smoking is uncorrelated with other factors that cause low birth weight? That is, do you think that the regression error term $u_i$ has a conditional mean of 0 given <i>$smoker_i$</i>? What other variables available if ommited could lead to ommited variable bias?\n",
    "</b>"
   ]
  },
  {
   "cell_type": "code",
   "execution_count": null,
   "id": "0f45a90d",
   "metadata": {},
   "outputs": [],
   "source": []
  },
  {
   "cell_type": "markdown",
   "id": "4a4748af",
   "metadata": {},
   "source": [
    "<b>\n",
    "9. Run a regression of birthweight and number of prenatal visits. Interpret the coefficient results. Is the coefficient for the number of prenatal visits variable significant?\n",
    "</b>"
   ]
  },
  {
   "cell_type": "code",
   "execution_count": null,
   "id": "79bbe264",
   "metadata": {},
   "outputs": [],
   "source": []
  },
  {
   "cell_type": "markdown",
   "id": "10e40b21",
   "metadata": {},
   "source": [
    "<b>\n",
    "10. Draw a Residual plot to investigate for the presence of heteroskedaticity. Does the residual plot suggest the existence of heteroskedasticity? \n",
    "</b>"
   ]
  },
  {
   "cell_type": "code",
   "execution_count": null,
   "id": "bc96dbe7",
   "metadata": {},
   "outputs": [],
   "source": []
  },
  {
   "cell_type": "markdown",
   "id": "b1f71a55",
   "metadata": {},
   "source": [
    "<b>\n",
    "11. Implement the Breusch-Pagan test for heteroskedasticity. Interpret the results.\n",
    "</b>"
   ]
  },
  {
   "cell_type": "code",
   "execution_count": null,
   "id": "09919df6",
   "metadata": {},
   "outputs": [],
   "source": []
  },
  {
   "cell_type": "markdown",
   "id": "08a0b489",
   "metadata": {},
   "source": [
    "<b>\n",
    "12. Run the regression of birthweight on number of prenatal visits this time using heterokedastic robust standard errors. Is there any difference from the results of the previous regression?\n",
    "</b>"
   ]
  },
  {
   "cell_type": "code",
   "execution_count": null,
   "id": "c7670020",
   "metadata": {},
   "outputs": [],
   "source": []
  },
  {
   "cell_type": "markdown",
   "id": "b7211730",
   "metadata": {},
   "source": [
    "<b>13. Run a regression of <i>birthweight</i> on the variables <i>smoker</i> and <i>nprevist</i>. What is the estimated regression equation?\n",
    "</b>"
   ]
  },
  {
   "cell_type": "code",
   "execution_count": null,
   "id": "e972cca6",
   "metadata": {},
   "outputs": [],
   "source": []
  },
  {
   "cell_type": "markdown",
   "id": "8995718e",
   "metadata": {},
   "source": [
    "<b>14. Find the estimated infant's birth weight for a mother who smoked during pregnancy and had 8 prenatal visits.\n",
    "</b>"
   ]
  },
  {
   "cell_type": "code",
   "execution_count": null,
   "id": "76f76e58",
   "metadata": {},
   "outputs": [],
   "source": []
  }
 ],
 "metadata": {
  "kernelspec": {
   "display_name": "Python 3 (ipykernel)",
   "language": "python",
   "name": "python3"
  },
  "language_info": {
   "codemirror_mode": {
    "name": "ipython",
    "version": 3
   },
   "file_extension": ".py",
   "mimetype": "text/x-python",
   "name": "python",
   "nbconvert_exporter": "python",
   "pygments_lexer": "ipython3",
   "version": "3.12.4"
  }
 },
 "nbformat": 4,
 "nbformat_minor": 5
}
