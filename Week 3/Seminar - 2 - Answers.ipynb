{
 "cells": [
  {
   "cell_type": "markdown",
   "id": "3fdd02d9",
   "metadata": {
    "id": "3fdd02d9"
   },
   "source": [
    "# Seminar 2 - Answers"
   ]
  },
  {
   "cell_type": "markdown",
   "id": "eaf5e356",
   "metadata": {
    "id": "eaf5e356"
   },
   "source": [
    "### Question 1\n",
    "\n",
    "The “Current Population Survey” (CPS), which provides data on US labor force characteristics of the population, including the level of employment, unemployment, and earnings. The file CPS96_15 contains the data for 1996 and 2015 (from the March 1997 and 2016 surveys). These data are for full-time workers, defined as workers employed more than 35 hours per week for at least 48 weeks in the previous year. Data are provided for workers whose highest educational achievement is (1) a high school diploma, and (2) a bachelor’s degree.\n",
    "\n",
    "\n",
    "|Variable|Description|\n",
    "| -------- | ------- |\n",
    "|FEMALE|1 if female; 0 if male|\n",
    "|YEAR|Year|\n",
    "|AHE|Average Hourly Earnings|\n",
    "|BACHELOR|1 if worker has a bachelor’s degree; 0 if worker has a high school degree|\n",
    "|AGE|Age|"
   ]
  },
  {
   "cell_type": "code",
   "execution_count": 1,
   "id": "ccd87e8f",
   "metadata": {
    "colab": {
     "base_uri": "https://localhost:8080/",
     "height": 1000
    },
    "id": "ccd87e8f",
    "outputId": "af01a234-20eb-4854-ba07-f44ad11bd575"
   },
   "outputs": [],
   "source": [
    "import numpy as np\n",
    "import pandas as pd"
   ]
  },
  {
   "cell_type": "code",
   "execution_count": 2,
   "id": "0c900dab",
   "metadata": {
    "id": "0c900dab"
   },
   "outputs": [],
   "source": [
    "cps = pd.read_excel('CPS96_15.xlsx')"
   ]
  },
  {
   "cell_type": "code",
   "execution_count": 3,
   "id": "a739a0ee",
   "metadata": {
    "colab": {
     "base_uri": "https://localhost:8080/",
     "height": 423
    },
    "id": "a739a0ee",
    "outputId": "4cd83659-e580-4070-9a25-d1eda5ea8f9f"
   },
   "outputs": [
    {
     "data": {
      "application/vnd.google.colaboratory.intrinsic+json": {
       "summary": "{\n  \"name\": \"cps\",\n  \"rows\": 13201,\n  \"fields\": [\n    {\n      \"column\": \"year\",\n      \"properties\": {\n        \"dtype\": \"number\",\n        \"std\": 9,\n        \"min\": 1996,\n        \"max\": 2015,\n        \"num_unique_values\": 2,\n        \"samples\": [\n          2015,\n          1996\n        ],\n        \"semantic_type\": \"\",\n        \"description\": \"\"\n      }\n    },\n    {\n      \"column\": \"ahe\",\n      \"properties\": {\n        \"dtype\": \"number\",\n        \"std\": 10.764674620338793,\n        \"min\": 1.3600000143051147,\n        \"max\": 105.76923370361328,\n        \"num_unique_values\": 2297,\n        \"samples\": [\n          5.102040767669678,\n          10.333653450012207\n        ],\n        \"semantic_type\": \"\",\n        \"description\": \"\"\n      }\n    },\n    {\n      \"column\": \"bachelor\",\n      \"properties\": {\n        \"dtype\": \"number\",\n        \"std\": 0,\n        \"min\": 0,\n        \"max\": 1,\n        \"num_unique_values\": 2,\n        \"samples\": [\n          1,\n          0\n        ],\n        \"semantic_type\": \"\",\n        \"description\": \"\"\n      }\n    },\n    {\n      \"column\": \"female\",\n      \"properties\": {\n        \"dtype\": \"number\",\n        \"std\": 0,\n        \"min\": 0,\n        \"max\": 1,\n        \"num_unique_values\": 2,\n        \"samples\": [\n          1,\n          0\n        ],\n        \"semantic_type\": \"\",\n        \"description\": \"\"\n      }\n    },\n    {\n      \"column\": \"age\",\n      \"properties\": {\n        \"dtype\": \"number\",\n        \"std\": 2,\n        \"min\": 25,\n        \"max\": 34,\n        \"num_unique_values\": 10,\n        \"samples\": [\n          29,\n          27\n        ],\n        \"semantic_type\": \"\",\n        \"description\": \"\"\n      }\n    }\n  ]\n}",
       "type": "dataframe",
       "variable_name": "cps"
      },
      "text/html": [
       "\n",
       "  <div id=\"df-8be287c8-c8c4-4dd0-a93c-5d74eb3362b8\" class=\"colab-df-container\">\n",
       "    <div>\n",
       "<style scoped>\n",
       "    .dataframe tbody tr th:only-of-type {\n",
       "        vertical-align: middle;\n",
       "    }\n",
       "\n",
       "    .dataframe tbody tr th {\n",
       "        vertical-align: top;\n",
       "    }\n",
       "\n",
       "    .dataframe thead th {\n",
       "        text-align: right;\n",
       "    }\n",
       "</style>\n",
       "<table border=\"1\" class=\"dataframe\">\n",
       "  <thead>\n",
       "    <tr style=\"text-align: right;\">\n",
       "      <th></th>\n",
       "      <th>year</th>\n",
       "      <th>ahe</th>\n",
       "      <th>bachelor</th>\n",
       "      <th>female</th>\n",
       "      <th>age</th>\n",
       "    </tr>\n",
       "  </thead>\n",
       "  <tbody>\n",
       "    <tr>\n",
       "      <th>0</th>\n",
       "      <td>1996</td>\n",
       "      <td>11.171735</td>\n",
       "      <td>0</td>\n",
       "      <td>0</td>\n",
       "      <td>31</td>\n",
       "    </tr>\n",
       "    <tr>\n",
       "      <th>1</th>\n",
       "      <td>1996</td>\n",
       "      <td>8.653846</td>\n",
       "      <td>0</td>\n",
       "      <td>1</td>\n",
       "      <td>31</td>\n",
       "    </tr>\n",
       "    <tr>\n",
       "      <th>2</th>\n",
       "      <td>1996</td>\n",
       "      <td>9.615385</td>\n",
       "      <td>1</td>\n",
       "      <td>1</td>\n",
       "      <td>27</td>\n",
       "    </tr>\n",
       "    <tr>\n",
       "      <th>3</th>\n",
       "      <td>1996</td>\n",
       "      <td>11.217949</td>\n",
       "      <td>1</td>\n",
       "      <td>0</td>\n",
       "      <td>26</td>\n",
       "    </tr>\n",
       "    <tr>\n",
       "      <th>4</th>\n",
       "      <td>1996</td>\n",
       "      <td>9.615385</td>\n",
       "      <td>1</td>\n",
       "      <td>1</td>\n",
       "      <td>28</td>\n",
       "    </tr>\n",
       "    <tr>\n",
       "      <th>...</th>\n",
       "      <td>...</td>\n",
       "      <td>...</td>\n",
       "      <td>...</td>\n",
       "      <td>...</td>\n",
       "      <td>...</td>\n",
       "    </tr>\n",
       "    <tr>\n",
       "      <th>13196</th>\n",
       "      <td>2015</td>\n",
       "      <td>96.153847</td>\n",
       "      <td>1</td>\n",
       "      <td>0</td>\n",
       "      <td>25</td>\n",
       "    </tr>\n",
       "    <tr>\n",
       "      <th>13197</th>\n",
       "      <td>2015</td>\n",
       "      <td>30.769230</td>\n",
       "      <td>1</td>\n",
       "      <td>0</td>\n",
       "      <td>34</td>\n",
       "    </tr>\n",
       "    <tr>\n",
       "      <th>13198</th>\n",
       "      <td>2015</td>\n",
       "      <td>9.230769</td>\n",
       "      <td>0</td>\n",
       "      <td>0</td>\n",
       "      <td>27</td>\n",
       "    </tr>\n",
       "    <tr>\n",
       "      <th>13199</th>\n",
       "      <td>2015</td>\n",
       "      <td>13.653846</td>\n",
       "      <td>1</td>\n",
       "      <td>1</td>\n",
       "      <td>27</td>\n",
       "    </tr>\n",
       "    <tr>\n",
       "      <th>13200</th>\n",
       "      <td>2015</td>\n",
       "      <td>32.692307</td>\n",
       "      <td>1</td>\n",
       "      <td>1</td>\n",
       "      <td>34</td>\n",
       "    </tr>\n",
       "  </tbody>\n",
       "</table>\n",
       "<p>13201 rows × 5 columns</p>\n",
       "</div>\n",
       "    <div class=\"colab-df-buttons\">\n",
       "\n",
       "  <div class=\"colab-df-container\">\n",
       "    <button class=\"colab-df-convert\" onclick=\"convertToInteractive('df-8be287c8-c8c4-4dd0-a93c-5d74eb3362b8')\"\n",
       "            title=\"Convert this dataframe to an interactive table.\"\n",
       "            style=\"display:none;\">\n",
       "\n",
       "  <svg xmlns=\"http://www.w3.org/2000/svg\" height=\"24px\" viewBox=\"0 -960 960 960\">\n",
       "    <path d=\"M120-120v-720h720v720H120Zm60-500h600v-160H180v160Zm220 220h160v-160H400v160Zm0 220h160v-160H400v160ZM180-400h160v-160H180v160Zm440 0h160v-160H620v160ZM180-180h160v-160H180v160Zm440 0h160v-160H620v160Z\"/>\n",
       "  </svg>\n",
       "    </button>\n",
       "\n",
       "  <style>\n",
       "    .colab-df-container {\n",
       "      display:flex;\n",
       "      gap: 12px;\n",
       "    }\n",
       "\n",
       "    .colab-df-convert {\n",
       "      background-color: #E8F0FE;\n",
       "      border: none;\n",
       "      border-radius: 50%;\n",
       "      cursor: pointer;\n",
       "      display: none;\n",
       "      fill: #1967D2;\n",
       "      height: 32px;\n",
       "      padding: 0 0 0 0;\n",
       "      width: 32px;\n",
       "    }\n",
       "\n",
       "    .colab-df-convert:hover {\n",
       "      background-color: #E2EBFA;\n",
       "      box-shadow: 0px 1px 2px rgba(60, 64, 67, 0.3), 0px 1px 3px 1px rgba(60, 64, 67, 0.15);\n",
       "      fill: #174EA6;\n",
       "    }\n",
       "\n",
       "    .colab-df-buttons div {\n",
       "      margin-bottom: 4px;\n",
       "    }\n",
       "\n",
       "    [theme=dark] .colab-df-convert {\n",
       "      background-color: #3B4455;\n",
       "      fill: #D2E3FC;\n",
       "    }\n",
       "\n",
       "    [theme=dark] .colab-df-convert:hover {\n",
       "      background-color: #434B5C;\n",
       "      box-shadow: 0px 1px 3px 1px rgba(0, 0, 0, 0.15);\n",
       "      filter: drop-shadow(0px 1px 2px rgba(0, 0, 0, 0.3));\n",
       "      fill: #FFFFFF;\n",
       "    }\n",
       "  </style>\n",
       "\n",
       "    <script>\n",
       "      const buttonEl =\n",
       "        document.querySelector('#df-8be287c8-c8c4-4dd0-a93c-5d74eb3362b8 button.colab-df-convert');\n",
       "      buttonEl.style.display =\n",
       "        google.colab.kernel.accessAllowed ? 'block' : 'none';\n",
       "\n",
       "      async function convertToInteractive(key) {\n",
       "        const element = document.querySelector('#df-8be287c8-c8c4-4dd0-a93c-5d74eb3362b8');\n",
       "        const dataTable =\n",
       "          await google.colab.kernel.invokeFunction('convertToInteractive',\n",
       "                                                    [key], {});\n",
       "        if (!dataTable) return;\n",
       "\n",
       "        const docLinkHtml = 'Like what you see? Visit the ' +\n",
       "          '<a target=\"_blank\" href=https://colab.research.google.com/notebooks/data_table.ipynb>data table notebook</a>'\n",
       "          + ' to learn more about interactive tables.';\n",
       "        element.innerHTML = '';\n",
       "        dataTable['output_type'] = 'display_data';\n",
       "        await google.colab.output.renderOutput(dataTable, element);\n",
       "        const docLink = document.createElement('div');\n",
       "        docLink.innerHTML = docLinkHtml;\n",
       "        element.appendChild(docLink);\n",
       "      }\n",
       "    </script>\n",
       "  </div>\n",
       "\n",
       "\n",
       "<div id=\"df-5665f379-bfac-445c-886f-ae0c092bc75c\">\n",
       "  <button class=\"colab-df-quickchart\" onclick=\"quickchart('df-5665f379-bfac-445c-886f-ae0c092bc75c')\"\n",
       "            title=\"Suggest charts\"\n",
       "            style=\"display:none;\">\n",
       "\n",
       "<svg xmlns=\"http://www.w3.org/2000/svg\" height=\"24px\"viewBox=\"0 0 24 24\"\n",
       "     width=\"24px\">\n",
       "    <g>\n",
       "        <path d=\"M19 3H5c-1.1 0-2 .9-2 2v14c0 1.1.9 2 2 2h14c1.1 0 2-.9 2-2V5c0-1.1-.9-2-2-2zM9 17H7v-7h2v7zm4 0h-2V7h2v10zm4 0h-2v-4h2v4z\"/>\n",
       "    </g>\n",
       "</svg>\n",
       "  </button>\n",
       "\n",
       "<style>\n",
       "  .colab-df-quickchart {\n",
       "      --bg-color: #E8F0FE;\n",
       "      --fill-color: #1967D2;\n",
       "      --hover-bg-color: #E2EBFA;\n",
       "      --hover-fill-color: #174EA6;\n",
       "      --disabled-fill-color: #AAA;\n",
       "      --disabled-bg-color: #DDD;\n",
       "  }\n",
       "\n",
       "  [theme=dark] .colab-df-quickchart {\n",
       "      --bg-color: #3B4455;\n",
       "      --fill-color: #D2E3FC;\n",
       "      --hover-bg-color: #434B5C;\n",
       "      --hover-fill-color: #FFFFFF;\n",
       "      --disabled-bg-color: #3B4455;\n",
       "      --disabled-fill-color: #666;\n",
       "  }\n",
       "\n",
       "  .colab-df-quickchart {\n",
       "    background-color: var(--bg-color);\n",
       "    border: none;\n",
       "    border-radius: 50%;\n",
       "    cursor: pointer;\n",
       "    display: none;\n",
       "    fill: var(--fill-color);\n",
       "    height: 32px;\n",
       "    padding: 0;\n",
       "    width: 32px;\n",
       "  }\n",
       "\n",
       "  .colab-df-quickchart:hover {\n",
       "    background-color: var(--hover-bg-color);\n",
       "    box-shadow: 0 1px 2px rgba(60, 64, 67, 0.3), 0 1px 3px 1px rgba(60, 64, 67, 0.15);\n",
       "    fill: var(--button-hover-fill-color);\n",
       "  }\n",
       "\n",
       "  .colab-df-quickchart-complete:disabled,\n",
       "  .colab-df-quickchart-complete:disabled:hover {\n",
       "    background-color: var(--disabled-bg-color);\n",
       "    fill: var(--disabled-fill-color);\n",
       "    box-shadow: none;\n",
       "  }\n",
       "\n",
       "  .colab-df-spinner {\n",
       "    border: 2px solid var(--fill-color);\n",
       "    border-color: transparent;\n",
       "    border-bottom-color: var(--fill-color);\n",
       "    animation:\n",
       "      spin 1s steps(1) infinite;\n",
       "  }\n",
       "\n",
       "  @keyframes spin {\n",
       "    0% {\n",
       "      border-color: transparent;\n",
       "      border-bottom-color: var(--fill-color);\n",
       "      border-left-color: var(--fill-color);\n",
       "    }\n",
       "    20% {\n",
       "      border-color: transparent;\n",
       "      border-left-color: var(--fill-color);\n",
       "      border-top-color: var(--fill-color);\n",
       "    }\n",
       "    30% {\n",
       "      border-color: transparent;\n",
       "      border-left-color: var(--fill-color);\n",
       "      border-top-color: var(--fill-color);\n",
       "      border-right-color: var(--fill-color);\n",
       "    }\n",
       "    40% {\n",
       "      border-color: transparent;\n",
       "      border-right-color: var(--fill-color);\n",
       "      border-top-color: var(--fill-color);\n",
       "    }\n",
       "    60% {\n",
       "      border-color: transparent;\n",
       "      border-right-color: var(--fill-color);\n",
       "    }\n",
       "    80% {\n",
       "      border-color: transparent;\n",
       "      border-right-color: var(--fill-color);\n",
       "      border-bottom-color: var(--fill-color);\n",
       "    }\n",
       "    90% {\n",
       "      border-color: transparent;\n",
       "      border-bottom-color: var(--fill-color);\n",
       "    }\n",
       "  }\n",
       "</style>\n",
       "\n",
       "  <script>\n",
       "    async function quickchart(key) {\n",
       "      const quickchartButtonEl =\n",
       "        document.querySelector('#' + key + ' button');\n",
       "      quickchartButtonEl.disabled = true;  // To prevent multiple clicks.\n",
       "      quickchartButtonEl.classList.add('colab-df-spinner');\n",
       "      try {\n",
       "        const charts = await google.colab.kernel.invokeFunction(\n",
       "            'suggestCharts', [key], {});\n",
       "      } catch (error) {\n",
       "        console.error('Error during call to suggestCharts:', error);\n",
       "      }\n",
       "      quickchartButtonEl.classList.remove('colab-df-spinner');\n",
       "      quickchartButtonEl.classList.add('colab-df-quickchart-complete');\n",
       "    }\n",
       "    (() => {\n",
       "      let quickchartButtonEl =\n",
       "        document.querySelector('#df-5665f379-bfac-445c-886f-ae0c092bc75c button');\n",
       "      quickchartButtonEl.style.display =\n",
       "        google.colab.kernel.accessAllowed ? 'block' : 'none';\n",
       "    })();\n",
       "  </script>\n",
       "</div>\n",
       "    </div>\n",
       "  </div>\n"
      ],
      "text/plain": [
       "       year        ahe  bachelor  female  age\n",
       "0      1996  11.171735         0       0   31\n",
       "1      1996   8.653846         0       1   31\n",
       "2      1996   9.615385         1       1   27\n",
       "3      1996  11.217949         1       0   26\n",
       "4      1996   9.615385         1       1   28\n",
       "...     ...        ...       ...     ...  ...\n",
       "13196  2015  96.153847         1       0   25\n",
       "13197  2015  30.769230         1       0   34\n",
       "13198  2015   9.230769         0       0   27\n",
       "13199  2015  13.653846         1       1   27\n",
       "13200  2015  32.692307         1       1   34\n",
       "\n",
       "[13201 rows x 5 columns]"
      ]
     },
     "execution_count": 3,
     "metadata": {},
     "output_type": "execute_result"
    }
   ],
   "source": [
    "cps"
   ]
  },
  {
   "cell_type": "markdown",
   "id": "55fdcdf6",
   "metadata": {
    "id": "55fdcdf6"
   },
   "source": [
    "<b> (a) Compute the sample mean for average hourly earnings (AHE) in 1996 and 2015. <b/>"
   ]
  },
  {
   "cell_type": "code",
   "execution_count": 4,
   "id": "92df72c1",
   "metadata": {
    "colab": {
     "base_uri": "https://localhost:8080/"
    },
    "id": "92df72c1",
    "outputId": "e31a53a4-605e-4174-fdc7-7a2dd1e69bbf"
   },
   "outputs": [
    {
     "name": "stdout",
     "output_type": "stream",
     "text": [
      "The sample mean for the AHE are 12.69 21.24\n"
     ]
    }
   ],
   "source": [
    "cps_96 = cps[cps[\"year\"]==1996]\n",
    "cps_15 = cps[cps[\"year\"]==2015]\n",
    "\n",
    "# Calculating the Sample Mean for the AHE\n",
    "ahe_mean_96 = np.mean(cps_96[\"ahe\"])\n",
    "ahe_mean_15 = np.mean(cps_15[\"ahe\"])\n",
    "\n",
    "print(\"The sample mean for the AHE are\", round(ahe_mean_96,2),round(ahe_mean_15,2))"
   ]
  },
  {
   "cell_type": "markdown",
   "id": "406dc423",
   "metadata": {
    "id": "406dc423"
   },
   "source": [
    "<b>(b) Compute the sample standard deviation for AHE in 1996 and 2015.<b/>"
   ]
  },
  {
   "cell_type": "code",
   "execution_count": 5,
   "id": "aefe4e20",
   "metadata": {
    "colab": {
     "base_uri": "https://localhost:8080/"
    },
    "id": "aefe4e20",
    "outputId": "1b239319-39e1-4f4e-df86-2e5710334416"
   },
   "outputs": [
    {
     "name": "stdout",
     "output_type": "stream",
     "text": [
      "The sample standard deviation for the AHE are 6.36 12.12\n"
     ]
    }
   ],
   "source": [
    "# Calculating the Sample Standard Deviation for the AHE\n",
    "ahe_std_96 = np.std(cps_96[\"ahe\"])\n",
    "ahe_std_15 = np.std(cps_15[\"ahe\"])\n",
    "\n",
    "print(\"The sample standard deviation for the AHE are\",round(ahe_std_96,2),round(ahe_std_15,2))"
   ]
  },
  {
   "cell_type": "markdown",
   "id": "b18ed63c",
   "metadata": {
    "id": "b18ed63c"
   },
   "source": [
    "<b>(c) Construct a 95% confidence interval for the population means of AHE in 1996 and 2015.<b/>"
   ]
  },
  {
   "cell_type": "code",
   "execution_count": 6,
   "id": "c7041712",
   "metadata": {
    "colab": {
     "base_uri": "https://localhost:8080/"
    },
    "id": "c7041712",
    "outputId": "cfd7dc20-0bb1-4cad-dae5-57d8101616a9"
   },
   "outputs": [
    {
     "name": "stdout",
     "output_type": "stream",
     "text": [
      "The 95% confidence interval for the 96 AHE is 12.53 12.85\n",
      "The 95% confidence interval for the 15 AHE is 20.96 21.52\n"
     ]
    }
   ],
   "source": [
    "# Finding the standard error of the mean Average Hourly Earnings\n",
    "\n",
    "n_96 = len(cps_96[\"ahe\"])\n",
    "n_15 = len(cps_15[\"ahe\"])\n",
    "\n",
    "ahe_se_96 = ahe_std_96/np.sqrt(n_96)\n",
    "ahe_se_15 = ahe_std_15/np.sqrt(n_15)\n",
    "\n",
    "# Finding the 95% conficence interval of Average Hourly Earnings\n",
    "\n",
    "ll_ahe_96 = ahe_mean_96 - 1.96*ahe_se_96\n",
    "ul_ahe_96 = ahe_mean_96 + 1.96*ahe_se_96\n",
    "\n",
    "ll_ahe_15 = ahe_mean_15 - 1.96*ahe_se_15\n",
    "ul_ahe_15 = ahe_mean_15 + 1.96*ahe_se_15\n",
    "\n",
    "print(\"The 95% confidence interval for the 96 AHE is\", round(ll_ahe_96,2),round(ul_ahe_96,2))\n",
    "print(\"The 95% confidence interval for the 15 AHE is\", round(ll_ahe_15,2),round(ul_ahe_15,2))"
   ]
  },
  {
   "cell_type": "markdown",
   "id": "69b6f35d",
   "metadata": {
    "id": "69b6f35d"
   },
   "source": [
    "<b>(d) Construct a 95% confidence interval for the change in the population means of AHE between 1996 and 2015.<b/>"
   ]
  },
  {
   "cell_type": "code",
   "execution_count": 7,
   "id": "258a059e",
   "metadata": {
    "colab": {
     "base_uri": "https://localhost:8080/"
    },
    "id": "258a059e",
    "outputId": "4f8394bf-72b8-4780-eeb9-e066163471e6"
   },
   "outputs": [
    {
     "name": "stdout",
     "output_type": "stream",
     "text": [
      "The 95% confidence interval for the difference of means is 8.22 8.87\n"
     ]
    }
   ],
   "source": [
    "# Finding the Standard error of the difference of mean Average Hourly Earnings\n",
    "ahe_se_diff = np.sqrt(ahe_se_96**2+ahe_se_15**2)\n",
    "\n",
    "# Finding the 95% conficence interval of the difference of mean Average Hourly Earnings\n",
    "ll_ahe_diff = ahe_mean_15 - ahe_mean_96 - 1.96*ahe_se_diff\n",
    "ul_ahe_diff = ahe_mean_15 - ahe_mean_96 + 1.96*ahe_se_diff\n",
    "\n",
    "print(\"The 95% confidence interval for the difference of means is\", round(ll_ahe_diff,2),round(ul_ahe_diff,2))"
   ]
  },
  {
   "cell_type": "markdown",
   "id": "71402501",
   "metadata": {
    "id": "71402501"
   },
   "source": [
    "<b> (e) Create a correlation matrix and heatmap for the Average Hourly Earnings and Age.<b/>"
   ]
  },
  {
   "cell_type": "code",
   "execution_count": null,
   "id": "db8f4aa6",
   "metadata": {
    "id": "db8f4aa6",
    "outputId": "2972fe80-a49d-4981-e43a-d060d1b3be42"
   },
   "outputs": [
    {
     "name": "stdout",
     "output_type": "stream",
     "text": [
      "      ahe   age\n",
      "ahe  1.00  0.12\n",
      "age  0.12  1.00\n"
     ]
    }
   ],
   "source": [
    "# Creating correlation matrix\n",
    "\n",
    "df = cps.get([\"ahe\",\"age\"])\n",
    "corr_matrix = round(df.corr(),2)\n",
    "print(corr_matrix)"
   ]
  },
  {
   "cell_type": "code",
   "execution_count": null,
   "id": "d0594158",
   "metadata": {
    "id": "d0594158",
    "outputId": "8836d00b-d3db-4dda-ed44-c797aade1f1c"
   },
   "outputs": [
    {
     "data": {
      "image/png": "[encoded data removed]",
      "text/plain": [
       "<Figure size 640x480 with 2 Axes>"
      ]
     },
     "metadata": {},
     "output_type": "display_data"
    }
   ],
   "source": [
    "# Creating correlation heatmap\n",
    "\n",
    "sn.heatmap(corr_matrix, vmin=-1, vmax=1, center=0, cmap=sn.color_palette(\"Spectral\", as_cmap=True), square=True, annot=True)\n",
    "plt.show()"
   ]
  },
  {
   "cell_type": "markdown",
   "id": "c6ab3f7b",
   "metadata": {
    "id": "c6ab3f7b"
   },
   "source": [
    "<b> (f) Draw a scatterplot of Average Hourly Earnings per Age discriminated by Bachelor. Whst does this result suggest? <b/>"
   ]
  },
  {
   "cell_type": "code",
   "execution_count": null,
   "id": "25c4f0a5",
   "metadata": {
    "id": "25c4f0a5",
    "outputId": "948d658b-9bb5-48a9-c232-431431deb65f",
    "scrolled": true
   },
   "outputs": [
    {
     "data": {
      "text/plain": [
       "<AxesSubplot:xlabel='age', ylabel='ahe'>"
      ]
     },
     "execution_count": 16,
     "metadata": {},
     "output_type": "execute_result"
    },
    {
     "data": {
      "image/png": "[encoded data removed]",
      "text/plain": [
       "<Figure size 640x480 with 1 Axes>"
      ]
     },
     "metadata": {},
     "output_type": "display_data"
    }
   ],
   "source": [
    "# Scatterplot\n",
    "\n",
    "sn.scatterplot(data=cps, x=\"age\", y=\"ahe\", hue=\"bachelor\")"
   ]
  },
  {
   "cell_type": "markdown",
   "id": "6819e8a5",
   "metadata": {
    "id": "6819e8a5"
   },
   "source": [
    "<b> (g) In 2015, the value of the Consumer Price Index (CPI) was 237.0. In 1996, the value of the CPI was 156.9. Repeat (a), but use AHE measured in real 2015 dollars ($2015); that is, adjust the 1996 data for the price inflation that occurred between 1996 and 2015. <b/>"
   ]
  },
  {
   "cell_type": "code",
   "execution_count": 8,
   "id": "6292295e",
   "metadata": {
    "id": "6292295e",
    "scrolled": true
   },
   "outputs": [],
   "source": [
    "cps[\"ahe_15\"] = 0\n",
    "\n",
    "for i in range (len(cps[\"ahe\"])):\n",
    "    if cps.iloc[i,0] == 1996:\n",
    "        cps.iloc[i,5] = cps.iloc[i,1]*237/156.9\n",
    "    else:\n",
    "        cps.iloc[i,5] = cps.iloc[i,1]"
   ]
  },
  {
   "cell_type": "code",
   "execution_count": 14,
   "id": "ddae35a1",
   "metadata": {
    "colab": {
     "base_uri": "https://localhost:8080/"
    },
    "id": "ddae35a1",
    "outputId": "3903ad29-4767-40fd-d8be-7917443275d3",
    "scrolled": true
   },
   "outputs": [
    {
     "name": "stdout",
     "output_type": "stream",
     "text": [
      "The sample mean for the AHE are 19.17 21.24\n",
      "The sample standard deviation for the AHE are 9.6 12.12\n",
      "The 95% confidence interval for the 96 AHE is 18.93 19.41\n",
      "The 95% confidence interval for the 15 AHE is 20.96 21.52\n",
      "The 95% confidence interval for the difference of means is 1.69 2.44\n"
     ]
    }
   ],
   "source": [
    "cps_96 = cps[cps[\"year\"]==1996]\n",
    "cps_15 = cps[cps[\"year\"]==2015]\n",
    "\n",
    "# Calculating the Sample Mean for the AHE\n",
    "ahe_mean_96_ia = np.mean(cps_96[\"ahe_15\"])\n",
    "ahe_mean_15_ia = np.mean(cps_15[\"ahe_15\"])\n",
    "\n",
    "print(\"The sample mean for the AHE are\", round(ahe_mean_96_ia,2),round(ahe_mean_15_ia,2))\n",
    "\n",
    "# Calculating the Sample Standard Deviation for the AHE\n",
    "ahe_std_96_ia = np.std(cps_96[\"ahe_15\"])\n",
    "ahe_std_15_ia = np.std(cps_15[\"ahe_15\"])\n",
    "\n",
    "print(\"The sample standard deviation for the AHE are\", round(ahe_std_96_ia,2),round(ahe_std_15_ia,2))\n",
    "\n",
    "# Finding the standard error of the mean Average Hourly Earnings\n",
    "\n",
    "n_96 = len(cps_96[\"ahe_15\"])\n",
    "n_15 = len(cps_15[\"ahe_15\"])\n",
    "\n",
    "ahe_se_96_ia = ahe_std_96_ia/np.sqrt(n_96)\n",
    "ahe_se_15_ia = ahe_std_15_ia/np.sqrt(n_15)\n",
    "\n",
    "# Finding the 95% conficence interval of Average Hourly Earnings\n",
    "\n",
    "ll_ahe_96_ia = ahe_mean_96_ia - 1.96*ahe_se_96_ia\n",
    "ul_ahe_96_ia = ahe_mean_96_ia + 1.96*ahe_se_96_ia\n",
    "\n",
    "ll_ahe_15_ia = ahe_mean_15_ia - 1.96*ahe_se_15_ia\n",
    "ul_ahe_15_ia = ahe_mean_15_ia + 1.96*ahe_se_15_ia\n",
    "\n",
    "print(\"The 95% confidence interval for the 96 AHE is\", round(ll_ahe_96_ia,2),round(ul_ahe_96_ia,2))\n",
    "print(\"The 95% confidence interval for the 15 AHE is\", round(ll_ahe_15_ia,2),round(ul_ahe_15_ia,2))\n",
    "\n",
    "# Finding the Standard error of the difference of mean Average Hourly Earnings\n",
    "ahe_se_diff_ia = np.sqrt(ahe_se_96_ia**2+ahe_se_15_ia**2)\n",
    "\n",
    "# Finding the 95% conficence interval of the difference of mean Average Hourly Earnings\n",
    "ll_ahe_diff_ia = ahe_mean_15_ia - ahe_mean_96_ia - 1.96*ahe_se_diff_ia\n",
    "ul_ahe_diff_ia = ahe_mean_15_ia - ahe_mean_96_ia + 1.96*ahe_se_diff_ia\n",
    "\n",
    "print(\"The 95% confidence interval for the difference of means is\", round(ll_ahe_diff_ia,2),round(ul_ahe_diff_ia,2))"
   ]
  }
 ],
 "metadata": {
  "colab": {
   "provenance": []
  },
  "kernelspec": {
   "display_name": "Python 3 (ipykernel)",
   "language": "python",
   "name": "python3"
  },
  "language_info": {
   "codemirror_mode": {
    "name": "ipython",
    "version": 3
   },
   "file_extension": ".py",
   "mimetype": "text/x-python",
   "name": "python",
   "nbconvert_exporter": "python",
   "pygments_lexer": "ipython3",
   "version": "3.9.13"
  }
 },
 "nbformat": 4,
 "nbformat_minor": 5
}
