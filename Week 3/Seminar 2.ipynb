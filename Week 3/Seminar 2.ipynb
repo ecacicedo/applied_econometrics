{
 "cells": [
  {
   "cell_type": "markdown",
   "id": "3fdd02d9",
   "metadata": {},
   "source": [
    "# Seminar 2"
   ]
  },
  {
   "cell_type": "markdown",
   "id": "eaf5e356",
   "metadata": {},
   "source": [
    "### Question 1\n",
    "\n",
    "The “Current Population Survey” (CPS), which provides data on US labor force characteristics of the population, including the level of employment, unemployment, and earnings. The file CPS96_15 contains the data for 1996 and 2015 (from the March 1997 and 2016 surveys). These data are for full-time workers, defined as workers employed more than 35 hours per week for at least 48 weeks in the previous year. Data are provided for workers whose highest educational achievement is (1) a high school diploma, and (2) a bachelor’s degree.\n",
    "\n",
    "\n",
    "|Variable|Description|\n",
    "| -------- | ------- |\n",
    "|FEMALE|1 if female; 0 if male|\n",
    "|YEAR|Year|\n",
    "|AHE|Average Hourly Earnings|\n",
    "|BACHELOR|1 if worker has a bachelor’s degree; 0 if worker has a high school degree|\n",
    "|AGE|Age|"
   ]
  },
  {
   "cell_type": "markdown",
   "id": "55fdcdf6",
   "metadata": {},
   "source": [
    "<b> (a) Compute the sample mean for average hourly earnings (AHE) in 1996 and 2015. <b/>"
   ]
  },
  {
   "cell_type": "code",
   "execution_count": null,
   "id": "92df72c1",
   "metadata": {},
   "outputs": [],
   "source": []
  },
  {
   "cell_type": "markdown",
   "id": "406dc423",
   "metadata": {},
   "source": [
    "<b>(b) Compute the sample standard deviation for AHE in 1996 and 2015.<b/>"
   ]
  },
  {
   "cell_type": "code",
   "execution_count": null,
   "id": "aefe4e20",
   "metadata": {},
   "outputs": [],
   "source": []
  },
  {
   "cell_type": "markdown",
   "id": "b18ed63c",
   "metadata": {},
   "source": [
    "<b>(c) Construct a 95% confidence interval for the population means of AHE in 1996 and 2015.<b/>"
   ]
  },
  {
   "cell_type": "code",
   "execution_count": null,
   "id": "c7041712",
   "metadata": {},
   "outputs": [],
   "source": []
  },
  {
   "cell_type": "markdown",
   "id": "69b6f35d",
   "metadata": {},
   "source": [
    "<b>(d) Construct a 95% confidence interval for the change in the population means of AHE between 1996 and 2015.<b/>"
   ]
  },
  {
   "cell_type": "code",
   "execution_count": null,
   "id": "6292295e",
   "metadata": {
    "scrolled": true
   },
   "outputs": [],
   "source": []
  },
  {
   "cell_type": "markdown",
   "id": "71402501",
   "metadata": {},
   "source": [
    "<b> (e) Create a correlation matrix and heatmap for the Average Hourly Earnings and Age.<b/>"
   ]
  },
  {
   "cell_type": "code",
   "execution_count": null,
   "id": "db8f4aa6",
   "metadata": {},
   "outputs": [],
   "source": []
  },
  {
   "cell_type": "markdown",
   "id": "c6ab3f7b",
   "metadata": {},
   "source": [
    "<b> (f) Draw a scatterplot of Average Hourly Earnings per Age discriminated by Bachelor. Whst does this result suggest? <b/>"
   ]
  },
  {
   "cell_type": "code",
   "execution_count": null,
   "id": "25c4f0a5",
   "metadata": {},
   "outputs": [],
   "source": []
  },
  {
   "cell_type": "markdown",
   "id": "6819e8a5",
   "metadata": {},
   "source": [
    "<b> (g) In 2015, the value of the Consumer Price Index (CPI) was 237.0. In 1996, the value of the CPI was 156.9. Repeat (a), but use AHE measured in real 2015 dollars ($2015); that is, adjust the 1996 data for the price inflation that occurred between 1996 and 2015. <b/>"
   ]
  },
  {
   "cell_type": "code",
   "execution_count": null,
   "id": "258a059e",
   "metadata": {},
   "outputs": [],
   "source": []
  }
 ],
 "metadata": {
  "kernelspec": {
   "display_name": "Python 3 (ipykernel)",
   "language": "python",
   "name": "python3"
  },
  "language_info": {
   "codemirror_mode": {
    "name": "ipython",
    "version": 3
   },
   "file_extension": ".py",
   "mimetype": "text/x-python",
   "name": "python",
   "nbconvert_exporter": "python",
   "pygments_lexer": "ipython3",
   "version": "3.9.13"
  }
 },
 "nbformat": 4,
 "nbformat_minor": 5
}
