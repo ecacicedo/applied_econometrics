{
 "cells": [
  {
   "cell_type": "markdown",
   "id": "9e1e8029",
   "metadata": {},
   "source": [
    "# Seminar 11"
   ]
  },
  {
   "cell_type": "markdown",
   "id": "46b48376",
   "metadata": {},
   "source": [
    "The data in <b>DAX.xlsx</b> contains weekly values of the DAX index from January 2022 to May 2025.\n",
    "\n",
    "The data was obtained from [investing.com](investing.com).\n",
    "\n",
    "The $Price$ variable contains the weekly index values and the $Change \\%$ variable refers to the weekly percentage change in the index."
   ]
  },
  {
   "cell_type": "code",
   "execution_count": null,
   "id": "7c794063",
   "metadata": {},
   "outputs": [],
   "source": [
    "# Importing useful libraries and loading data set\n",
    "\n",
    "import numpy as np\n",
    "import pandas as pd \n",
    "import matplotlib.pyplot as plt\n",
    "import statsmodels.tsa.stattools as stt\n",
    "import statsmodels.tsa.ar_model as arm\n",
    "from sklearn.metrics import mean_squared_error"
   ]
  },
  {
   "cell_type": "code",
   "execution_count": null,
   "id": "04b219f1",
   "metadata": {},
   "outputs": [],
   "source": [
    "# Loading the data set\n",
    "\n",
    "df = pd.read_excel(\"DAX.xlsx\")\n",
    "df"
   ]
  },
  {
   "cell_type": "code",
   "execution_count": null,
   "id": "91c2e8bf",
   "metadata": {},
   "outputs": [],
   "source": [
    "# Converting 'Date' coolumn from string to datetime object\n",
    "\n",
    "df[\"Date\"] = pd.to_datetime(df[\"Date\"])\n",
    "df"
   ]
  },
  {
   "cell_type": "code",
   "execution_count": null,
   "id": "00e64e84",
   "metadata": {},
   "outputs": [],
   "source": [
    "# Inverting the series to show older observations first\n",
    "\n",
    "df = df.iloc[::-1].reset_index(drop=True)\n",
    "df"
   ]
  },
  {
   "cell_type": "code",
   "execution_count": null,
   "id": "dbd41128",
   "metadata": {},
   "outputs": [],
   "source": [
    "# Modifying column 'Change %' to present percentage rather than decimal\n",
    "\n",
    "df['Change %'] = df['Change %']*100\n",
    "df"
   ]
  },
  {
   "cell_type": "code",
   "execution_count": null,
   "id": "035f500f",
   "metadata": {},
   "outputs": [],
   "source": [
    "# Creating a function to find the AR(k) forecasts for each training set\n",
    "\n",
    "def ar_pred(x,k):\n",
    "    model = arm.AutoReg(x,lags=k).fit()\n",
    "    yhat = model.forecast(steps=1)\n",
    "    return yhat"
   ]
  },
  {
   "cell_type": "markdown",
   "id": "ff163948",
   "metadata": {},
   "source": [
    "<b>\n",
    "\n",
    "1. Plot the time series of the DAX index values and returns and comment on its characteristics.\n",
    "\n",
    "</b>"
   ]
  },
  {
   "cell_type": "code",
   "execution_count": null,
   "id": "c8de235c",
   "metadata": {},
   "outputs": [],
   "source": []
  },
  {
   "cell_type": "markdown",
   "id": "db84ee6e",
   "metadata": {},
   "source": [
    "<b>\n",
    "\n",
    "2. For which of these two series do you believe would be appropriate to fit an autoregressive model? \n",
    "\n",
    "</b>"
   ]
  },
  {
   "cell_type": "code",
   "execution_count": null,
   "id": "ffbccc50",
   "metadata": {},
   "outputs": [],
   "source": []
  },
  {
   "cell_type": "markdown",
   "id": "a63db4c8",
   "metadata": {},
   "source": [
    "<b>\n",
    "\n",
    "3. Fit an AR(4) model to the data and create 12 week expanding window forecasts. Present a graph comparing forecasts with actual data.\n",
    "    \n",
    "</b>"
   ]
  },
  {
   "cell_type": "code",
   "execution_count": null,
   "id": "c84e875e",
   "metadata": {},
   "outputs": [],
   "source": []
  },
  {
   "cell_type": "markdown",
   "id": "cc1d73ab",
   "metadata": {},
   "source": [
    "<b>\n",
    "\n",
    "4. Fit an AR(4) model to the data and create 12 week rolling window forecasts. Present a graph comparing forecasts with actual data.\n",
    "    \n",
    "</b>"
   ]
  },
  {
   "cell_type": "code",
   "execution_count": null,
   "id": "a65f47e8",
   "metadata": {},
   "outputs": [],
   "source": []
  },
  {
   "cell_type": "markdown",
   "id": "b4a08c8d",
   "metadata": {},
   "source": [
    "<b>\n",
    "\n",
    "5. Compute the root mean squared error for both forecasting models and comment on the difference.\n",
    "\n",
    "</b>"
   ]
  },
  {
   "cell_type": "code",
   "execution_count": null,
   "id": "2f718e72",
   "metadata": {},
   "outputs": [],
   "source": []
  }
 ],
 "metadata": {
  "kernelspec": {
   "display_name": "Python 3 (ipykernel)",
   "language": "python",
   "name": "python3"
  },
  "language_info": {
   "codemirror_mode": {
    "name": "ipython",
    "version": 3
   },
   "file_extension": ".py",
   "mimetype": "text/x-python",
   "name": "python",
   "nbconvert_exporter": "python",
   "pygments_lexer": "ipython3",
   "version": "3.12.4"
  }
 },
 "nbformat": 4,
 "nbformat_minor": 5
}
