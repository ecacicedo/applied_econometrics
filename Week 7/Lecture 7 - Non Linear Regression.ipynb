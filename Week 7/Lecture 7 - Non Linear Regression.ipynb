{
 "cells": [
  {
   "cell_type": "markdown",
   "id": "9e1e8029",
   "metadata": {
    "id": "9e1e8029"
   },
   "source": [
    "# Non Linear Regression"
   ]
  },
  {
   "cell_type": "markdown",
   "id": "8c020d06",
   "metadata": {
    "id": "8c020d06"
   },
   "source": [
    "### California Test Score Data Set\n",
    "\n",
    "The California Standardized Testing and Reporting data set contains data on test performance, school characteristics, and student demographic backgrounds. \n",
    "\n",
    "Test scores are the average of the reading and math scores. The student–teacher ratio used here is the number of students in the district divided by the number of full-time equivalent teachers.\n",
    "\n",
    "The demographic variables include the percentage of students who are in the public assistance program CalWorks, the percentage of students who qualify for a reduced-price lunch, and the percentage of students who has English as a second language.\n",
    "\n",
    "The dataset is used in the reference textbook Introduction to Econometrics, 4th edition \n",
    "(Stock and Watson)."
   ]
  },
  {
   "cell_type": "code",
   "execution_count": 9,
   "id": "e2c31b99",
   "metadata": {
    "id": "e2c31b99"
   },
   "outputs": [],
   "source": [
    "# Importing useful libraries and loading data set\n",
    "\n",
    "import numpy as np\n",
    "import pandas as pd\n",
    "import matplotlib.pyplot as plt\n",
    "import seaborn as sns\n",
    "from statsmodels.compat import lzip\n",
    "import statsmodels.formula.api as smf\n",
    "import statsmodels.stats.outliers_influence as soi"
   ]
  },
  {
   "cell_type": "code",
   "execution_count": 3,
   "id": "ab5b78cc",
   "metadata": {
    "colab": {
     "base_uri": "https://localhost:8080/",
     "height": 738
    },
    "id": "ab5b78cc",
    "outputId": "47dbd88a-5dab-4fad-e6ba-f836a16ced2c"
   },
   "outputs": [
    {
     "data": {
      "text/html": [
       "<div>\n",
       "<style scoped>\n",
       "    .dataframe tbody tr th:only-of-type {\n",
       "        vertical-align: middle;\n",
       "    }\n",
       "\n",
       "    .dataframe tbody tr th {\n",
       "        vertical-align: top;\n",
       "    }\n",
       "\n",
       "    .dataframe thead th {\n",
       "        text-align: right;\n",
       "    }\n",
       "</style>\n",
       "<table border=\"1\" class=\"dataframe\">\n",
       "  <thead>\n",
       "    <tr style=\"text-align: right;\">\n",
       "      <th></th>\n",
       "      <th>Observation Number</th>\n",
       "      <th>dist_cod</th>\n",
       "      <th>county</th>\n",
       "      <th>district</th>\n",
       "      <th>gr_span</th>\n",
       "      <th>enrl_tot</th>\n",
       "      <th>teachers</th>\n",
       "      <th>calw_pct</th>\n",
       "      <th>meal_pct</th>\n",
       "      <th>computer</th>\n",
       "      <th>testscr</th>\n",
       "      <th>comp_stu</th>\n",
       "      <th>expn_stu</th>\n",
       "      <th>str</th>\n",
       "      <th>avginc</th>\n",
       "      <th>el_pct</th>\n",
       "      <th>read_scr</th>\n",
       "      <th>math_scr</th>\n",
       "    </tr>\n",
       "  </thead>\n",
       "  <tbody>\n",
       "    <tr>\n",
       "      <th>0</th>\n",
       "      <td>1</td>\n",
       "      <td>75119</td>\n",
       "      <td>Alameda</td>\n",
       "      <td>Sunol Glen Unified</td>\n",
       "      <td>KK-08</td>\n",
       "      <td>195</td>\n",
       "      <td>10.900000</td>\n",
       "      <td>0.510200</td>\n",
       "      <td>2.040800</td>\n",
       "      <td>67</td>\n",
       "      <td>690.799988</td>\n",
       "      <td>0.343590</td>\n",
       "      <td>6384.911133</td>\n",
       "      <td>17.889910</td>\n",
       "      <td>22.690001</td>\n",
       "      <td>0.000000</td>\n",
       "      <td>691.599976</td>\n",
       "      <td>690.000000</td>\n",
       "    </tr>\n",
       "    <tr>\n",
       "      <th>1</th>\n",
       "      <td>2</td>\n",
       "      <td>61499</td>\n",
       "      <td>Butte</td>\n",
       "      <td>Manzanita Elementary</td>\n",
       "      <td>KK-08</td>\n",
       "      <td>240</td>\n",
       "      <td>11.150000</td>\n",
       "      <td>15.416700</td>\n",
       "      <td>47.916698</td>\n",
       "      <td>101</td>\n",
       "      <td>661.200012</td>\n",
       "      <td>0.420833</td>\n",
       "      <td>5099.380859</td>\n",
       "      <td>21.524664</td>\n",
       "      <td>9.824000</td>\n",
       "      <td>4.583333</td>\n",
       "      <td>660.500000</td>\n",
       "      <td>661.900024</td>\n",
       "    </tr>\n",
       "    <tr>\n",
       "      <th>2</th>\n",
       "      <td>3</td>\n",
       "      <td>61549</td>\n",
       "      <td>Butte</td>\n",
       "      <td>Thermalito Union Elementary</td>\n",
       "      <td>KK-08</td>\n",
       "      <td>1550</td>\n",
       "      <td>82.900002</td>\n",
       "      <td>55.032299</td>\n",
       "      <td>76.322601</td>\n",
       "      <td>169</td>\n",
       "      <td>643.599976</td>\n",
       "      <td>0.109032</td>\n",
       "      <td>5501.954590</td>\n",
       "      <td>18.697226</td>\n",
       "      <td>8.978000</td>\n",
       "      <td>30.000002</td>\n",
       "      <td>636.299988</td>\n",
       "      <td>650.900024</td>\n",
       "    </tr>\n",
       "    <tr>\n",
       "      <th>3</th>\n",
       "      <td>4</td>\n",
       "      <td>61457</td>\n",
       "      <td>Butte</td>\n",
       "      <td>Golden Feather Union Elementary</td>\n",
       "      <td>KK-08</td>\n",
       "      <td>243</td>\n",
       "      <td>14.000000</td>\n",
       "      <td>36.475399</td>\n",
       "      <td>77.049202</td>\n",
       "      <td>85</td>\n",
       "      <td>647.700012</td>\n",
       "      <td>0.349794</td>\n",
       "      <td>7101.831055</td>\n",
       "      <td>17.357143</td>\n",
       "      <td>8.978000</td>\n",
       "      <td>0.000000</td>\n",
       "      <td>651.900024</td>\n",
       "      <td>643.500000</td>\n",
       "    </tr>\n",
       "    <tr>\n",
       "      <th>4</th>\n",
       "      <td>5</td>\n",
       "      <td>61523</td>\n",
       "      <td>Butte</td>\n",
       "      <td>Palermo Union Elementary</td>\n",
       "      <td>KK-08</td>\n",
       "      <td>1335</td>\n",
       "      <td>71.500000</td>\n",
       "      <td>33.108601</td>\n",
       "      <td>78.427002</td>\n",
       "      <td>171</td>\n",
       "      <td>640.849976</td>\n",
       "      <td>0.128090</td>\n",
       "      <td>5235.987793</td>\n",
       "      <td>18.671329</td>\n",
       "      <td>9.080333</td>\n",
       "      <td>13.857677</td>\n",
       "      <td>641.799988</td>\n",
       "      <td>639.900024</td>\n",
       "    </tr>\n",
       "    <tr>\n",
       "      <th>...</th>\n",
       "      <td>...</td>\n",
       "      <td>...</td>\n",
       "      <td>...</td>\n",
       "      <td>...</td>\n",
       "      <td>...</td>\n",
       "      <td>...</td>\n",
       "      <td>...</td>\n",
       "      <td>...</td>\n",
       "      <td>...</td>\n",
       "      <td>...</td>\n",
       "      <td>...</td>\n",
       "      <td>...</td>\n",
       "      <td>...</td>\n",
       "      <td>...</td>\n",
       "      <td>...</td>\n",
       "      <td>...</td>\n",
       "      <td>...</td>\n",
       "      <td>...</td>\n",
       "    </tr>\n",
       "    <tr>\n",
       "      <th>415</th>\n",
       "      <td>416</td>\n",
       "      <td>68957</td>\n",
       "      <td>San Mateo</td>\n",
       "      <td>Las Lomitas Elementary</td>\n",
       "      <td>KK-08</td>\n",
       "      <td>984</td>\n",
       "      <td>59.730000</td>\n",
       "      <td>0.101600</td>\n",
       "      <td>3.556900</td>\n",
       "      <td>195</td>\n",
       "      <td>704.300049</td>\n",
       "      <td>0.198171</td>\n",
       "      <td>7290.338867</td>\n",
       "      <td>16.474134</td>\n",
       "      <td>28.716999</td>\n",
       "      <td>5.995935</td>\n",
       "      <td>700.900024</td>\n",
       "      <td>707.700012</td>\n",
       "    </tr>\n",
       "    <tr>\n",
       "      <th>416</th>\n",
       "      <td>417</td>\n",
       "      <td>69518</td>\n",
       "      <td>Santa Clara</td>\n",
       "      <td>Los Altos Elementary</td>\n",
       "      <td>KK-08</td>\n",
       "      <td>3724</td>\n",
       "      <td>208.479996</td>\n",
       "      <td>1.074100</td>\n",
       "      <td>1.503800</td>\n",
       "      <td>721</td>\n",
       "      <td>706.750000</td>\n",
       "      <td>0.193609</td>\n",
       "      <td>5741.462891</td>\n",
       "      <td>17.862625</td>\n",
       "      <td>41.734108</td>\n",
       "      <td>4.726101</td>\n",
       "      <td>704.000000</td>\n",
       "      <td>709.500000</td>\n",
       "    </tr>\n",
       "    <tr>\n",
       "      <th>417</th>\n",
       "      <td>418</td>\n",
       "      <td>72611</td>\n",
       "      <td>Ventura</td>\n",
       "      <td>Somis Union Elementary</td>\n",
       "      <td>KK-08</td>\n",
       "      <td>441</td>\n",
       "      <td>20.150000</td>\n",
       "      <td>3.563500</td>\n",
       "      <td>37.193802</td>\n",
       "      <td>45</td>\n",
       "      <td>645.000000</td>\n",
       "      <td>0.102041</td>\n",
       "      <td>4402.831543</td>\n",
       "      <td>21.885857</td>\n",
       "      <td>23.733000</td>\n",
       "      <td>24.263039</td>\n",
       "      <td>648.299988</td>\n",
       "      <td>641.700012</td>\n",
       "    </tr>\n",
       "    <tr>\n",
       "      <th>418</th>\n",
       "      <td>419</td>\n",
       "      <td>72744</td>\n",
       "      <td>Yuba</td>\n",
       "      <td>Plumas Elementary</td>\n",
       "      <td>KK-08</td>\n",
       "      <td>101</td>\n",
       "      <td>5.000000</td>\n",
       "      <td>11.881200</td>\n",
       "      <td>59.405899</td>\n",
       "      <td>14</td>\n",
       "      <td>672.200012</td>\n",
       "      <td>0.138614</td>\n",
       "      <td>4776.336426</td>\n",
       "      <td>20.200001</td>\n",
       "      <td>9.952000</td>\n",
       "      <td>2.970297</td>\n",
       "      <td>667.900024</td>\n",
       "      <td>676.500000</td>\n",
       "    </tr>\n",
       "    <tr>\n",
       "      <th>419</th>\n",
       "      <td>420</td>\n",
       "      <td>72751</td>\n",
       "      <td>Yuba</td>\n",
       "      <td>Wheatland Elementary</td>\n",
       "      <td>KK-08</td>\n",
       "      <td>1778</td>\n",
       "      <td>93.400002</td>\n",
       "      <td>6.923500</td>\n",
       "      <td>47.571201</td>\n",
       "      <td>313</td>\n",
       "      <td>655.750000</td>\n",
       "      <td>0.176041</td>\n",
       "      <td>5993.392578</td>\n",
       "      <td>19.036402</td>\n",
       "      <td>12.502000</td>\n",
       "      <td>5.005624</td>\n",
       "      <td>660.500000</td>\n",
       "      <td>651.000000</td>\n",
       "    </tr>\n",
       "  </tbody>\n",
       "</table>\n",
       "<p>420 rows × 18 columns</p>\n",
       "</div>"
      ],
      "text/plain": [
       "     Observation Number  dist_cod       county  \\\n",
       "0                     1     75119      Alameda   \n",
       "1                     2     61499        Butte   \n",
       "2                     3     61549        Butte   \n",
       "3                     4     61457        Butte   \n",
       "4                     5     61523        Butte   \n",
       "..                  ...       ...          ...   \n",
       "415                 416     68957    San Mateo   \n",
       "416                 417     69518  Santa Clara   \n",
       "417                 418     72611      Ventura   \n",
       "418                 419     72744         Yuba   \n",
       "419                 420     72751         Yuba   \n",
       "\n",
       "                            district gr_span  enrl_tot    teachers   calw_pct  \\\n",
       "0                 Sunol Glen Unified   KK-08       195   10.900000   0.510200   \n",
       "1               Manzanita Elementary   KK-08       240   11.150000  15.416700   \n",
       "2        Thermalito Union Elementary   KK-08      1550   82.900002  55.032299   \n",
       "3    Golden Feather Union Elementary   KK-08       243   14.000000  36.475399   \n",
       "4           Palermo Union Elementary   KK-08      1335   71.500000  33.108601   \n",
       "..                               ...     ...       ...         ...        ...   \n",
       "415           Las Lomitas Elementary   KK-08       984   59.730000   0.101600   \n",
       "416             Los Altos Elementary   KK-08      3724  208.479996   1.074100   \n",
       "417           Somis Union Elementary   KK-08       441   20.150000   3.563500   \n",
       "418                Plumas Elementary   KK-08       101    5.000000  11.881200   \n",
       "419             Wheatland Elementary   KK-08      1778   93.400002   6.923500   \n",
       "\n",
       "      meal_pct  computer     testscr  comp_stu     expn_stu        str  \\\n",
       "0     2.040800        67  690.799988  0.343590  6384.911133  17.889910   \n",
       "1    47.916698       101  661.200012  0.420833  5099.380859  21.524664   \n",
       "2    76.322601       169  643.599976  0.109032  5501.954590  18.697226   \n",
       "3    77.049202        85  647.700012  0.349794  7101.831055  17.357143   \n",
       "4    78.427002       171  640.849976  0.128090  5235.987793  18.671329   \n",
       "..         ...       ...         ...       ...          ...        ...   \n",
       "415   3.556900       195  704.300049  0.198171  7290.338867  16.474134   \n",
       "416   1.503800       721  706.750000  0.193609  5741.462891  17.862625   \n",
       "417  37.193802        45  645.000000  0.102041  4402.831543  21.885857   \n",
       "418  59.405899        14  672.200012  0.138614  4776.336426  20.200001   \n",
       "419  47.571201       313  655.750000  0.176041  5993.392578  19.036402   \n",
       "\n",
       "        avginc     el_pct    read_scr    math_scr  \n",
       "0    22.690001   0.000000  691.599976  690.000000  \n",
       "1     9.824000   4.583333  660.500000  661.900024  \n",
       "2     8.978000  30.000002  636.299988  650.900024  \n",
       "3     8.978000   0.000000  651.900024  643.500000  \n",
       "4     9.080333  13.857677  641.799988  639.900024  \n",
       "..         ...        ...         ...         ...  \n",
       "415  28.716999   5.995935  700.900024  707.700012  \n",
       "416  41.734108   4.726101  704.000000  709.500000  \n",
       "417  23.733000  24.263039  648.299988  641.700012  \n",
       "418   9.952000   2.970297  667.900024  676.500000  \n",
       "419  12.502000   5.005624  660.500000  651.000000  \n",
       "\n",
       "[420 rows x 18 columns]"
      ]
     },
     "execution_count": 3,
     "metadata": {},
     "output_type": "execute_result"
    }
   ],
   "source": [
    "df = pd.read_excel(\"caschool.xlsx\")\n",
    "df"
   ]
  },
  {
   "cell_type": "markdown",
   "id": "b2b93633",
   "metadata": {
    "id": "b2b93633"
   },
   "source": [
    "## Quadratic Regression\n",
    "\n",
    "Let's look at the relationship between Test Scores and District Income using a scatterplot"
   ]
  },
  {
   "cell_type": "code",
   "execution_count": 5,
   "id": "ec094660",
   "metadata": {},
   "outputs": [
    {
     "data": {
      "text/plain": [
       "<function matplotlib.pyplot.show(close=None, block=None)>"
      ]
     },
     "execution_count": 5,
     "metadata": {},
     "output_type": "execute_result"
    },
    {
     "data": {
      "image/png": "[encoded data removed]",
      "text/plain": [
       "<Figure size 640x480 with 1 Axes>"
      ]
     },
     "metadata": {},
     "output_type": "display_data"
    }
   ],
   "source": [
    "# Creating a scatterplot for the relationship between test scores and income\n",
    "\n",
    "plt.scatter(df.avginc,df.testscr,color='k')                 # Scatterplot: points in black\n",
    "\n",
    "plt.title(\"Scatterplot between Test Scores and District Income\")           # Plot title\n",
    "plt.xlabel(\"District Income\")                                        # Plot x-axis label\n",
    "plt.ylabel(\"Test Scores\")                                                # Plot y-axis label\n",
    "\n",
    "plt.show"
   ]
  },
  {
   "cell_type": "markdown",
   "id": "a8685b02",
   "metadata": {},
   "source": [
    "Let's run a quadratic regression including district income and its squared values as additional regressors.\n",
    "\n",
    "The regression equation is\n",
    "\n",
    "$$ TestScore_i = \\beta_0 + \\beta_1 Income_i + \\beta_2 Income_{i}^{2} $$"
   ]
  },
  {
   "cell_type": "code",
   "execution_count": 6,
   "id": "c203500b",
   "metadata": {},
   "outputs": [
    {
     "data": {
      "text/plain": [
       "<function matplotlib.pyplot.show(close=None, block=None)>"
      ]
     },
     "execution_count": 6,
     "metadata": {},
     "output_type": "execute_result"
    },
    {
     "data": {
      "image/png": "[encoded data removed]",
      "text/plain": [
       "<Figure size 640x480 with 1 Axes>"
      ]
     },
     "metadata": {},
     "output_type": "display_data"
    }
   ],
   "source": [
    "# Creating the estimated regression line for Test Scores\n",
    "\n",
    "lin_mod = smf.ols('testscr ~ avginc', df).fit()\n",
    "y_hat = lin_mod.params.Intercept + lin_mod.params['avginc']*df.avginc\n",
    "\n",
    "# Creating a scatterplot with both regression lines\n",
    "\n",
    "plt.scatter(df.avginc,df.testscr,color='k')                 # Scatterplot: points in black\n",
    "plt.plot(df.avginc,y_hat,color='b')                         # Regression line in blue\n",
    "\n",
    "plt.title(\"Estimated Linear Regression for Test Scores\")           # Plot title\n",
    "plt.xlabel(\"District Income\")                                        # Plot x-axis label\n",
    "plt.ylabel(\"Test Scores\")                                                # Plot y-axis label\n",
    "\n",
    "plt.show"
   ]
  },
  {
   "cell_type": "code",
   "execution_count": 7,
   "id": "1a48c64b",
   "metadata": {
    "colab": {
     "base_uri": "https://localhost:8080/"
    },
    "id": "1a48c64b",
    "outputId": "53a83394-e691-4edc-84cd-9d0a83d9fcf5"
   },
   "outputs": [
    {
     "name": "stdout",
     "output_type": "stream",
     "text": [
      "                            OLS Regression Results                            \n",
      "==============================================================================\n",
      "Dep. Variable:                testscr   R-squared:                       0.556\n",
      "Model:                            OLS   Adj. R-squared:                  0.554\n",
      "Method:                 Least Squares   F-statistic:                     431.6\n",
      "Date:                Wed, 12 Mar 2025   Prob (F-statistic):          2.69e-102\n",
      "Time:                        16:55:02   Log-Likelihood:                -1662.7\n",
      "No. Observations:                 420   AIC:                             3331.\n",
      "Df Residuals:                     417   BIC:                             3344.\n",
      "Df Model:                           2                                         \n",
      "Covariance Type:                  HC0                                         \n",
      "==============================================================================\n",
      "                 coef    std err          z      P>|z|      [0.025      0.975]\n",
      "------------------------------------------------------------------------------\n",
      "Intercept    607.3017      2.891    210.039      0.000     601.635     612.969\n",
      "avginc         3.8510      0.267     14.416      0.000       3.327       4.375\n",
      "avginc_2      -0.0423      0.005     -8.882      0.000      -0.052      -0.033\n",
      "==============================================================================\n",
      "Omnibus:                        0.556   Durbin-Watson:                   0.951\n",
      "Prob(Omnibus):                  0.757   Jarque-Bera (JB):                0.378\n",
      "Skew:                          -0.048   Prob(JB):                        0.828\n",
      "Kurtosis:                       3.111   Cond. No.                     2.23e+03\n",
      "==============================================================================\n",
      "\n",
      "Notes:\n",
      "[1] Standard Errors are heteroscedasticity robust (HC0)\n",
      "[2] The condition number is large, 2.23e+03. This might indicate that there are\n",
      "strong multicollinearity or other numerical problems.\n"
     ]
    }
   ],
   "source": [
    "# Create a new variable with the squared district income values\n",
    "\n",
    "df['avginc_2'] = df['avginc']**2\n",
    "\n",
    "# Fit the quadratic regression\n",
    "\n",
    "formula = 'testscr ~ avginc + avginc_2'\n",
    "model = smf.ols(formula, df).fit(cov_type = \"HC0\")\n",
    "print(model.summary())"
   ]
  },
  {
   "cell_type": "markdown",
   "id": "07a1abbe",
   "metadata": {},
   "source": [
    "## Ramsey's RESET Test\n",
    "\n",
    "Ramsey's RESET test is a test of whether the functional form of the regression is appropriate.\n",
    "\n",
    "Let's test if the specification for the linear model in income is adequate\n",
    "\n",
    "$$ TestScore_i = \\beta_0 + \\beta_1 Income_i $$"
   ]
  },
  {
   "cell_type": "code",
   "execution_count": 10,
   "id": "563ecc8b",
   "metadata": {},
   "outputs": [
    {
     "data": {
      "text/plain": [
       "<class 'statsmodels.stats.contrast.ContrastResults'>\n",
       "<F test: F=45.67697270582521, p=4.713383388594822e-11, df_denom=417, df_num=1>"
      ]
     },
     "execution_count": 10,
     "metadata": {},
     "output_type": "execute_result"
    }
   ],
   "source": [
    "soi.reset_ramsey(lin_mod, degree = 2)"
   ]
  },
  {
   "cell_type": "markdown",
   "id": "dd0c5435",
   "metadata": {},
   "source": [
    "The p-value of the F-Statistic is approximately 0%. The null hypothesis of correct specification can be rejected.\n",
    "\n",
    "It suggests we could improve our model by adding second degree transformations of our variables"
   ]
  },
  {
   "cell_type": "markdown",
   "id": "d0b19d51",
   "metadata": {},
   "source": [
    "## Linear-log model"
   ]
  },
  {
   "cell_type": "code",
   "execution_count": 11,
   "id": "add40c4c",
   "metadata": {},
   "outputs": [
    {
     "name": "stdout",
     "output_type": "stream",
     "text": [
      "                            OLS Regression Results                            \n",
      "==============================================================================\n",
      "Dep. Variable:                testscr   R-squared:                       0.563\n",
      "Model:                            OLS   Adj. R-squared:                  0.561\n",
      "Method:                 Least Squares   F-statistic:                     682.9\n",
      "Date:                Wed, 12 Mar 2025   Prob (F-statistic):           6.18e-90\n",
      "Time:                        16:56:21   Log-Likelihood:                -1659.7\n",
      "No. Observations:                 420   AIC:                             3323.\n",
      "Df Residuals:                     418   BIC:                             3331.\n",
      "Df Model:                           1                                         \n",
      "Covariance Type:                  HC0                                         \n",
      "==============================================================================\n",
      "                 coef    std err          z      P>|z|      [0.025      0.975]\n",
      "------------------------------------------------------------------------------\n",
      "Intercept    557.8323      3.831    145.618      0.000     550.324     565.340\n",
      "log_avginc    36.4197      1.394     26.133      0.000      33.688      39.151\n",
      "==============================================================================\n",
      "Omnibus:                        0.548   Durbin-Watson:                   0.991\n",
      "Prob(Omnibus):                  0.760   Jarque-Bera (JB):                0.388\n",
      "Skew:                          -0.059   Prob(JB):                        0.824\n",
      "Kurtosis:                       3.091   Cond. No.                         20.7\n",
      "==============================================================================\n",
      "\n",
      "Notes:\n",
      "[1] Standard Errors are heteroscedasticity robust (HC0)\n"
     ]
    }
   ],
   "source": [
    "# Create a new variable with the log district income values\n",
    "\n",
    "df['log_avginc'] = np.log(df['avginc'])\n",
    "\n",
    "# Fit the linear-Log regression\n",
    "\n",
    "formula = 'testscr ~ log_avginc'\n",
    "lin_log = smf.ols(formula, df).fit(cov_type = \"HC0\")\n",
    "print(lin_log.summary())"
   ]
  },
  {
   "cell_type": "markdown",
   "id": "ab9df049",
   "metadata": {},
   "source": [
    "## Linear-log model"
   ]
  },
  {
   "cell_type": "code",
   "execution_count": 12,
   "id": "b1839068",
   "metadata": {},
   "outputs": [
    {
     "name": "stdout",
     "output_type": "stream",
     "text": [
      "                            OLS Regression Results                            \n",
      "==============================================================================\n",
      "Dep. Variable:            log_testscr   R-squared:                       0.498\n",
      "Model:                            OLS   Adj. R-squared:                  0.497\n",
      "Method:                 Least Squares   F-statistic:                     265.1\n",
      "Date:                Wed, 12 Mar 2025   Prob (F-statistic):           1.63e-46\n",
      "Time:                        16:56:23   Log-Likelihood:                 1034.7\n",
      "No. Observations:                 420   AIC:                            -2065.\n",
      "Df Residuals:                     418   BIC:                            -2057.\n",
      "Df Model:                           1                                         \n",
      "Covariance Type:                  HC0                                         \n",
      "==============================================================================\n",
      "                 coef    std err          z      P>|z|      [0.025      0.975]\n",
      "------------------------------------------------------------------------------\n",
      "Intercept      6.4394      0.003   2230.527      0.000       6.434       6.445\n",
      "avginc         0.0028      0.000     16.282      0.000       0.003       0.003\n",
      "==============================================================================\n",
      "Omnibus:                        3.487   Durbin-Watson:                   0.627\n",
      "Prob(Omnibus):                  0.175   Jarque-Bera (JB):                3.538\n",
      "Skew:                          -0.200   Prob(JB):                        0.171\n",
      "Kurtosis:                       2.795   Cond. No.                         39.8\n",
      "==============================================================================\n",
      "\n",
      "Notes:\n",
      "[1] Standard Errors are heteroscedasticity robust (HC0)\n"
     ]
    }
   ],
   "source": [
    "# Create a new variable with the log testscore values\n",
    "\n",
    "df['log_testscr'] = np.log(df['testscr'])\n",
    "\n",
    "# Fit the Log-linear regression\n",
    "\n",
    "formula = 'log_testscr ~ avginc'\n",
    "log_lin = smf.ols(formula, df).fit(cov_type = \"HC0\")\n",
    "print(log_lin.summary())"
   ]
  },
  {
   "cell_type": "markdown",
   "id": "b994d59e",
   "metadata": {},
   "source": [
    "## Log-log regression"
   ]
  },
  {
   "cell_type": "code",
   "execution_count": 13,
   "id": "893bcc5e",
   "metadata": {},
   "outputs": [
    {
     "name": "stdout",
     "output_type": "stream",
     "text": [
      "                            OLS Regression Results                            \n",
      "==============================================================================\n",
      "Dep. Variable:            log_testscr   R-squared:                       0.558\n",
      "Model:                            OLS   Adj. R-squared:                  0.557\n",
      "Method:                 Least Squares   F-statistic:                     671.0\n",
      "Date:                Wed, 12 Mar 2025   Prob (F-statistic):           6.09e-89\n",
      "Time:                        16:56:24   Log-Likelihood:                 1061.2\n",
      "No. Observations:                 420   AIC:                            -2118.\n",
      "Df Residuals:                     418   BIC:                            -2110.\n",
      "Df Model:                           1                                         \n",
      "Covariance Type:                  HC0                                         \n",
      "==============================================================================\n",
      "                 coef    std err          z      P>|z|      [0.025      0.975]\n",
      "------------------------------------------------------------------------------\n",
      "Intercept      6.3363      0.006   1072.056      0.000       6.325       6.348\n",
      "log_avginc     0.0554      0.002     25.903      0.000       0.051       0.060\n",
      "==============================================================================\n",
      "Omnibus:                        1.085   Durbin-Watson:                   0.972\n",
      "Prob(Omnibus):                  0.581   Jarque-Bera (JB):                0.886\n",
      "Skew:                          -0.096   Prob(JB):                        0.642\n",
      "Kurtosis:                       3.118   Cond. No.                         20.7\n",
      "==============================================================================\n",
      "\n",
      "Notes:\n",
      "[1] Standard Errors are heteroscedasticity robust (HC0)\n"
     ]
    }
   ],
   "source": [
    "# Fit the Log-log regression\n",
    "\n",
    "formula = 'log_testscr ~ log_avginc'\n",
    "log_log = smf.ols(formula, df).fit(cov_type = \"HC0\")\n",
    "print(log_log.summary())"
   ]
  }
 ],
 "metadata": {
  "colab": {
   "provenance": []
  },
  "kernelspec": {
   "display_name": "Python 3 (ipykernel)",
   "language": "python",
   "name": "python3"
  },
  "language_info": {
   "codemirror_mode": {
    "name": "ipython",
    "version": 3
   },
   "file_extension": ".py",
   "mimetype": "text/x-python",
   "name": "python",
   "nbconvert_exporter": "python",
   "pygments_lexer": "ipython3",
   "version": "3.12.4"
  }
 },
 "nbformat": 4,
 "nbformat_minor": 5
}
