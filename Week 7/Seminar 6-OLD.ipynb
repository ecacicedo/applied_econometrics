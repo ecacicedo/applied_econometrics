{
 "cells": [
  {
   "cell_type": "markdown",
   "id": "9e1e8029",
   "metadata": {
    "id": "9e1e8029"
   },
   "source": [
    "# Seminar 6"
   ]
  },
  {
   "cell_type": "markdown",
   "id": "8c020d06",
   "metadata": {
    "id": "8c020d06"
   },
   "source": [
    "## Question 1\n",
    "\n",
    "Use the <b>birthweight_smoking.xlsx</b> data set to answer the questions.\n",
    "\n",
    "The file contains 3,000 observations on the variables described below.\n",
    "\n",
    "|Variable| Description|\n",
    "|--------|-----------|\n",
    "|birthweight| birth weight of infant (in grams)|\n",
    "|smoker| indicator equal to one if the mother smoked during pregnancy and zero, otherwise.|\n",
    "|age| mother's age\n",
    "|educ| mother's years of educational attainment (more than 16 years coded as 17)\n",
    "|unmarried| indicator =1 if mother is unmarried\n",
    "|alcohol| indicator=1 if mother drank alcohol during pregnancy|\n",
    "|drinks| number of drinks per week|\n",
    "|tripre1| indicator=1 if 1st prenatal care visit in 1st trimester|\n",
    "|tripre2| indicator=1 if 1st prenatal care visit in 2nd trimester|\n",
    "|tripre3| indicator=1 if 1st prenatal care visit in 3rd trimester|\n",
    "|tripre0| indicator=1 if no prenatal visits|\n",
    "|nprevist| total number of prenatal visits|\n"
   ]
  },
  {
   "cell_type": "code",
   "execution_count": null,
   "id": "e2c31b99",
   "metadata": {
    "id": "e2c31b99"
   },
   "outputs": [],
   "source": [
    "# Importing useful libraries and loading data set\n",
    "\n",
    "import numpy as np\n",
    "import pandas as pd\n",
    "import matplotlib.pyplot as plt\n",
    "import seaborn as sns\n",
    "from statsmodels.compat import lzip\n",
    "import statsmodels.formula.api as smf\n",
    "\n",
    "# Machine Learning useful libraries and functions\n",
    "from sklearn.model_selection import train_test_split\n",
    "from sklearn.linear_model import LinearRegression\n",
    "from sklearn.metrics import mean_squared_error\n",
    "from sklearn.model_selection import cross_val_score\n",
    "from sklearn.linear_model import Ridge, RidgeCV, Lasso, LassoCV"
   ]
  },
  {
   "cell_type": "code",
   "execution_count": null,
   "id": "7cd51207",
   "metadata": {
    "colab": {
     "base_uri": "https://localhost:8080/",
     "height": 1000
    },
    "id": "7cd51207",
    "outputId": "35a8e134-846b-44e8-cf45-fa5caa74b359"
   },
   "outputs": [],
   "source": [
    "from google.colab import files\n",
    "files.upload()"
   ]
  },
  {
   "cell_type": "code",
   "execution_count": null,
   "id": "ab5b78cc",
   "metadata": {
    "colab": {
     "base_uri": "https://localhost:8080/",
     "height": 738
    },
    "id": "ab5b78cc",
    "outputId": "47dbd88a-5dab-4fad-e6ba-f836a16ced2c",
    "scrolled": true
   },
   "outputs": [],
   "source": [
    "df = pd.read_excel(\"birthweight_smoking.xlsx\")\n",
    "df"
   ]
  },
  {
   "cell_type": "markdown",
   "id": "40e7a64b",
   "metadata": {},
   "source": [
    "<b>\n",
    "1. To begin, create a correlation matrix for the variables. Interpret the results\n",
    "</b>"
   ]
  },
  {
   "cell_type": "code",
   "execution_count": null,
   "id": "72112d21",
   "metadata": {},
   "outputs": [],
   "source": []
  },
  {
   "cell_type": "markdown",
   "id": "a4b1c739",
   "metadata": {},
   "source": [
    "<b>\n",
    "2. Now run three regressions:<br>\n",
    "(a) Birthweight on Smoker <br>\n",
    "(b) Birthweight on Smoker, Alcohol, and Nprevist <br>\n",
    "(c) Birthweight on Smoker, Alcohol, Nprevist, and Unmarried <br>\n",
    "    \n",
    "</b>"
   ]
  },
  {
   "cell_type": "code",
   "execution_count": null,
   "id": "7cdb2ff8",
   "metadata": {},
   "outputs": [],
   "source": []
  },
  {
   "cell_type": "markdown",
   "id": "09904622",
   "metadata": {},
   "source": [
    "<b>\n",
    "3. What is the value of the estimated effect of smoking on birth weight in each of the regressions?"
   ]
  },
  {
   "cell_type": "code",
   "execution_count": null,
   "id": "92de3936",
   "metadata": {},
   "outputs": [],
   "source": []
  },
  {
   "cell_type": "markdown",
   "id": "0c7d7bae",
   "metadata": {},
   "source": [
    "<b>\n",
    "4. Construct a 95% confidence interval for the effect of smoking on birth weight, using each of the regressions. To retrieve the standard errors of the coefficients you may wish to apply the function HC0_se in the model object for each regression.\n",
    "\n",
    "</b>\n"
   ]
  },
  {
   "cell_type": "code",
   "execution_count": null,
   "id": "770549f3",
   "metadata": {},
   "outputs": [],
   "source": []
  },
  {
   "cell_type": "markdown",
   "id": "c124f866",
   "metadata": {},
   "source": [
    "<b>\n",
    "5. Does the coefficient on Smoker in regression (a) suffer from omitted\n",
    "variable bias? Explain\n",
    "</b>"
   ]
  },
  {
   "cell_type": "markdown",
   "id": "adcd3558",
   "metadata": {},
   "source": []
  },
  {
   "cell_type": "markdown",
   "id": "da4fad7b",
   "metadata": {},
   "source": [
    "<b>\n",
    "6. Does the coefficient on Smoker in regression (b) suffer from omitted\n",
    "variable bias? Explain\n",
    "</b>"
   ]
  },
  {
   "cell_type": "markdown",
   "id": "73aa98f6",
   "metadata": {},
   "source": []
  },
  {
   "cell_type": "markdown",
   "id": "66e6a085",
   "metadata": {},
   "source": [
    "<b>\n",
    "7. Test the hypothesis that the coefficients for alcohol and nprevist are jointly insignificant in the second regression.\n",
    "</b>"
   ]
  },
  {
   "cell_type": "code",
   "execution_count": null,
   "id": "b17f0333",
   "metadata": {},
   "outputs": [],
   "source": []
  },
  {
   "cell_type": "markdown",
   "id": "c7bca5d9",
   "metadata": {},
   "source": [
    "<b>\n",
    "8. Consider the coefficient on Unmarried in regression (c). Construct a 95% confidence interval for the coefficient.\n",
    "</b>"
   ]
  },
  {
   "cell_type": "code",
   "execution_count": null,
   "id": "6d781c1a",
   "metadata": {},
   "outputs": [],
   "source": []
  },
  {
   "cell_type": "markdown",
   "id": "568ed7b7",
   "metadata": {},
   "source": [
    "<b>\n",
    "9. Consider the coefficient on Unmarried in regression (c). Is the coefficient statistically significant? Explain.\n",
    "</b>"
   ]
  },
  {
   "cell_type": "code",
   "execution_count": null,
   "id": "3554b3c9",
   "metadata": {},
   "outputs": [],
   "source": []
  },
  {
   "cell_type": "markdown",
   "id": "20da0607",
   "metadata": {},
   "source": [
    "<b>\n",
    "10. Consider the coefficient on Unmarried in regression (c). Is the magnitude of the coefficient large? Explain.\n",
    "</b>"
   ]
  },
  {
   "cell_type": "markdown",
   "id": "7639fcb1",
   "metadata": {},
   "source": []
  },
  {
   "cell_type": "markdown",
   "id": "e2712f5a",
   "metadata": {},
   "source": [
    "<b>\n",
    "11. Consider the coefficient on Unmarried in regression (c). A family advocacy group notes that the large coefficient suggests\n",
    "that public policies that encourage marriage will lead, on average, to\n",
    "healthier babies. Do you agree? (Hint: Review the discussion of control variables in Section 6.8. Discuss some of the various factors that\n",
    "Unmarried may be controlling for and how this affects the interpretation of its coefficient.)\n",
    "</b>\n"
   ]
  },
  {
   "cell_type": "markdown",
   "id": "eb2f1080",
   "metadata": {},
   "source": []
  },
  {
   "cell_type": "markdown",
   "id": "96434368",
   "metadata": {},
   "source": [
    "<b>\n",
    "12. Consider the coefficient on Unmarried in regression (c). Consider the various other control variables in the data set. Which do you\n",
    "think should be included in the regression?\n",
    "</b>"
   ]
  },
  {
   "cell_type": "code",
   "execution_count": null,
   "id": "28d20968",
   "metadata": {},
   "outputs": [],
   "source": []
  },
  {
   "cell_type": "markdown",
   "id": "780a4a7f",
   "metadata": {},
   "source": [
    "## Question 2\n",
    "\n",
    "The data set <b>Walmart.xlsx</b> on Brightspace was obtained from [Kaggle](https://www.kaggle.com/datasets/yasserh/walmart-dataset/data) and contain sales data available for 45 stores of Walmart. There are certain events and holidays which impact sales on each day. \n",
    "\n",
    "Within this file you will find the following fields:\n",
    "\n",
    "\n",
    "|Variable| Description|\n",
    "|--------|-----------|\n",
    "|Store| the store number|\n",
    "|Date| the week of sales|\n",
    "|Weekly_Sales| sales for the given store|\n",
    "|Holiday_Flag| whether the week is a special holiday week 1 – Holiday week 0 – Non-holiday week|\n",
    "|Temperature| Temperature on the day of sale|\n",
    "|Fuel_Price| Cost of fuel in the region|\n",
    "|CPI| Prevailing consumer price index|\n",
    "|Unemployment| Prevailing unemployment rate|"
   ]
  },
  {
   "cell_type": "code",
   "execution_count": null,
   "id": "a25c253b",
   "metadata": {},
   "outputs": [],
   "source": [
    "# Loading the data set\n",
    "walmart = pd.read_excel('Walmart.xlsx')\n",
    "walmart"
   ]
  },
  {
   "cell_type": "code",
   "execution_count": null,
   "id": "1b724d00",
   "metadata": {},
   "outputs": [],
   "source": [
    "# Reformating dates\n",
    "walmart['Date'] = pd.to_datetime(walmart['Date'], format='%Y/%m/%d')"
   ]
  },
  {
   "cell_type": "markdown",
   "id": "56530449",
   "metadata": {},
   "source": [
    "<b>\n",
    "1. Create a descriptive statistics table for the numerical variables. Interpret the results.\n",
    "</b>"
   ]
  },
  {
   "cell_type": "code",
   "execution_count": null,
   "id": "166fe62f",
   "metadata": {},
   "outputs": [],
   "source": []
  },
  {
   "cell_type": "markdown",
   "id": "e05f4e68",
   "metadata": {},
   "source": [
    "<b>\n",
    "2. Create a correlation matrix for the numerical variables. Interpret the results.\n",
    "</b>"
   ]
  },
  {
   "cell_type": "code",
   "execution_count": null,
   "id": "0e005375",
   "metadata": {},
   "outputs": [],
   "source": []
  },
  {
   "cell_type": "markdown",
   "id": "682d1c83",
   "metadata": {},
   "source": [
    "<b>\n",
    "3. Create three new variables: <br>\n",
    "(a) 'log_sales' with the logarithmic transformation of Weekly Sales; <br>\n",
    "(a) 'log_cpi' with the logarithmic transformation of CPI; <br>\n",
    "(a) 'Quarter' with the Quarter in which the sales was made. For that you might want to use the function <b>dt.quarter</b> of the datetime library\n",
    "</b>"
   ]
  },
  {
   "cell_type": "code",
   "execution_count": null,
   "id": "f2a51ae6",
   "metadata": {},
   "outputs": [],
   "source": []
  },
  {
   "cell_type": "markdown",
   "id": "f32c9102",
   "metadata": {},
   "source": [
    "<b>\n",
    "4. Divide the data set into Train and Test set\n",
    "</b>"
   ]
  },
  {
   "cell_type": "code",
   "execution_count": null,
   "id": "942c42ff",
   "metadata": {},
   "outputs": [],
   "source": []
  },
  {
   "cell_type": "markdown",
   "id": "6cb77ef7",
   "metadata": {},
   "source": [
    "<b>\n",
    "5. Find the Means Squared Prediction Error of the OLS using the Holdout (Train-Test split) method.\n",
    "</b>"
   ]
  },
  {
   "cell_type": "code",
   "execution_count": null,
   "id": "ac790ce8",
   "metadata": {},
   "outputs": [],
   "source": []
  },
  {
   "cell_type": "markdown",
   "id": "e544a0e5",
   "metadata": {},
   "source": [
    "<b>\n",
    "6. Find the Means Squared Prediction Error using Ridge Regression. Apply 10-Fold Cross Validation to the training set to determine the optimal alpha and next create predictions using the optimal alpha to the test set.\n",
    "</b>"
   ]
  },
  {
   "cell_type": "code",
   "execution_count": null,
   "id": "80f79b21",
   "metadata": {},
   "outputs": [],
   "source": []
  },
  {
   "cell_type": "markdown",
   "id": "22feb161",
   "metadata": {},
   "source": [
    "<b>\n",
    "7. Repeat the procedure from the previous question to the LASSO regression.\n",
    "</b>"
   ]
  },
  {
   "cell_type": "code",
   "execution_count": null,
   "id": "c403b9c9",
   "metadata": {},
   "outputs": [],
   "source": []
  },
  {
   "cell_type": "markdown",
   "id": "451b5f29",
   "metadata": {},
   "source": [
    "<b>\n",
    "8. Was there a benefit in this case in applying penalty to the regressors?\n",
    "</b>"
   ]
  },
  {
   "cell_type": "markdown",
   "id": "60ae3c8b",
   "metadata": {},
   "source": []
  }
 ],
 "metadata": {
  "colab": {
   "provenance": []
  },
  "kernelspec": {
   "display_name": "Python 3 (ipykernel)",
   "language": "python",
   "name": "python3"
  },
  "language_info": {
   "codemirror_mode": {
    "name": "ipython",
    "version": 3
   },
   "file_extension": ".py",
   "mimetype": "text/x-python",
   "name": "python",
   "nbconvert_exporter": "python",
   "pygments_lexer": "ipython3",
   "version": "3.9.13"
  }
 },
 "nbformat": 4,
 "nbformat_minor": 5
}
