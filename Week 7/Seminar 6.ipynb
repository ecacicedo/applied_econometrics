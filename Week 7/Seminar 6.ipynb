{
 "cells": [
  {
   "cell_type": "markdown",
   "id": "9e1e8029",
   "metadata": {
    "id": "9e1e8029"
   },
   "source": [
    "# Seminar 6"
   ]
  },
  {
   "cell_type": "markdown",
   "id": "910806aa",
   "metadata": {},
   "source": [
    "This dataset <b> energy_consumption.xlsx</b> was designed to explain energy consumption of a building based on various building features and environmental factors. \n",
    "\n",
    "The variables are\n",
    "\n",
    "|Variable| Description|\n",
    "|--------|-----------|\n",
    "|occupants| Number of people occupying the building.|\n",
    "|appliances| Number of appliances used in the building.|\n",
    "|avg_temp| average temperature of the building or climate area (in Celsius).|\n",
    "|day_of_week| Represents whether the data point corresponds to a weekday or weekend.|\n",
    "|consumption| Energy consumption of the building in 100 kWh (kilowatt-hours).|\n",
    "|sq_foot| Represents the total square footage of the building (in 1000s).|\n",
    "|building| Represents the type of building|\n",
    "\n",
    "The dataset was obtained from [kaggle](https://www.kaggle.com/datasets/govindaramsriram/energy-consumption-dataset-linear-regression?resource=download.).\n"
   ]
  },
  {
   "cell_type": "code",
   "execution_count": null,
   "id": "d599fac5",
   "metadata": {},
   "outputs": [],
   "source": [
    "# Importing useful libraries and loading data set\n",
    "\n",
    "import numpy as np\n",
    "import pandas as pd\n",
    "import matplotlib.pyplot as plt\n",
    "import seaborn as sns\n",
    "from statsmodels.compat import lzip\n",
    "import statsmodels.formula.api as smf"
   ]
  },
  {
   "cell_type": "markdown",
   "id": "01e72f7e",
   "metadata": {},
   "source": [
    "<b>\n",
    "1. Use the get_dummies function to create dummies for the Building Type and Day of Week variables.\n",
    "</b>"
   ]
  },
  {
   "cell_type": "code",
   "execution_count": null,
   "id": "fac34e19",
   "metadata": {},
   "outputs": [],
   "source": []
  },
  {
   "cell_type": "markdown",
   "id": "f1b2b515",
   "metadata": {},
   "source": [
    "<b>\n",
    "2. Run a regression to explain energy consumption using the number of appliances, number of occupants, square footage, average temperature and the dummy variable representing weekdays.\n",
    "</b>"
   ]
  },
  {
   "cell_type": "code",
   "execution_count": null,
   "id": "7aca007b",
   "metadata": {},
   "outputs": [],
   "source": []
  },
  {
   "cell_type": "markdown",
   "id": "69ceddc6",
   "metadata": {},
   "source": [
    "<b>\n",
    "3. What would happen if we added to the previous regression the dummy variable representing weekends?\n",
    "</b>"
   ]
  },
  {
   "cell_type": "code",
   "execution_count": null,
   "id": "43e2434a",
   "metadata": {},
   "outputs": [],
   "source": []
  },
  {
   "cell_type": "markdown",
   "id": "83ec1be2",
   "metadata": {},
   "source": [
    "<b>\n",
    "4. What is the interpretation for the coefficient of the variable occupants?\n",
    "</b>"
   ]
  },
  {
   "cell_type": "code",
   "execution_count": null,
   "id": "ffceb9f7",
   "metadata": {},
   "outputs": [],
   "source": []
  },
  {
   "cell_type": "markdown",
   "id": "b7f8094b",
   "metadata": {},
   "source": [
    "<b>\n",
    "5. What is the interpretation for the coefficient of the dummy variable weekday?\n",
    "</b>"
   ]
  },
  {
   "cell_type": "code",
   "execution_count": null,
   "id": "69cadc90",
   "metadata": {},
   "outputs": [],
   "source": []
  },
  {
   "cell_type": "markdown",
   "id": "1b6595d0",
   "metadata": {},
   "source": [
    "<b>\n",
    "6. What is the t-statistic for the significance of the coefficient of the variable square footage? Is the coefficient significant?\n",
    "</b>"
   ]
  },
  {
   "cell_type": "code",
   "execution_count": null,
   "id": "ce31974f",
   "metadata": {},
   "outputs": [],
   "source": []
  },
  {
   "cell_type": "markdown",
   "id": "02be1359",
   "metadata": {},
   "source": [
    "<b>\n",
    "7. Test the hypothesis that the coefficients for Average Temperature and Weekdays are jointly insignificant in the regression.\n",
    "</b>"
   ]
  },
  {
   "cell_type": "code",
   "execution_count": null,
   "id": "120193b7",
   "metadata": {},
   "outputs": [],
   "source": []
  },
  {
   "cell_type": "markdown",
   "id": "cffb3647",
   "metadata": {},
   "source": [
    "<b>\n",
    "8. Construct a 95% confidence interval for the coefficient of the variable Appliances.\n",
    "</b>"
   ]
  },
  {
   "cell_type": "code",
   "execution_count": null,
   "id": "7b0c00d4",
   "metadata": {},
   "outputs": [],
   "source": []
  }
 ],
 "metadata": {
  "colab": {
   "provenance": []
  },
  "kernelspec": {
   "display_name": "Python 3 (ipykernel)",
   "language": "python",
   "name": "python3"
  },
  "language_info": {
   "codemirror_mode": {
    "name": "ipython",
    "version": 3
   },
   "file_extension": ".py",
   "mimetype": "text/x-python",
   "name": "python",
   "nbconvert_exporter": "python",
   "pygments_lexer": "ipython3",
   "version": "3.9.13"
  }
 },
 "nbformat": 4,
 "nbformat_minor": 5
}
