{
 "cells": [
  {
   "cell_type": "markdown",
   "id": "9e1e8029",
   "metadata": {},
   "source": [
    "# Times Series (Forecasting)"
   ]
  },
  {
   "cell_type": "markdown",
   "id": "aef1e641",
   "metadata": {},
   "source": [
    "Let's explore the US Real GDP time series per quarter. The data can be obtained on [FRED](https://fred.stlouisfed.org/series/GDPC1).\n",
    "\n",
    "First load the data set from the file <b>GDP.xls</b> and import libraries."
   ]
  },
  {
   "cell_type": "code",
   "execution_count": null,
   "id": "bc926bbf",
   "metadata": {},
   "outputs": [],
   "source": [
    "# Importing useful libraries\n",
    "\n",
    "import numpy as np\n",
    "import pandas as pd \n",
    "import pandas.plotting as pp\n",
    "import statsmodels.api as sm\n",
    "import matplotlib.pyplot as plt\n",
    "import statsmodels.formula.api as smf\n",
    "import statsmodels.tsa.stattools as stt\n",
    "import statsmodels.tsa.api as tsa\n",
    "import statsmodels.stats.api as sms\n",
    "from sklearn.metrics import mean_squared_error\n",
    "import statsmodels.tsa.ar_model as arm\n",
    "import warnings \n",
    "warnings.filterwarnings('ignore') # Settings the warnings to be ignored"
   ]
  },
  {
   "cell_type": "code",
   "execution_count": null,
   "id": "ce19c9da",
   "metadata": {},
   "outputs": [],
   "source": [
    "# Loading GDP series\n",
    "\n",
    "df = pd.read_excel(\"GDP.xls\")\n",
    "df[\"date\"] = pd.to_datetime(df[\"date\"])"
   ]
  },
  {
   "cell_type": "code",
   "execution_count": null,
   "id": "4759d9fb",
   "metadata": {},
   "outputs": [],
   "source": [
    "# Plotting the US Real GDP Series\n",
    "\n",
    "plt.plot(df.date,df.GDPC)\n",
    "\n",
    "title = \"US Real GDP (US$ billions of 2012)\"\n",
    "\n",
    "plt.title(title)                             # Plot title\n",
    "plt.xlabel(\"Date\")                        # Plot x-axis label\n",
    "plt.ylabel(\"Real GDP\")                  # Plot y-axis label\n",
    "\n",
    "plt.show"
   ]
  },
  {
   "cell_type": "code",
   "execution_count": null,
   "id": "6bedba64",
   "metadata": {},
   "outputs": [],
   "source": [
    "# Testing the US Real GDP series for stationarity with the Augmented Dickey-Fuller (ADF) test\n",
    "\n",
    "test = stt.adfuller(df.GDPC)\n",
    "\n",
    "adf_statistic = test[0]\n",
    "\n",
    "p_value = test[1]\n",
    "\n",
    "# Printing ADF test statistic and p-value for the US Real GDP series\n",
    "print(\"GDP: ADF statistic\", round(adf_statistic,4),\"and p-value\",p_value)"
   ]
  },
  {
   "cell_type": "code",
   "execution_count": null,
   "id": "00953a61",
   "metadata": {},
   "outputs": [],
   "source": [
    "# Create the rate of growth of the US Real GDP series\n",
    "\n",
    "df[\"delta_GDPC\"] = np.log(df[\"GDPC\"]).diff()\n",
    "df = df.dropna().reset_index(drop=True)\n",
    "df"
   ]
  },
  {
   "cell_type": "code",
   "execution_count": null,
   "id": "45fc1f97",
   "metadata": {},
   "outputs": [],
   "source": [
    "# Plotting the rate of growth of the US Real GDP Series\n",
    "\n",
    "plt.plot(df.date,df.delta_GDPC)\n",
    "\n",
    "title = \"US Real GDP Growth Rate\"\n",
    "\n",
    "plt.title(title)                             # Plot title\n",
    "plt.xlabel(\"Date\")                        # Plot x-axis label\n",
    "plt.ylabel(\"Growth Rate\")                  # Plot y-axis label\n",
    "\n",
    "plt.show"
   ]
  },
  {
   "cell_type": "code",
   "execution_count": null,
   "id": "9a5c0175",
   "metadata": {},
   "outputs": [],
   "source": [
    "# Testing the rate of growth of the US Real GDP Series for stationarity with the Augmented Dickey-Fuller (ADF) test\n",
    "\n",
    "test = stt.adfuller(df.delta_GDPC)\n",
    "\n",
    "adf_statistic = test[0]\n",
    "\n",
    "p_value = test[1]\n",
    "\n",
    "# Printing ADF test statistic and p-value for the US Real GDP series\n",
    "print(\"GDP: ADF statistic\", round(adf_statistic,4),\"and p-value\",p_value)"
   ]
  },
  {
   "cell_type": "markdown",
   "id": "1e34524a",
   "metadata": {},
   "source": [
    "## Expandind Window Forecast\n",
    "\n",
    "We will apply an expanding window forecast to the last three years of the series."
   ]
  },
  {
   "cell_type": "code",
   "execution_count": null,
   "id": "58f7ae7a",
   "metadata": {},
   "outputs": [],
   "source": [
    "# Creating a function to find the AR(k) forecasts for each training set\n",
    "\n",
    "def ar_pred(x,k):\n",
    "    model = arm.AutoReg(x,lags=k).fit()\n",
    "    yhat = model.forecast(steps=1)\n",
    "    return yhat"
   ]
  },
  {
   "cell_type": "code",
   "execution_count": null,
   "id": "1d5976e4",
   "metadata": {},
   "outputs": [],
   "source": [
    "# Creating Expanding Window Forecasts\n",
    "\n",
    "X = df[\"delta_GDPC\"]\n",
    "\n",
    "expanding_pred = list()\n",
    "\n",
    "test_size = 12\n",
    "\n",
    "for i in range(test_size):\n",
    "    prediction = ar_pred(X[0:i-test_size],k=1)\n",
    "    expanding_pred.append(prediction)"
   ]
  },
  {
   "cell_type": "code",
   "execution_count": null,
   "id": "d84da82d",
   "metadata": {},
   "outputs": [],
   "source": [
    "# Calculating the Root Mean Squared Error of the Forecast\n",
    "rmse = np.sqrt(mean_squared_error(X[-test_size:], expanding_pred))\n",
    "print(\"The root mean squared error is:\",rmse)"
   ]
  },
  {
   "cell_type": "code",
   "execution_count": null,
   "id": "cc216af4",
   "metadata": {},
   "outputs": [],
   "source": [
    "# Creating figure and axis objects\n",
    "fig, ax = plt.subplots(figsize=(16,9))\n",
    "\n",
    "# Plotting the rate of growth of the US Real GDP for the test and predictions\n",
    "\n",
    "ax.plot(df.date[-test_size:],X[-test_size:])\n",
    "ax.plot(df.date[-test_size:],expanding_pred)\n",
    "\n",
    "# Setting title and axis labels\n",
    "ax.set(title=\"US Real GDP Growth Rate and Expanding Window Forecast\",\n",
    "       ylabel=\"Growth Rate\",xlabel=\"Date\")\n",
    "\n",
    "# Rotate x-axis labels\n",
    "plt.xticks(rotation=45, ha='right')\n",
    "\n",
    "# Creating legend and setting to center right\n",
    "fig.legend(['True','Forecast'], loc='center right')\n",
    "\n",
    "# Show plot\n",
    "plt.show()"
   ]
  },
  {
   "cell_type": "markdown",
   "id": "02031a02",
   "metadata": {},
   "source": [
    "## Rolling Window Forecast"
   ]
  },
  {
   "cell_type": "code",
   "execution_count": null,
   "id": "68ab9a5a",
   "metadata": {},
   "outputs": [],
   "source": [
    "# Creating Rolling Window Forecasts\n",
    "\n",
    "X = df[\"delta_GDPC\"]\n",
    "\n",
    "rolling_pred = list()\n",
    "\n",
    "test_size = 12\n",
    "\n",
    "for i in range(test_size):\n",
    "    prediction = ar_pred(df[\"delta_GDPC\"][i-0:i-test_size],k=1)\n",
    "    rolling_pred.append(prediction)"
   ]
  },
  {
   "cell_type": "code",
   "execution_count": null,
   "id": "036efe8e",
   "metadata": {},
   "outputs": [],
   "source": [
    "# Calculating the Root Mean Squared Error of the Forecast\n",
    "rmse = np.sqrt(mean_squared_error(X[-test_size:], rolling_pred))\n",
    "print(\"The root mean squared error is:\",rmse)"
   ]
  },
  {
   "cell_type": "code",
   "execution_count": null,
   "id": "ca9857f7",
   "metadata": {},
   "outputs": [],
   "source": [
    "# Creating figure and axis objects\n",
    "fig, ax = plt.subplots(figsize=(16,9))\n",
    "\n",
    "# Plotting the rate of growth of the US Real GDP for the test and predictions\n",
    "\n",
    "ax.plot(df.date[-test_size:],X[-test_size:])\n",
    "ax.plot(df.date[-test_size:],rolling_pred)\n",
    "\n",
    "# Setting title and axis labels\n",
    "ax.set(title=\"US Real GDP Growth Rate and Rolling Window Forecast\",\n",
    "       ylabel=\"Growth Rate\",xlabel=\"Date\")\n",
    "\n",
    "# Rotate x-axis labels\n",
    "plt.xticks(rotation=45, ha='right')\n",
    "\n",
    "# Creating legend and setting to center right\n",
    "fig.legend(['True','Forecast'], loc='center right')\n",
    "\n",
    "# Show plot\n",
    "plt.show()"
   ]
  },
  {
   "cell_type": "markdown",
   "id": "0d4af44d",
   "metadata": {},
   "source": [
    "## Johnson&Johnson EPS \n",
    "\n",
    "Let's explore the time series in the file <b>jj_eps.xlsx</b> which contains the quarterly Earnings-per-Share ratio for Johnson & Johnson from 1960 to 1980.\n",
    "\n",
    "The data set is from Kaggle and can be obtained [here](https://www.kaggle.com/datasets/nirmalsankalana/johnson-and-johnson-quarterly-earnings)."
   ]
  },
  {
   "cell_type": "code",
   "execution_count": null,
   "id": "272ddc0e",
   "metadata": {},
   "outputs": [],
   "source": [
    "# Loading J&J EPS series\n",
    "\n",
    "data = pd.read_excel(\"jj_eps.xlsx\")\n",
    "data[\"date\"] = pd.to_datetime(data[\"date\"])"
   ]
  },
  {
   "cell_type": "markdown",
   "id": "6de47ad8",
   "metadata": {},
   "source": [
    "1. Plot the J&J EPS Series"
   ]
  },
  {
   "cell_type": "code",
   "execution_count": null,
   "id": "9ad2d393",
   "metadata": {},
   "outputs": [],
   "source": []
  },
  {
   "cell_type": "markdown",
   "id": "2a2ef64c",
   "metadata": {},
   "source": [
    "2. Test the series for stationarity"
   ]
  },
  {
   "cell_type": "code",
   "execution_count": null,
   "id": "37312b84",
   "metadata": {},
   "outputs": [],
   "source": []
  },
  {
   "cell_type": "markdown",
   "id": "2c4dbd8c",
   "metadata": {},
   "source": [
    "3. Create the rate of growth of J&J EPS series"
   ]
  },
  {
   "cell_type": "code",
   "execution_count": null,
   "id": "8310a03d",
   "metadata": {},
   "outputs": [],
   "source": []
  },
  {
   "cell_type": "markdown",
   "id": "04bbfaba",
   "metadata": {},
   "source": [
    "4. Testing the rate of growth of J&J EPS series for stationarity"
   ]
  },
  {
   "cell_type": "code",
   "execution_count": null,
   "id": "8489a808",
   "metadata": {},
   "outputs": [],
   "source": []
  },
  {
   "cell_type": "markdown",
   "id": "10f79997",
   "metadata": {},
   "source": [
    "5. Create Expanding Window Forecasts for the last 12 periods using an AR(1) model"
   ]
  },
  {
   "cell_type": "code",
   "execution_count": null,
   "id": "032d7aa4",
   "metadata": {},
   "outputs": [],
   "source": []
  },
  {
   "cell_type": "markdown",
   "id": "f8e35933",
   "metadata": {},
   "source": [
    "6. Plot the Expanding Window Forecasts versus the actual data of the last 12 periods"
   ]
  },
  {
   "cell_type": "code",
   "execution_count": null,
   "id": "6c5417ee",
   "metadata": {
    "scrolled": true
   },
   "outputs": [],
   "source": []
  },
  {
   "cell_type": "markdown",
   "id": "9d48ac84",
   "metadata": {},
   "source": [
    "7. Create Rolling Window Forecasts for the last 12 periods using an AR(1) model"
   ]
  },
  {
   "cell_type": "code",
   "execution_count": null,
   "id": "d876d807",
   "metadata": {},
   "outputs": [],
   "source": []
  },
  {
   "cell_type": "markdown",
   "id": "21063812",
   "metadata": {},
   "source": [
    "8. Plot the Expanding Window Forecasts versus the actual data of the last 12 periods"
   ]
  },
  {
   "cell_type": "code",
   "execution_count": null,
   "id": "f7c3b903",
   "metadata": {},
   "outputs": [],
   "source": []
  },
  {
   "cell_type": "markdown",
   "id": "a790c65e",
   "metadata": {},
   "source": [
    "9. Calculate the RMSE of the expanding window and rolling window forecasts."
   ]
  },
  {
   "cell_type": "code",
   "execution_count": null,
   "id": "7823ccfc",
   "metadata": {},
   "outputs": [],
   "source": []
  }
 ],
 "metadata": {
  "kernelspec": {
   "display_name": "Python 3 (ipykernel)",
   "language": "python",
   "name": "python3"
  },
  "language_info": {
   "codemirror_mode": {
    "name": "ipython",
    "version": 3
   },
   "file_extension": ".py",
   "mimetype": "text/x-python",
   "name": "python",
   "nbconvert_exporter": "python",
   "pygments_lexer": "ipython3",
   "version": "3.12.4"
  }
 },
 "nbformat": 4,
 "nbformat_minor": 5
}
