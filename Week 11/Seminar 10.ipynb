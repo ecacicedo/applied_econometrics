{
 "cells": [
  {
   "cell_type": "markdown",
   "id": "9e1e8029",
   "metadata": {},
   "source": [
    "# Seminar 10"
   ]
  },
  {
   "cell_type": "markdown",
   "id": "46b48376",
   "metadata": {},
   "source": [
    "## Inflation and Deficit\n",
    "\n",
    "The data in <b>intdef.xlsx</b> come from the 2004 Economic Report of the President and span the years 1948 through 2003. \n",
    "\n",
    "The variable $i3$ is the three-month T-bill rate, $inflation$ is the annual inflation rate based on the consumer price index (CPI), and $deficit$ is the federal budget deficit as a percentage of GDP. "
   ]
  },
  {
   "cell_type": "code",
   "execution_count": null,
   "id": "7c794063",
   "metadata": {},
   "outputs": [],
   "source": [
    "# Importing useful libraries and loading data set\n",
    "\n",
    "import numpy as np\n",
    "import pandas as pd \n",
    "import statsmodels.api as sm\n",
    "import matplotlib.pyplot as plt\n",
    "import scipy.stats as stats\n",
    "import statsmodels.api as sm\n",
    "import statsmodels.formula.api as smf\n",
    "import statsmodels.stats.api as sms\n",
    "import statsmodels.graphics.tsaplots as sts\n",
    "import statsmodels.tsa.arima_process as sta\n",
    "import statsmodels.tsa.arima.model as stm\n",
    "import statsmodels.tsa.stattools as stt"
   ]
  },
  {
   "cell_type": "code",
   "execution_count": null,
   "id": "04b219f1",
   "metadata": {},
   "outputs": [],
   "source": [
    "# Loading the data set\n",
    "\n",
    "df = pd.read_excel(\"intdef.xlsx\")\n",
    "df"
   ]
  },
  {
   "cell_type": "markdown",
   "id": "ff163948",
   "metadata": {},
   "source": [
    "<b>\n",
    "\n",
    "1. Find the correlation between inflation and deficit over this sample period and comment.\n",
    "\n",
    "</b>"
   ]
  },
  {
   "cell_type": "code",
   "execution_count": null,
   "id": "80a0343c",
   "metadata": {},
   "outputs": [],
   "source": []
  },
  {
   "cell_type": "markdown",
   "id": "db84ee6e",
   "metadata": {},
   "source": [
    "<b>\n",
    "\n",
    "2. Draw a scatterplot between inflation and deficit over this sample period and comment.\n",
    "\n",
    "</b>"
   ]
  },
  {
   "cell_type": "code",
   "execution_count": null,
   "id": "9bd30ec6",
   "metadata": {},
   "outputs": [],
   "source": []
  },
  {
   "cell_type": "markdown",
   "id": "a5f8e847",
   "metadata": {},
   "source": [
    "<b>\n",
    "\n",
    "3. Regress the three-month T-bill rate on the annual rate of inflation and the federal budget deficit as a percentage of GDP. Interpret the equation.\n",
    "\n",
    "</b>"
   ]
  },
  {
   "cell_type": "code",
   "execution_count": null,
   "id": "63a039ac",
   "metadata": {},
   "outputs": [],
   "source": []
  },
  {
   "cell_type": "markdown",
   "id": "a63db4c8",
   "metadata": {},
   "source": [
    "<b>\n",
    "\n",
    "4. Interpret the coefficient of inflation. Is it statistically significant?\n",
    "\n",
    "</b>"
   ]
  },
  {
   "cell_type": "code",
   "execution_count": null,
   "id": "ea1dc868",
   "metadata": {},
   "outputs": [],
   "source": []
  },
  {
   "cell_type": "markdown",
   "id": "cc1d73ab",
   "metadata": {},
   "source": [
    "<b>\n",
    "\n",
    "5. In October 1979, the Federal Reserve changed its policy of using finely tuned interest rate adjustments\n",
    "and instead began targeting the money supply.  Define a dummy variable equal to 1 for years after 1979. Include this dummy in the regression equation to see if there is a shift in the interest rate equation after 1979. What do you conclude?\n",
    "\n",
    "</b>"
   ]
  },
  {
   "cell_type": "code",
   "execution_count": null,
   "id": "6add1964",
   "metadata": {},
   "outputs": [],
   "source": []
  },
  {
   "cell_type": "markdown",
   "id": "f1dadec9",
   "metadata": {},
   "source": [
    "<b> 6. Create a lag one variable for <i>inflation</i> and a lag one variable for <i>deficit</i>. </b>"
   ]
  },
  {
   "cell_type": "code",
   "execution_count": null,
   "id": "558e7409",
   "metadata": {},
   "outputs": [],
   "source": []
  },
  {
   "cell_type": "markdown",
   "id": "b4a08c8d",
   "metadata": {},
   "source": [
    "<b>\n",
    "\n",
    "7. Regress the three-month T-bill rate on inflation, lag one inflation, budget and lag one budget.\n",
    "\n",
    "</b>"
   ]
  },
  {
   "cell_type": "code",
   "execution_count": null,
   "id": "5c313ece",
   "metadata": {},
   "outputs": [],
   "source": []
  },
  {
   "cell_type": "markdown",
   "id": "f4fc3c1a",
   "metadata": {},
   "source": [
    "<b>\n",
    "\n",
    "8. Has the coefficient for the variable inflation changed compared to the regression in question 3?\n",
    "\n",
    "</b>"
   ]
  },
  {
   "cell_type": "code",
   "execution_count": null,
   "id": "1560641c",
   "metadata": {},
   "outputs": [],
   "source": []
  },
  {
   "cell_type": "markdown",
   "id": "0378a923",
   "metadata": {},
   "source": [
    "<b>\n",
    "\n",
    "9. Are the lags for inflation and deficit in the model for question 7 jointly significant at the 5% level?\n",
    "\n",
    "</b>"
   ]
  },
  {
   "cell_type": "code",
   "execution_count": null,
   "id": "3f4c5d45",
   "metadata": {},
   "outputs": [],
   "source": []
  }
 ],
 "metadata": {
  "kernelspec": {
   "display_name": "Python 3 (ipykernel)",
   "language": "python",
   "name": "python3"
  },
  "language_info": {
   "codemirror_mode": {
    "name": "ipython",
    "version": 3
   },
   "file_extension": ".py",
   "mimetype": "text/x-python",
   "name": "python",
   "nbconvert_exporter": "python",
   "pygments_lexer": "ipython3",
   "version": "3.12.4"
  }
 },
 "nbformat": 4,
 "nbformat_minor": 5
}
