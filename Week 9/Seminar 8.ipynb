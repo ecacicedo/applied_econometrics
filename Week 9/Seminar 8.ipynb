{
 "cells": [
  {
   "cell_type": "markdown",
   "id": "9e1e8029",
   "metadata": {},
   "source": [
    "# Seminar 8 - Binary Dependent Variable"
   ]
  },
  {
   "cell_type": "markdown",
   "id": "6708cdcf",
   "metadata": {},
   "source": [
    "In April 2008, the unemployment rate in the United States stood at 5.0%. By April 2009, it had increased to 9.0%, and it had increased further, to 10.0%,\n",
    "by October 2009. Were some groups of workers more likely to lose their jobs than others during the Great Recession? \n",
    "\n",
    "The <b>employment_08_09.xlsx</b> contains a random sample of 5440 workers who were surveyed in April 2008 and reported that they were employed full-time. \n",
    "\n",
    "You can download the data from [here](https://www.princeton.edu/~mwatson/Stock-Watson_3u/Students/EE_Datasets/employment_08_09.xlsx).\n",
    "\n",
    "A detailed description is given [here](https://www.princeton.edu/~mwatson/Stock-Watson_3u/Students/EE_Datasets/employment_08_09_description.pdf). \n",
    "\n",
    "These workers were surveyed one year later, in\n",
    "April 2009, and asked about their employment status (employed, unemployed, or out of the labor force). \n",
    "\n",
    "Use these data to answer the following questions."
   ]
  },
  {
   "cell_type": "code",
   "execution_count": null,
   "id": "b3d72a71",
   "metadata": {},
   "outputs": [],
   "source": [
    "# Importing useful libraries and loading data set\n",
    "\n",
    "import numpy as np\n",
    "import pandas as pd\n",
    "import pandas.plotting as pp\n",
    "import statsmodels.api as sm\n",
    "import matplotlib.pyplot as plt\n",
    "import statsmodels.formula.api as smf\n",
    "import seaborn as sns\n",
    "import scipy.stats as si\n",
    "import statsmodels.discrete.discrete_model as dm\n",
    "from sklearn.model_selection import train_test_split\n",
    "from sklearn.linear_model import Lasso, LogisticRegression\n",
    "from sklearn.metrics import confusion_matrix, accuracy_score, recall_score, precision_score\n",
    "from statsmodels.compat import lzip"
   ]
  },
  {
   "cell_type": "code",
   "execution_count": null,
   "id": "eaadd83f",
   "metadata": {},
   "outputs": [],
   "source": [
    "from google.colab import files\n",
    "files.upload()"
   ]
  },
  {
   "cell_type": "code",
   "execution_count": null,
   "id": "bba80981",
   "metadata": {},
   "outputs": [],
   "source": [
    "df = pd.read_excel(\"employment_08_09.xlsx\")"
   ]
  },
  {
   "cell_type": "code",
   "execution_count": null,
   "id": "ba4afec4",
   "metadata": {},
   "outputs": [],
   "source": [
    "df"
   ]
  },
  {
   "cell_type": "markdown",
   "id": "612891da",
   "metadata": {},
   "source": [
    "<b>\n",
    "1. Are there any missing data in the data set?\n",
    "</b>"
   ]
  },
  {
   "cell_type": "code",
   "execution_count": null,
   "id": "aa480b6d",
   "metadata": {},
   "outputs": [],
   "source": []
  },
  {
   "cell_type": "markdown",
   "id": "898b291b",
   "metadata": {},
   "source": [
    "<b>\n",
    "2. What fraction of workers in the sample were employed in April 2009? Use your answer to compute a 95% confidence interval for the probability that a worker was employed in April 2009, conditional on being\n",
    "employed in April 2008.\n",
    "</b>"
   ]
  },
  {
   "cell_type": "code",
   "execution_count": null,
   "id": "5f242d7c",
   "metadata": {},
   "outputs": [],
   "source": []
  },
  {
   "cell_type": "markdown",
   "id": "bf5e3c06",
   "metadata": {},
   "source": [
    "<b>\n",
    "3.Regress $Employed$ on $Age$ and $Age^2$, using the probit and logistic regression models. Write both estimated models.\n",
    "</b>"
   ]
  },
  {
   "cell_type": "code",
   "execution_count": null,
   "id": "2b3ddce8",
   "metadata": {},
   "outputs": [],
   "source": []
  },
  {
   "cell_type": "markdown",
   "id": "b295e035",
   "metadata": {},
   "source": [
    "<b>\n",
    "4. Based on the result of the regressions, was age a statistically significant determinant of employment in April 2009?\n",
    "</b>"
   ]
  },
  {
   "cell_type": "markdown",
   "id": "8fbebab5",
   "metadata": {},
   "source": []
  },
  {
   "cell_type": "markdown",
   "id": "90c64904",
   "metadata": {},
   "source": [
    "<b>\n",
    "5. Is there evidence of a nonlinear effect of age on the probability of being employed?\n",
    "</b>"
   ]
  },
  {
   "cell_type": "markdown",
   "id": "86765b8c",
   "metadata": {},
   "source": []
  },
  {
   "cell_type": "markdown",
   "id": "34f06750",
   "metadata": {},
   "source": [
    "<b>\n",
    "6. Compute the predicted probability of employment for a 20-year-old worker, a 40-year-old worker, and a 60-year-old worker. For the probit model use the function $norm.cdf$ from $scipy.stats$. For the logistic regression use the function $logistic.cdf$ from $scipy.stats$.\n",
    "</b>"
   ]
  },
  {
   "cell_type": "code",
   "execution_count": null,
   "id": "d64cd290",
   "metadata": {},
   "outputs": [],
   "source": []
  },
  {
   "cell_type": "markdown",
   "id": "2ba0f669",
   "metadata": {},
   "source": [
    "<b>\n",
    "7. Investigate whether the conclusions on the effect of age on employment from your models are affected by omitted variable bias.\n",
    "</b>"
   ]
  },
  {
   "cell_type": "code",
   "execution_count": null,
   "id": "8ede8753",
   "metadata": {},
   "outputs": [],
   "source": []
  },
  {
   "cell_type": "markdown",
   "id": "94dac967",
   "metadata": {},
   "source": [
    "<b>\n",
    "8. Using $Age$, $Age^2$ and $Average Weekly Earnings$ as regressors split the data between train and test sets. The test set should be 10% of the total dataset.\n",
    "</b>"
   ]
  },
  {
   "cell_type": "code",
   "execution_count": null,
   "id": "86b35cf3",
   "metadata": {},
   "outputs": [],
   "source": []
  },
  {
   "cell_type": "markdown",
   "id": "6c5f9c70",
   "metadata": {},
   "source": [
    "<b>\n",
    "9. Use a logistic regression to fit the training data. Evaluate the predictions over the test set using a Confusion Matrix and other prediction metrics. How do you evaluate the prediction performance of this model?\n",
    "</b>"
   ]
  },
  {
   "cell_type": "code",
   "execution_count": null,
   "id": "74052622",
   "metadata": {},
   "outputs": [],
   "source": []
  }
 ],
 "metadata": {
  "kernelspec": {
   "display_name": "Python 3 (ipykernel)",
   "language": "python",
   "name": "python3"
  },
  "language_info": {
   "codemirror_mode": {
    "name": "ipython",
    "version": 3
   },
   "file_extension": ".py",
   "mimetype": "text/x-python",
   "name": "python",
   "nbconvert_exporter": "python",
   "pygments_lexer": "ipython3",
   "version": "3.12.4"
  }
 },
 "nbformat": 4,
 "nbformat_minor": 5
}
