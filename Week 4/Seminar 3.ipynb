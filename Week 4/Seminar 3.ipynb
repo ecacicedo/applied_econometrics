{
 "cells": [
  {
   "cell_type": "markdown",
   "id": "e006d3e7",
   "metadata": {
    "id": "e006d3e7"
   },
   "source": [
    "# Seminar 3"
   ]
  },
  {
   "cell_type": "markdown",
   "id": "522f01ea",
   "metadata": {
    "id": "522f01ea"
   },
   "source": [
    "The data file <b>Growth.xls</b> contains data on average growth rates from 1960 through 1995 for 65 countries, along with varaibles that are potentially related to growth. \n",
    "\n",
    "You can download the data from [here](https://www.princeton.edu/~mwatson/Stock-Watson_3u/Students/EE_Datasets/Growth.xlsx)\n",
    "\n",
    "A detailed description is given [here](https://www.princeton.edu/~mwatson/Stock-Watson_3u/Students/EE_Datasets/CPS92_12_Description.pdf). \n",
    "\n",
    "In this exercises you will investigate the relationship between growth and trade.\n",
    "\n",
    "The dataset is used in the reference textbook Introduction to Econometrics, 4th edition \n",
    "(Stock and Watson)."
   ]
  },
  {
   "cell_type": "code",
   "execution_count": null,
   "id": "ca8a8835",
   "metadata": {
    "id": "ca8a8835"
   },
   "outputs": [],
   "source": [
    "# Importing useful libraries and loading the data set\n",
    "\n",
    "import numpy as np\n",
    "import pandas as pd\n",
    "import matplotlib.pyplot as plt\n",
    "import statsmodels.formula.api as smf"
   ]
  },
  {
   "cell_type": "markdown",
   "id": "9f286399",
   "metadata": {
    "id": "9f286399"
   },
   "source": [
    "<b> 1. Construct a scatterplot of average annual growth rate (<i>growth</i>) on the average trade share (<i>tradeshare</i>). Does there appear to be a relationship between the variables? <b/>"
   ]
  },
  {
   "cell_type": "code",
   "execution_count": null,
   "id": "2COstUMWq7XH",
   "metadata": {
    "id": "2COstUMWq7XH"
   },
   "outputs": [],
   "source": []
  },
  {
   "cell_type": "markdown",
   "id": "e4a3795f",
   "metadata": {
    "id": "e4a3795f"
   },
   "source": [
    "<b> 2. One country, Malta, has a trade share much larger than the other countries. Find Malta on the scatterplot. Does Malta look like an outlier? <b/>"
   ]
  },
  {
   "cell_type": "code",
   "execution_count": null,
   "id": "GZ_BFgtMq9Ly",
   "metadata": {
    "id": "GZ_BFgtMq9Ly"
   },
   "outputs": [],
   "source": []
  },
  {
   "cell_type": "markdown",
   "id": "058375ed",
   "metadata": {
    "id": "058375ed"
   },
   "source": [
    "<b> 3. Using all observations, run a regression of <i>growth</i> on <i>tradeshare</i>. What is the estimated slope and what is the estimated intercept? <b/>"
   ]
  },
  {
   "cell_type": "code",
   "execution_count": null,
   "id": "yGRCK9Cgq_fE",
   "metadata": {
    "id": "yGRCK9Cgq_fE"
   },
   "outputs": [],
   "source": []
  },
  {
   "cell_type": "markdown",
   "id": "d8e58e3c",
   "metadata": {
    "id": "d8e58e3c"
   },
   "source": [
    "<b> 4. Use the regression to predict the growth rate for a country with a trade share of 0.5 and with a trade share equals to 1.0. <b/>"
   ]
  },
  {
   "cell_type": "code",
   "execution_count": null,
   "id": "op4trF61rBYv",
   "metadata": {
    "id": "op4trF61rBYv"
   },
   "outputs": [],
   "source": []
  },
  {
   "cell_type": "markdown",
   "id": "7a64e9de",
   "metadata": {
    "id": "7a64e9de"
   },
   "source": [
    "<b> 5. Estimate the same regression, excluding the data from Malta. Answer the same questions as in 2., 3. and 4. <b>"
   ]
  },
  {
   "cell_type": "code",
   "execution_count": null,
   "id": "yd8_BVmwrC2D",
   "metadata": {
    "id": "yd8_BVmwrC2D"
   },
   "outputs": [],
   "source": []
  },
  {
   "cell_type": "markdown",
   "id": "5c578e46",
   "metadata": {
    "id": "5c578e46"
   },
   "source": [
    "<b> 6. Plot the estimated regression functions from 3. and 5. Why is the slope of the regression function containing Malta steeper than the regression function that excludes Malta? Should Malta be included or excluded from the analysis? <b/>"
   ]
  },
  {
   "cell_type": "code",
   "execution_count": null,
   "id": "cc42a1dd",
   "metadata": {},
   "outputs": [],
   "source": []
  }
 ],
 "metadata": {
  "colab": {
   "provenance": []
  },
  "kernelspec": {
   "display_name": "Python 3 (ipykernel)",
   "language": "python",
   "name": "python3"
  },
  "language_info": {
   "codemirror_mode": {
    "name": "ipython",
    "version": 3
   },
   "file_extension": ".py",
   "mimetype": "text/x-python",
   "name": "python",
   "nbconvert_exporter": "python",
   "pygments_lexer": "ipython3",
   "version": "3.12.4"
  }
 },
 "nbformat": 4,
 "nbformat_minor": 5
}
