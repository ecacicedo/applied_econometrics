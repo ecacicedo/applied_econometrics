{
 "cells": [
  {
   "cell_type": "markdown",
   "id": "e006d3e7",
   "metadata": {
    "id": "e006d3e7"
   },
   "source": [
    "# Seminar 3 - Answers"
   ]
  },
  {
   "cell_type": "markdown",
   "id": "522f01ea",
   "metadata": {
    "id": "522f01ea"
   },
   "source": [
    "The data file <b>Growth.xls</b> contains data on average growth rates from 1960 through 1995 for 65 countries, along with varaibles that are potentially related to growth. \n",
    "\n",
    "You can download the data from [here](https://www.princeton.edu/~mwatson/Stock-Watson_3u/Students/EE_Datasets/Growth.xlsx)\n",
    "\n",
    "A detailed description is given [here](https://www.princeton.edu/~mwatson/Stock-Watson_3u/Students/EE_Datasets/CPS92_12_Description.pdf). \n",
    "\n",
    "In this exercises you will investigate the relationship between growth and trade.\n",
    "\n",
    "The dataset is used in the reference textbook Introduction to Econometrics, 4th edition \n",
    "(Stock and Watson)."
   ]
  },
  {
   "cell_type": "code",
   "execution_count": 1,
   "id": "ca8a8835",
   "metadata": {
    "id": "ca8a8835"
   },
   "outputs": [],
   "source": [
    "# Importing useful libraries and loading the data set\n",
    "\n",
    "import numpy as np\n",
    "import pandas as pd\n",
    "import matplotlib.pyplot as plt\n",
    "import statsmodels.formula.api as smf"
   ]
  },
  {
   "cell_type": "code",
   "execution_count": 2,
   "id": "CUAtAKAXoiZ7",
   "metadata": {
    "colab": {
     "base_uri": "https://localhost:8080/",
     "height": 423
    },
    "id": "CUAtAKAXoiZ7",
    "outputId": "c0fb6a3d-d58a-4aeb-dea9-a263604b274d"
   },
   "outputs": [
    {
     "data": {
      "text/html": [
       "<div>\n",
       "<style scoped>\n",
       "    .dataframe tbody tr th:only-of-type {\n",
       "        vertical-align: middle;\n",
       "    }\n",
       "\n",
       "    .dataframe tbody tr th {\n",
       "        vertical-align: top;\n",
       "    }\n",
       "\n",
       "    .dataframe thead th {\n",
       "        text-align: right;\n",
       "    }\n",
       "</style>\n",
       "<table border=\"1\" class=\"dataframe\">\n",
       "  <thead>\n",
       "    <tr style=\"text-align: right;\">\n",
       "      <th></th>\n",
       "      <th>country_name</th>\n",
       "      <th>growth</th>\n",
       "      <th>oil</th>\n",
       "      <th>rgdp60</th>\n",
       "      <th>tradeshare</th>\n",
       "      <th>yearsschool</th>\n",
       "      <th>rev_coups</th>\n",
       "      <th>assasinations</th>\n",
       "    </tr>\n",
       "  </thead>\n",
       "  <tbody>\n",
       "    <tr>\n",
       "      <th>0</th>\n",
       "      <td>India</td>\n",
       "      <td>1.915168</td>\n",
       "      <td>0</td>\n",
       "      <td>765.999817</td>\n",
       "      <td>0.140502</td>\n",
       "      <td>1.45</td>\n",
       "      <td>0.133333</td>\n",
       "      <td>0.866667</td>\n",
       "    </tr>\n",
       "    <tr>\n",
       "      <th>1</th>\n",
       "      <td>Argentina</td>\n",
       "      <td>0.617645</td>\n",
       "      <td>0</td>\n",
       "      <td>4462.001465</td>\n",
       "      <td>0.156623</td>\n",
       "      <td>4.99</td>\n",
       "      <td>0.933333</td>\n",
       "      <td>1.933333</td>\n",
       "    </tr>\n",
       "    <tr>\n",
       "      <th>2</th>\n",
       "      <td>Japan</td>\n",
       "      <td>4.304759</td>\n",
       "      <td>0</td>\n",
       "      <td>2953.999512</td>\n",
       "      <td>0.157703</td>\n",
       "      <td>6.71</td>\n",
       "      <td>0.000000</td>\n",
       "      <td>0.200000</td>\n",
       "    </tr>\n",
       "    <tr>\n",
       "      <th>3</th>\n",
       "      <td>Brazil</td>\n",
       "      <td>2.930097</td>\n",
       "      <td>0</td>\n",
       "      <td>1783.999878</td>\n",
       "      <td>0.160405</td>\n",
       "      <td>2.89</td>\n",
       "      <td>0.100000</td>\n",
       "      <td>0.100000</td>\n",
       "    </tr>\n",
       "    <tr>\n",
       "      <th>4</th>\n",
       "      <td>United States</td>\n",
       "      <td>1.712265</td>\n",
       "      <td>0</td>\n",
       "      <td>9895.003906</td>\n",
       "      <td>0.160815</td>\n",
       "      <td>8.66</td>\n",
       "      <td>0.000000</td>\n",
       "      <td>0.433333</td>\n",
       "    </tr>\n",
       "    <tr>\n",
       "      <th>...</th>\n",
       "      <td>...</td>\n",
       "      <td>...</td>\n",
       "      <td>...</td>\n",
       "      <td>...</td>\n",
       "      <td>...</td>\n",
       "      <td>...</td>\n",
       "      <td>...</td>\n",
       "      <td>...</td>\n",
       "    </tr>\n",
       "    <tr>\n",
       "      <th>60</th>\n",
       "      <td>Cyprus</td>\n",
       "      <td>5.384184</td>\n",
       "      <td>0</td>\n",
       "      <td>2037.000366</td>\n",
       "      <td>0.979355</td>\n",
       "      <td>4.29</td>\n",
       "      <td>0.100000</td>\n",
       "      <td>0.166667</td>\n",
       "    </tr>\n",
       "    <tr>\n",
       "      <th>61</th>\n",
       "      <td>Malaysia</td>\n",
       "      <td>4.114544</td>\n",
       "      <td>0</td>\n",
       "      <td>1420.000244</td>\n",
       "      <td>1.105364</td>\n",
       "      <td>2.34</td>\n",
       "      <td>0.033333</td>\n",
       "      <td>0.033333</td>\n",
       "    </tr>\n",
       "    <tr>\n",
       "      <th>62</th>\n",
       "      <td>Belgium</td>\n",
       "      <td>2.651335</td>\n",
       "      <td>0</td>\n",
       "      <td>5495.001953</td>\n",
       "      <td>1.115917</td>\n",
       "      <td>7.46</td>\n",
       "      <td>0.000000</td>\n",
       "      <td>0.000000</td>\n",
       "    </tr>\n",
       "    <tr>\n",
       "      <th>63</th>\n",
       "      <td>Mauritius</td>\n",
       "      <td>3.024178</td>\n",
       "      <td>0</td>\n",
       "      <td>2861.999268</td>\n",
       "      <td>1.127937</td>\n",
       "      <td>2.44</td>\n",
       "      <td>0.000000</td>\n",
       "      <td>0.000000</td>\n",
       "    </tr>\n",
       "    <tr>\n",
       "      <th>64</th>\n",
       "      <td>Malta</td>\n",
       "      <td>6.652838</td>\n",
       "      <td>0</td>\n",
       "      <td>1374.000000</td>\n",
       "      <td>1.992616</td>\n",
       "      <td>5.64</td>\n",
       "      <td>0.000000</td>\n",
       "      <td>0.000000</td>\n",
       "    </tr>\n",
       "  </tbody>\n",
       "</table>\n",
       "<p>65 rows × 8 columns</p>\n",
       "</div>"
      ],
      "text/plain": [
       "     country_name    growth  oil       rgdp60  tradeshare  yearsschool  \\\n",
       "0           India  1.915168    0   765.999817    0.140502         1.45   \n",
       "1       Argentina  0.617645    0  4462.001465    0.156623         4.99   \n",
       "2           Japan  4.304759    0  2953.999512    0.157703         6.71   \n",
       "3          Brazil  2.930097    0  1783.999878    0.160405         2.89   \n",
       "4   United States  1.712265    0  9895.003906    0.160815         8.66   \n",
       "..            ...       ...  ...          ...         ...          ...   \n",
       "60         Cyprus  5.384184    0  2037.000366    0.979355         4.29   \n",
       "61       Malaysia  4.114544    0  1420.000244    1.105364         2.34   \n",
       "62        Belgium  2.651335    0  5495.001953    1.115917         7.46   \n",
       "63      Mauritius  3.024178    0  2861.999268    1.127937         2.44   \n",
       "64          Malta  6.652838    0  1374.000000    1.992616         5.64   \n",
       "\n",
       "    rev_coups  assasinations  \n",
       "0    0.133333       0.866667  \n",
       "1    0.933333       1.933333  \n",
       "2    0.000000       0.200000  \n",
       "3    0.100000       0.100000  \n",
       "4    0.000000       0.433333  \n",
       "..        ...            ...  \n",
       "60   0.100000       0.166667  \n",
       "61   0.033333       0.033333  \n",
       "62   0.000000       0.000000  \n",
       "63   0.000000       0.000000  \n",
       "64   0.000000       0.000000  \n",
       "\n",
       "[65 rows x 8 columns]"
      ]
     },
     "execution_count": 2,
     "metadata": {},
     "output_type": "execute_result"
    }
   ],
   "source": [
    "df = pd.read_excel(\"Growth.xlsx\")\n",
    "df"
   ]
  },
  {
   "cell_type": "markdown",
   "id": "9f286399",
   "metadata": {
    "id": "9f286399"
   },
   "source": [
    "<b> 1. Construct a scatterplot of average annual growth rate (<i>growth</i>) on the average trade share (<i>tradeshare</i>). Does there appear to be a relationship between the variables? <b/>"
   ]
  },
  {
   "cell_type": "code",
   "execution_count": 3,
   "id": "dbbd86f6",
   "metadata": {
    "colab": {
     "base_uri": "https://localhost:8080/",
     "height": 641
    },
    "id": "dbbd86f6",
    "outputId": "c57da1fe-c223-4355-8571-df9b63d7a1ad"
   },
   "outputs": [
    {
     "data": {
      "text/plain": [
       "<function matplotlib.pyplot.show(close=None, block=None)>"
      ]
     },
     "execution_count": 3,
     "metadata": {},
     "output_type": "execute_result"
    },
    {
     "data": {
      "image/png": "[encoded data removed]",
      "text/plain": [
       "<Figure size 640x480 with 1 Axes>"
      ]
     },
     "metadata": {},
     "output_type": "display_data"
    }
   ],
   "source": [
    "plt.scatter(df.tradeshare,df.growth)\n",
    "\n",
    "title = \"Growth and Trade Share relationship\"\n",
    "\n",
    "plt.title(title)                             # Plot title\n",
    "plt.xlabel(\"tradeshare\")                     # Plot x-axis label\n",
    "plt.ylabel(\"growth\")                         # Plot y-axis label\n",
    "\n",
    "plt.show"
   ]
  },
  {
   "cell_type": "markdown",
   "id": "e4a3795f",
   "metadata": {
    "id": "e4a3795f"
   },
   "source": [
    "<b> 2. One country, Malta, has a trade share much larger than the other countries. Find Malta on the scatterplot. Does Malta look like an outlier? <b/>"
   ]
  },
  {
   "cell_type": "code",
   "execution_count": 4,
   "id": "868b2203",
   "metadata": {
    "colab": {
     "base_uri": "https://localhost:8080/",
     "height": 641
    },
    "id": "868b2203",
    "outputId": "24d5b27e-c519-49a2-ee58-4bd68d345544"
   },
   "outputs": [
    {
     "data": {
      "text/plain": [
       "<function matplotlib.pyplot.show(close=None, block=None)>"
      ]
     },
     "execution_count": 4,
     "metadata": {},
     "output_type": "execute_result"
    },
    {
     "data": {
      "image/png": "[encoded data removed]",
      "text/plain": [
       "<Figure size 640x480 with 1 Axes>"
      ]
     },
     "metadata": {},
     "output_type": "display_data"
    }
   ],
   "source": [
    "plt.scatter(df.tradeshare,df.growth)\n",
    "plt.text(df.tradeshare[df.country_name==\"Malta\"], df.growth[df.country_name==\"Malta\"], s=\"Malta\", fontdict=dict(color=\"black\", alpha=0.5, size=14))\n",
    "\n",
    "title = \"Growth and Trade Share relationship\"\n",
    "\n",
    "plt.title(title)                             # Plot title\n",
    "plt.xlabel(\"tradeshare\")                     # Plot x-axis label\n",
    "plt.ylabel(\"growth\")                         # Plot y-axis label\n",
    "\n",
    "plt.show"
   ]
  },
  {
   "cell_type": "markdown",
   "id": "f1edc998",
   "metadata": {
    "id": "f1edc998"
   },
   "source": [
    "Malta appears to be an outlier. Malta's <i>tradeshare</i> value is considerably larger than other observations'.\n",
    "\n",
    "For more information on the <b>plt.text</b> function click [here](https://matplotlib.org/stable/api/_as_gen/matplotlib.pyplot.text.html)."
   ]
  },
  {
   "cell_type": "markdown",
   "id": "058375ed",
   "metadata": {
    "id": "058375ed"
   },
   "source": [
    "<b> 3. Using all observations, run a regression of <i>growth</i> on <i>tradeshare</i>. What is the estimated slope and what is the estimated intercept? <b/>"
   ]
  },
  {
   "cell_type": "code",
   "execution_count": 5,
   "id": "872535e9",
   "metadata": {
    "colab": {
     "base_uri": "https://localhost:8080/"
    },
    "id": "872535e9",
    "outputId": "f4a088a3-ab6f-4de7-f7e8-9c4f692d3259"
   },
   "outputs": [
    {
     "name": "stdout",
     "output_type": "stream",
     "text": [
      "                            OLS Regression Results                            \n",
      "==============================================================================\n",
      "Dep. Variable:                 growth   R-squared:                       0.124\n",
      "Model:                            OLS   Adj. R-squared:                  0.110\n",
      "Method:                 Least Squares   F-statistic:                     8.892\n",
      "Date:                Thu, 13 Feb 2025   Prob (F-statistic):            0.00407\n",
      "Time:                        16:17:16   Log-Likelihood:                -129.06\n",
      "No. Observations:                  65   AIC:                             262.1\n",
      "Df Residuals:                      63   BIC:                             266.5\n",
      "Df Model:                           1                                         \n",
      "Covariance Type:            nonrobust                                         \n",
      "==============================================================================\n",
      "                 coef    std err          t      P>|t|      [0.025      0.975]\n",
      "------------------------------------------------------------------------------\n",
      "Intercept      0.6403      0.490      1.307      0.196      -0.339       1.619\n",
      "tradeshare     2.3064      0.773      2.982      0.004       0.761       3.852\n",
      "==============================================================================\n",
      "Omnibus:                        3.236   Durbin-Watson:                   2.180\n",
      "Prob(Omnibus):                  0.198   Jarque-Bera (JB):                2.934\n",
      "Skew:                           0.136   Prob(JB):                        0.231\n",
      "Kurtosis:                       4.005   Cond. No.                         4.67\n",
      "==============================================================================\n",
      "\n",
      "Notes:\n",
      "[1] Standard Errors assume that the covariance matrix of the errors is correctly specified.\n"
     ]
    }
   ],
   "source": [
    "formula = 'growth ~ tradeshare'\n",
    "\n",
    "model = smf.ols(formula,df).fit() # Running the regression of growth on tradeshare\n",
    "print(model.summary()) # Print out the result of the regression"
   ]
  },
  {
   "cell_type": "markdown",
   "id": "ac5db9bb",
   "metadata": {
    "id": "ac5db9bb"
   },
   "source": [
    "To obtain the coefficients we can use the following command"
   ]
  },
  {
   "cell_type": "code",
   "execution_count": 6,
   "id": "6f420c8d",
   "metadata": {
    "colab": {
     "base_uri": "https://localhost:8080/"
    },
    "id": "6f420c8d",
    "outputId": "347797e8-be69-4d29-9b92-ee9322a46683"
   },
   "outputs": [
    {
     "data": {
      "text/plain": [
       "Intercept     0.640265\n",
       "tradeshare    2.306434\n",
       "dtype: float64"
      ]
     },
     "execution_count": 6,
     "metadata": {},
     "output_type": "execute_result"
    }
   ],
   "source": [
    "model.params"
   ]
  },
  {
   "cell_type": "markdown",
   "id": "2b3b8c92",
   "metadata": {
    "id": "2b3b8c92"
   },
   "source": [
    "The estimated slope is then 2.306434 and the estimated intercept is 0.640265"
   ]
  },
  {
   "cell_type": "markdown",
   "id": "d8e58e3c",
   "metadata": {
    "id": "d8e58e3c"
   },
   "source": [
    "<b> 4. Use the regression to predict the growth rate for a country with a trade share of 0.5 and with a trade share equals to 1.0. <b/>"
   ]
  },
  {
   "cell_type": "markdown",
   "id": "2fc75a01",
   "metadata": {
    "id": "2fc75a01"
   },
   "source": [
    "The regression equation can be written as\n",
    "\n",
    "$$ \\hat{growth} = b_0 + b_1 \\times \\hat{tradeshare} $$\n",
    "\n",
    "Using the values previously found, we have\n",
    "\n",
    "$$ \\hat{growth} = 0.640265 + 2.306434 \\times \\hat{tradeshare} $$\n",
    "\n",
    "We can calculate that using the value of the parameters"
   ]
  },
  {
   "cell_type": "code",
   "execution_count": 7,
   "id": "1db21add",
   "metadata": {
    "colab": {
     "base_uri": "https://localhost:8080/"
    },
    "id": "1db21add",
    "outputId": "82e8dd80-131d-4812-ebd7-dab74a62e1f6"
   },
   "outputs": [
    {
     "data": {
      "text/plain": [
       "1.7934821440064876"
      ]
     },
     "execution_count": 7,
     "metadata": {},
     "output_type": "execute_result"
    }
   ],
   "source": [
    "growth_05 = model.params.Intercept + model.params.tradeshare*0.5 #Using the equation to predict growth for tradeshare equals 0.5\n",
    "growth_05"
   ]
  },
  {
   "cell_type": "code",
   "execution_count": 8,
   "id": "8d4b7805",
   "metadata": {
    "colab": {
     "base_uri": "https://localhost:8080/"
    },
    "id": "8d4b7805",
    "outputId": "e6be7878-18ba-4c7c-e003-40aa378587e4"
   },
   "outputs": [
    {
     "data": {
      "text/plain": [
       "2.946699013617626"
      ]
     },
     "execution_count": 8,
     "metadata": {},
     "output_type": "execute_result"
    }
   ],
   "source": [
    "growth_10 = model.params.Intercept + model.params.tradeshare*1.0 #Using the equation to predict growth for tradeshare equals 1.0\n",
    "growth_10"
   ]
  },
  {
   "cell_type": "markdown",
   "id": "7a64e9de",
   "metadata": {
    "id": "7a64e9de"
   },
   "source": [
    "<b> 5. Estimate the same regression, excluding the data from Malta. Answer the same questions as in 2., 3. and 4. <b>"
   ]
  },
  {
   "cell_type": "code",
   "execution_count": 9,
   "id": "acefef95",
   "metadata": {
    "colab": {
     "base_uri": "https://localhost:8080/",
     "height": 423
    },
    "id": "acefef95",
    "outputId": "e29ef249-b080-4b69-e055-2937ff306d3c"
   },
   "outputs": [
    {
     "data": {
      "text/html": [
       "<div>\n",
       "<style scoped>\n",
       "    .dataframe tbody tr th:only-of-type {\n",
       "        vertical-align: middle;\n",
       "    }\n",
       "\n",
       "    .dataframe tbody tr th {\n",
       "        vertical-align: top;\n",
       "    }\n",
       "\n",
       "    .dataframe thead th {\n",
       "        text-align: right;\n",
       "    }\n",
       "</style>\n",
       "<table border=\"1\" class=\"dataframe\">\n",
       "  <thead>\n",
       "    <tr style=\"text-align: right;\">\n",
       "      <th></th>\n",
       "      <th>country_name</th>\n",
       "      <th>growth</th>\n",
       "      <th>oil</th>\n",
       "      <th>rgdp60</th>\n",
       "      <th>tradeshare</th>\n",
       "      <th>yearsschool</th>\n",
       "      <th>rev_coups</th>\n",
       "      <th>assasinations</th>\n",
       "    </tr>\n",
       "  </thead>\n",
       "  <tbody>\n",
       "    <tr>\n",
       "      <th>0</th>\n",
       "      <td>India</td>\n",
       "      <td>1.915168</td>\n",
       "      <td>0</td>\n",
       "      <td>765.999817</td>\n",
       "      <td>0.140502</td>\n",
       "      <td>1.45</td>\n",
       "      <td>0.133333</td>\n",
       "      <td>0.866667</td>\n",
       "    </tr>\n",
       "    <tr>\n",
       "      <th>1</th>\n",
       "      <td>Argentina</td>\n",
       "      <td>0.617645</td>\n",
       "      <td>0</td>\n",
       "      <td>4462.001465</td>\n",
       "      <td>0.156623</td>\n",
       "      <td>4.99</td>\n",
       "      <td>0.933333</td>\n",
       "      <td>1.933333</td>\n",
       "    </tr>\n",
       "    <tr>\n",
       "      <th>2</th>\n",
       "      <td>Japan</td>\n",
       "      <td>4.304759</td>\n",
       "      <td>0</td>\n",
       "      <td>2953.999512</td>\n",
       "      <td>0.157703</td>\n",
       "      <td>6.71</td>\n",
       "      <td>0.000000</td>\n",
       "      <td>0.200000</td>\n",
       "    </tr>\n",
       "    <tr>\n",
       "      <th>3</th>\n",
       "      <td>Brazil</td>\n",
       "      <td>2.930097</td>\n",
       "      <td>0</td>\n",
       "      <td>1783.999878</td>\n",
       "      <td>0.160405</td>\n",
       "      <td>2.89</td>\n",
       "      <td>0.100000</td>\n",
       "      <td>0.100000</td>\n",
       "    </tr>\n",
       "    <tr>\n",
       "      <th>4</th>\n",
       "      <td>United States</td>\n",
       "      <td>1.712265</td>\n",
       "      <td>0</td>\n",
       "      <td>9895.003906</td>\n",
       "      <td>0.160815</td>\n",
       "      <td>8.66</td>\n",
       "      <td>0.000000</td>\n",
       "      <td>0.433333</td>\n",
       "    </tr>\n",
       "    <tr>\n",
       "      <th>...</th>\n",
       "      <td>...</td>\n",
       "      <td>...</td>\n",
       "      <td>...</td>\n",
       "      <td>...</td>\n",
       "      <td>...</td>\n",
       "      <td>...</td>\n",
       "      <td>...</td>\n",
       "      <td>...</td>\n",
       "    </tr>\n",
       "    <tr>\n",
       "      <th>59</th>\n",
       "      <td>Netherlands</td>\n",
       "      <td>2.200577</td>\n",
       "      <td>0</td>\n",
       "      <td>6076.997070</td>\n",
       "      <td>0.834204</td>\n",
       "      <td>5.27</td>\n",
       "      <td>0.000000</td>\n",
       "      <td>0.000000</td>\n",
       "    </tr>\n",
       "    <tr>\n",
       "      <th>60</th>\n",
       "      <td>Cyprus</td>\n",
       "      <td>5.384184</td>\n",
       "      <td>0</td>\n",
       "      <td>2037.000366</td>\n",
       "      <td>0.979355</td>\n",
       "      <td>4.29</td>\n",
       "      <td>0.100000</td>\n",
       "      <td>0.166667</td>\n",
       "    </tr>\n",
       "    <tr>\n",
       "      <th>61</th>\n",
       "      <td>Malaysia</td>\n",
       "      <td>4.114544</td>\n",
       "      <td>0</td>\n",
       "      <td>1420.000244</td>\n",
       "      <td>1.105364</td>\n",
       "      <td>2.34</td>\n",
       "      <td>0.033333</td>\n",
       "      <td>0.033333</td>\n",
       "    </tr>\n",
       "    <tr>\n",
       "      <th>62</th>\n",
       "      <td>Belgium</td>\n",
       "      <td>2.651335</td>\n",
       "      <td>0</td>\n",
       "      <td>5495.001953</td>\n",
       "      <td>1.115917</td>\n",
       "      <td>7.46</td>\n",
       "      <td>0.000000</td>\n",
       "      <td>0.000000</td>\n",
       "    </tr>\n",
       "    <tr>\n",
       "      <th>63</th>\n",
       "      <td>Mauritius</td>\n",
       "      <td>3.024178</td>\n",
       "      <td>0</td>\n",
       "      <td>2861.999268</td>\n",
       "      <td>1.127937</td>\n",
       "      <td>2.44</td>\n",
       "      <td>0.000000</td>\n",
       "      <td>0.000000</td>\n",
       "    </tr>\n",
       "  </tbody>\n",
       "</table>\n",
       "<p>64 rows × 8 columns</p>\n",
       "</div>"
      ],
      "text/plain": [
       "     country_name    growth  oil       rgdp60  tradeshare  yearsschool  \\\n",
       "0           India  1.915168    0   765.999817    0.140502         1.45   \n",
       "1       Argentina  0.617645    0  4462.001465    0.156623         4.99   \n",
       "2           Japan  4.304759    0  2953.999512    0.157703         6.71   \n",
       "3          Brazil  2.930097    0  1783.999878    0.160405         2.89   \n",
       "4   United States  1.712265    0  9895.003906    0.160815         8.66   \n",
       "..            ...       ...  ...          ...         ...          ...   \n",
       "59    Netherlands  2.200577    0  6076.997070    0.834204         5.27   \n",
       "60         Cyprus  5.384184    0  2037.000366    0.979355         4.29   \n",
       "61       Malaysia  4.114544    0  1420.000244    1.105364         2.34   \n",
       "62        Belgium  2.651335    0  5495.001953    1.115917         7.46   \n",
       "63      Mauritius  3.024178    0  2861.999268    1.127937         2.44   \n",
       "\n",
       "    rev_coups  assasinations  \n",
       "0    0.133333       0.866667  \n",
       "1    0.933333       1.933333  \n",
       "2    0.000000       0.200000  \n",
       "3    0.100000       0.100000  \n",
       "4    0.000000       0.433333  \n",
       "..        ...            ...  \n",
       "59   0.000000       0.000000  \n",
       "60   0.100000       0.166667  \n",
       "61   0.033333       0.033333  \n",
       "62   0.000000       0.000000  \n",
       "63   0.000000       0.000000  \n",
       "\n",
       "[64 rows x 8 columns]"
      ]
     },
     "execution_count": 9,
     "metadata": {},
     "output_type": "execute_result"
    }
   ],
   "source": [
    "df_xm = df[df.country_name!=\"Malta\"]\n",
    "df_xm"
   ]
  },
  {
   "cell_type": "code",
   "execution_count": 10,
   "id": "7a6417ba",
   "metadata": {
    "colab": {
     "base_uri": "https://localhost:8080/"
    },
    "id": "7a6417ba",
    "outputId": "3112764b-8d3b-419a-a555-02fb06ddbb99"
   },
   "outputs": [
    {
     "name": "stdout",
     "output_type": "stream",
     "text": [
      "                            OLS Regression Results                            \n",
      "==============================================================================\n",
      "Dep. Variable:                 growth   R-squared:                       0.045\n",
      "Model:                            OLS   Adj. R-squared:                  0.029\n",
      "Method:                 Least Squares   F-statistic:                     2.898\n",
      "Date:                Thu, 13 Feb 2025   Prob (F-statistic):             0.0937\n",
      "Time:                        16:17:26   Log-Likelihood:                -127.04\n",
      "No. Observations:                  64   AIC:                             258.1\n",
      "Df Residuals:                      62   BIC:                             262.4\n",
      "Df Model:                           1                                         \n",
      "Covariance Type:            nonrobust                                         \n",
      "==============================================================================\n",
      "                 coef    std err          t      P>|t|      [0.025      0.975]\n",
      "------------------------------------------------------------------------------\n",
      "Intercept      0.9574      0.580      1.650      0.104      -0.203       2.118\n",
      "tradeshare     1.6809      0.987      1.702      0.094      -0.293       3.655\n",
      "==============================================================================\n",
      "Omnibus:                        3.727   Durbin-Watson:                   2.204\n",
      "Prob(Omnibus):                  0.155   Jarque-Bera (JB):                3.709\n",
      "Skew:                           0.146   Prob(JB):                        0.157\n",
      "Kurtosis:                       4.142   Cond. No.                         5.77\n",
      "==============================================================================\n",
      "\n",
      "Notes:\n",
      "[1] Standard Errors assume that the covariance matrix of the errors is correctly specified.\n"
     ]
    }
   ],
   "source": [
    "model2 = smf.ols(formula,df_xm).fit() # Running the regression of growth on tradeshare\n",
    "print(model2.summary()) # Print out the result of the regression"
   ]
  },
  {
   "cell_type": "code",
   "execution_count": 11,
   "id": "cac8945d",
   "metadata": {
    "colab": {
     "base_uri": "https://localhost:8080/"
    },
    "id": "cac8945d",
    "outputId": "a914b3d2-429f-4925-a408-c1935f60c5cb"
   },
   "outputs": [
    {
     "data": {
      "text/plain": [
       "Intercept     0.957411\n",
       "tradeshare    1.680905\n",
       "dtype: float64"
      ]
     },
     "execution_count": 11,
     "metadata": {},
     "output_type": "execute_result"
    }
   ],
   "source": [
    "model2.params"
   ]
  },
  {
   "cell_type": "markdown",
   "id": "5c578e46",
   "metadata": {
    "id": "5c578e46"
   },
   "source": [
    "<b> 6. Plot the estimated regression functions from 3. and 5. Why is the slope of the regression function containing Malta steeper than the regression function that excludes Malta? Should Malta be included or excluded from the analysis? <b/>"
   ]
  },
  {
   "cell_type": "code",
   "execution_count": 12,
   "id": "94f237b7",
   "metadata": {
    "id": "94f237b7",
    "outputId": "68f4afd8-5e05-4abf-b0a1-8fdd344cf99f"
   },
   "outputs": [
    {
     "data": {
      "text/plain": [
       "<function matplotlib.pyplot.show(close=None, block=None)>"
      ]
     },
     "execution_count": 12,
     "metadata": {},
     "output_type": "execute_result"
    },
    {
     "data": {
      "image/png": "[encoded data removed]",
      "text/plain": [
       "<Figure size 640x480 with 1 Axes>"
      ]
     },
     "metadata": {},
     "output_type": "display_data"
    }
   ],
   "source": [
    "# Creating the estimated regression line for the tradeshare values including Malta\n",
    "\n",
    "y_hat = model.params.Intercept + model.params.tradeshare*df.tradeshare\n",
    "y_hat\n",
    "\n",
    "# Creating the estimated regression line for the tradeshare values excluding Malta\n",
    "\n",
    "y_hat_xm = model2.params.Intercept + model2.params.tradeshare*df.tradeshare\n",
    "y_hat_xm\n",
    "\n",
    "# Creating a scatterplot with both regression lines\n",
    "\n",
    "plt.scatter(df.tradeshare,df.growth,color='k')           # Scatterplot: points in black\n",
    "plt.plot(df.tradeshare,y_hat,color='g')                  # Regression line including Malta in green\n",
    "plt.plot(df.tradeshare,y_hat_xm,color='r')               # Regression line excluding Malta in red\n",
    "\n",
    "plt.text(0.9, 4.5, s=\"growth = 0.640265 + 2.306434 x tradeshare\", fontdict=dict(color=\"g\", alpha=0.5, size=14))\n",
    "plt.text(0.9, 1.5, s=\"growth = 0.957411 + 1.680905 x tradeshare\", fontdict=dict(color=\"r\", alpha=0.5, size=14))\n",
    "\n",
    "title = \"Growth and Trade Share relationship\"\n",
    "\n",
    "plt.title(title)                             # Plot title\n",
    "plt.xlabel(\"tradeshare\")                     # Plot x-axis label\n",
    "plt.ylabel(\"growth\")                         # Plot y-axis label\n",
    "\n",
    "plt.show"
   ]
  },
  {
   "cell_type": "markdown",
   "id": "4GPRM0sdp5HK",
   "metadata": {
    "id": "4GPRM0sdp5HK"
   },
   "source": [
    "The presence of an outlier can cause the regression slope to be steeper for the regression that contains Malta in its sample. Since the presence of an outlier can affect the quality of the regression estimates, the value for Malta could be excluded from the analysis."
   ]
  }
 ],
 "metadata": {
  "colab": {
   "provenance": []
  },
  "kernelspec": {
   "display_name": "Python 3 (ipykernel)",
   "language": "python",
   "name": "python3"
  },
  "language_info": {
   "codemirror_mode": {
    "name": "ipython",
    "version": 3
   },
   "file_extension": ".py",
   "mimetype": "text/x-python",
   "name": "python",
   "nbconvert_exporter": "python",
   "pygments_lexer": "ipython3",
   "version": "3.12.4"
  }
 },
 "nbformat": 4,
 "nbformat_minor": 5
}
